{
 "cells": [
  {
   "cell_type": "code",
   "execution_count": 15,
   "metadata": {},
   "outputs": [
    {
     "name": "stdout",
     "output_type": "stream",
     "text": [
      "--\n",
      "Tracking num of observation after featrue selection\n",
      "Before selection:  3379389\n",
      "After selection:  1805604\n",
      "Complete featrue selection\n",
      "Start Tabularize Part- 0\n",
      "Number of patient:  48\n"
     ]
    },
    {
     "name": "stderr",
     "output_type": "stream",
     "text": [
      "Tabularize EHR part-0: 100%|██████████| 48/48 [00:02<00:00, 19.63it/s]\n"
     ]
    },
    {
     "name": "stdout",
     "output_type": "stream",
     "text": [
      "[ SUCCESSFULLY SAVED TOTAL UNIT STAY DATA ]\n",
      "--\n",
      "--\n",
      "Tracking num of observation after featrue selection\n",
      "Before selection:  3761035\n",
      "After selection:  1892773\n",
      "Complete featrue selection\n",
      "Start Tabularize Part- 1\n",
      "Number of patient:  53\n"
     ]
    },
    {
     "name": "stderr",
     "output_type": "stream",
     "text": [
      "Tabularize EHR part-1: 100%|██████████| 53/53 [00:03<00:00, 14.23it/s]\n"
     ]
    },
    {
     "name": "stdout",
     "output_type": "stream",
     "text": [
      "[ SUCCESSFULLY SAVED TOTAL UNIT STAY DATA ]\n",
      "--\n",
      "--\n",
      "Tracking num of observation after featrue selection\n",
      "Before selection:  2686589\n",
      "After selection:  1452137\n",
      "Complete featrue selection\n",
      "Start Tabularize Part- 2\n",
      "Number of patient:  41\n"
     ]
    },
    {
     "name": "stderr",
     "output_type": "stream",
     "text": [
      "Tabularize EHR part-2: 100%|██████████| 41/41 [00:01<00:00, 20.50it/s]\n"
     ]
    },
    {
     "name": "stdout",
     "output_type": "stream",
     "text": [
      "[ SUCCESSFULLY SAVED TOTAL UNIT STAY DATA ]\n",
      "--\n",
      "--\n",
      "Tracking num of observation after featrue selection\n",
      "Before selection:  2745440\n",
      "After selection:  1547869\n",
      "Complete featrue selection\n",
      "Start Tabularize Part- 3\n",
      "Number of patient:  50\n"
     ]
    },
    {
     "name": "stderr",
     "output_type": "stream",
     "text": [
      "Tabularize EHR part-3: 100%|██████████| 50/50 [00:02<00:00, 19.81it/s]\n"
     ]
    },
    {
     "name": "stdout",
     "output_type": "stream",
     "text": [
      "[ SUCCESSFULLY SAVED TOTAL UNIT STAY DATA ]\n",
      "--\n",
      "--\n",
      "Tracking num of observation after featrue selection\n",
      "Before selection:  2457575\n",
      "After selection:  1334034\n",
      "Complete featrue selection\n",
      "Start Tabularize Part- 4\n",
      "Number of patient:  33\n"
     ]
    },
    {
     "name": "stderr",
     "output_type": "stream",
     "text": [
      "Tabularize EHR part-4: 100%|██████████| 33/33 [00:01<00:00, 20.77it/s]\n"
     ]
    },
    {
     "name": "stdout",
     "output_type": "stream",
     "text": [
      "[ SUCCESSFULLY SAVED TOTAL UNIT STAY DATA ]\n",
      "--\n",
      "--\n",
      "Tracking num of observation after featrue selection\n",
      "Before selection:  2478053\n",
      "After selection:  1317815\n",
      "Complete featrue selection\n",
      "Start Tabularize Part- 5\n",
      "Number of patient:  43\n"
     ]
    },
    {
     "name": "stderr",
     "output_type": "stream",
     "text": [
      "Tabularize EHR part-5: 100%|██████████| 43/43 [00:01<00:00, 21.87it/s]\n"
     ]
    },
    {
     "name": "stdout",
     "output_type": "stream",
     "text": [
      "[ SUCCESSFULLY SAVED TOTAL UNIT STAY DATA ]\n",
      "--\n",
      "--\n",
      "Tracking num of observation after featrue selection\n",
      "Before selection:  4848781\n",
      "After selection:  2608968\n",
      "Complete featrue selection\n",
      "Start Tabularize Part- 6\n",
      "Number of patient:  46\n"
     ]
    },
    {
     "name": "stderr",
     "output_type": "stream",
     "text": [
      "Tabularize EHR part-6: 100%|██████████| 46/46 [00:03<00:00, 15.05it/s]\n"
     ]
    },
    {
     "name": "stdout",
     "output_type": "stream",
     "text": [
      "[ SUCCESSFULLY SAVED TOTAL UNIT STAY DATA ]\n",
      "--\n",
      "--\n",
      "Tracking num of observation after featrue selection\n",
      "Before selection:  2237794\n",
      "After selection:  1260698\n",
      "Complete featrue selection\n",
      "Start Tabularize Part- 7\n",
      "Number of patient:  34\n"
     ]
    },
    {
     "name": "stderr",
     "output_type": "stream",
     "text": [
      "Tabularize EHR part-7: 100%|██████████| 34/34 [00:01<00:00, 23.15it/s]\n"
     ]
    },
    {
     "name": "stdout",
     "output_type": "stream",
     "text": [
      "[ SUCCESSFULLY SAVED TOTAL UNIT STAY DATA ]\n",
      "--\n",
      "--\n",
      "Tracking num of observation after featrue selection\n",
      "Before selection:  3921273\n",
      "After selection:  2217335\n",
      "Complete featrue selection\n",
      "Start Tabularize Part- 8\n",
      "Number of patient:  58\n"
     ]
    },
    {
     "name": "stderr",
     "output_type": "stream",
     "text": [
      "Tabularize EHR part-8: 100%|██████████| 58/58 [00:05<00:00, 11.27it/s]\n"
     ]
    },
    {
     "name": "stdout",
     "output_type": "stream",
     "text": [
      "[ SUCCESSFULLY SAVED TOTAL UNIT STAY DATA ]\n",
      "--\n",
      "--\n",
      "Tracking num of observation after featrue selection\n",
      "Before selection:  3248226\n",
      "After selection:  1746732\n",
      "Complete featrue selection\n",
      "Start Tabularize Part- 9\n",
      "Number of patient:  35\n"
     ]
    },
    {
     "name": "stderr",
     "output_type": "stream",
     "text": [
      "Tabularize EHR part-9: 100%|██████████| 35/35 [00:01<00:00, 20.95it/s]\n"
     ]
    },
    {
     "name": "stdout",
     "output_type": "stream",
     "text": [
      "[ SUCCESSFULLY SAVED TOTAL UNIT STAY DATA ]\n",
      "--\n",
      "--\n",
      "Tracking num of observation after featrue selection\n",
      "Before selection:  3702497\n",
      "After selection:  1917008\n",
      "Complete featrue selection\n",
      "Start Tabularize Part- 10\n",
      "Number of patient:  49\n"
     ]
    },
    {
     "name": "stderr",
     "output_type": "stream",
     "text": [
      "Tabularize EHR part-10: 100%|██████████| 49/49 [00:02<00:00, 18.52it/s]\n"
     ]
    },
    {
     "name": "stdout",
     "output_type": "stream",
     "text": [
      "[ SUCCESSFULLY SAVED TOTAL UNIT STAY DATA ]\n",
      "--\n",
      "--\n",
      "Tracking num of observation after featrue selection\n",
      "Before selection:  2646269\n",
      "After selection:  1439183\n",
      "Complete featrue selection\n",
      "Start Tabularize Part- 11\n",
      "Number of patient:  35\n"
     ]
    },
    {
     "name": "stderr",
     "output_type": "stream",
     "text": [
      "Tabularize EHR part-11: 100%|██████████| 35/35 [00:01<00:00, 24.11it/s]\n"
     ]
    },
    {
     "name": "stdout",
     "output_type": "stream",
     "text": [
      "[ SUCCESSFULLY SAVED TOTAL UNIT STAY DATA ]\n",
      "--\n",
      "--\n",
      "Tracking num of observation after featrue selection\n",
      "Before selection:  3123658\n",
      "After selection:  1701654\n",
      "Complete featrue selection\n",
      "Start Tabularize Part- 12\n",
      "Number of patient:  49\n"
     ]
    },
    {
     "name": "stderr",
     "output_type": "stream",
     "text": [
      "Tabularize EHR part-12: 100%|██████████| 49/49 [00:03<00:00, 12.34it/s]\n"
     ]
    },
    {
     "name": "stdout",
     "output_type": "stream",
     "text": [
      "[ SUCCESSFULLY SAVED TOTAL UNIT STAY DATA ]\n",
      "--\n",
      "--\n",
      "Tracking num of observation after featrue selection\n",
      "Before selection:  3815308\n",
      "After selection:  2043425\n",
      "Complete featrue selection\n",
      "Start Tabularize Part- 13\n",
      "Number of patient:  53\n"
     ]
    },
    {
     "name": "stderr",
     "output_type": "stream",
     "text": [
      "Tabularize EHR part-13: 100%|██████████| 53/53 [00:04<00:00, 11.94it/s]\n"
     ]
    },
    {
     "name": "stdout",
     "output_type": "stream",
     "text": [
      "[ SUCCESSFULLY SAVED TOTAL UNIT STAY DATA ]\n",
      "--\n",
      "--\n",
      "Tracking num of observation after featrue selection\n",
      "Before selection:  3390614\n",
      "After selection:  1915425\n",
      "Complete featrue selection\n",
      "Start Tabularize Part- 14\n",
      "Number of patient:  41\n"
     ]
    },
    {
     "name": "stderr",
     "output_type": "stream",
     "text": [
      "Tabularize EHR part-14: 100%|██████████| 41/41 [00:03<00:00, 12.66it/s]\n"
     ]
    },
    {
     "name": "stdout",
     "output_type": "stream",
     "text": [
      "[ SUCCESSFULLY SAVED TOTAL UNIT STAY DATA ]\n",
      "--\n",
      "--\n",
      "Tracking num of observation after featrue selection\n",
      "Before selection:  2954339\n",
      "After selection:  1587995\n",
      "Complete featrue selection\n",
      "Start Tabularize Part- 15\n",
      "Number of patient:  42\n"
     ]
    },
    {
     "name": "stderr",
     "output_type": "stream",
     "text": [
      "Tabularize EHR part-15: 100%|██████████| 42/42 [00:03<00:00, 13.12it/s]\n"
     ]
    },
    {
     "name": "stdout",
     "output_type": "stream",
     "text": [
      "[ SUCCESSFULLY SAVED TOTAL UNIT STAY DATA ]\n",
      "--\n",
      "--\n",
      "Tracking num of observation after featrue selection\n",
      "Before selection:  2397695\n",
      "After selection:  1325990\n",
      "Complete featrue selection\n",
      "Start Tabularize Part- 16\n",
      "Number of patient:  32\n"
     ]
    },
    {
     "name": "stderr",
     "output_type": "stream",
     "text": [
      "Tabularize EHR part-16: 100%|██████████| 32/32 [00:02<00:00, 15.24it/s]\n"
     ]
    },
    {
     "name": "stdout",
     "output_type": "stream",
     "text": [
      "[ SUCCESSFULLY SAVED TOTAL UNIT STAY DATA ]\n",
      "--\n",
      "--\n",
      "Tracking num of observation after featrue selection\n",
      "Before selection:  2949738\n",
      "After selection:  1527070\n",
      "Complete featrue selection\n",
      "Start Tabularize Part- 17\n",
      "Number of patient:  42\n"
     ]
    },
    {
     "name": "stderr",
     "output_type": "stream",
     "text": [
      "Tabularize EHR part-17: 100%|██████████| 42/42 [00:03<00:00, 13.27it/s]\n"
     ]
    },
    {
     "name": "stdout",
     "output_type": "stream",
     "text": [
      "[ SUCCESSFULLY SAVED TOTAL UNIT STAY DATA ]\n",
      "--\n",
      "--\n",
      "Tracking num of observation after featrue selection\n",
      "Before selection:  3263705\n",
      "After selection:  1671762\n",
      "Complete featrue selection\n",
      "Start Tabularize Part- 18\n",
      "Number of patient:  42\n"
     ]
    },
    {
     "name": "stderr",
     "output_type": "stream",
     "text": [
      "Tabularize EHR part-18: 100%|██████████| 42/42 [00:03<00:00, 13.85it/s]\n"
     ]
    },
    {
     "name": "stdout",
     "output_type": "stream",
     "text": [
      "[ SUCCESSFULLY SAVED TOTAL UNIT STAY DATA ]\n",
      "--\n",
      "--\n",
      "Tracking num of observation after featrue selection\n",
      "Before selection:  3035672\n",
      "After selection:  1603293\n",
      "Complete featrue selection\n",
      "Start Tabularize Part- 19\n",
      "Number of patient:  41\n"
     ]
    },
    {
     "name": "stderr",
     "output_type": "stream",
     "text": [
      "Tabularize EHR part-19: 100%|██████████| 41/41 [00:03<00:00, 12.54it/s]\n"
     ]
    },
    {
     "name": "stdout",
     "output_type": "stream",
     "text": [
      "[ SUCCESSFULLY SAVED TOTAL UNIT STAY DATA ]\n",
      "--\n",
      "--\n",
      "Tracking num of observation after featrue selection\n",
      "Before selection:  1870596\n",
      "After selection:  1020727\n",
      "Complete featrue selection\n",
      "Start Tabularize Part- 20\n",
      "Number of patient:  28\n"
     ]
    },
    {
     "name": "stderr",
     "output_type": "stream",
     "text": [
      "Tabularize EHR part-20: 100%|██████████| 28/28 [00:01<00:00, 17.27it/s]\n"
     ]
    },
    {
     "name": "stdout",
     "output_type": "stream",
     "text": [
      "[ SUCCESSFULLY SAVED TOTAL UNIT STAY DATA ]\n",
      "--\n",
      "--\n",
      "Tracking num of observation after featrue selection\n",
      "Before selection:  3203051\n",
      "After selection:  1715304\n",
      "Complete featrue selection\n",
      "Start Tabularize Part- 21\n",
      "Number of patient:  50\n"
     ]
    },
    {
     "name": "stderr",
     "output_type": "stream",
     "text": [
      "Tabularize EHR part-21: 100%|██████████| 50/50 [00:03<00:00, 14.50it/s]\n"
     ]
    },
    {
     "name": "stdout",
     "output_type": "stream",
     "text": [
      "[ SUCCESSFULLY SAVED TOTAL UNIT STAY DATA ]\n",
      "--\n",
      "--\n",
      "Tracking num of observation after featrue selection\n",
      "Before selection:  3023067\n",
      "After selection:  1708937\n",
      "Complete featrue selection\n",
      "Start Tabularize Part- 22\n",
      "Number of patient:  41\n"
     ]
    },
    {
     "name": "stderr",
     "output_type": "stream",
     "text": [
      "Tabularize EHR part-22: 100%|██████████| 41/41 [00:03<00:00, 13.53it/s]\n"
     ]
    },
    {
     "name": "stdout",
     "output_type": "stream",
     "text": [
      "[ SUCCESSFULLY SAVED TOTAL UNIT STAY DATA ]\n",
      "--\n",
      "--\n",
      "Tracking num of observation after featrue selection\n",
      "Before selection:  2712649\n",
      "After selection:  1432270\n",
      "Complete featrue selection\n",
      "Start Tabularize Part- 23\n",
      "Number of patient:  44\n"
     ]
    },
    {
     "name": "stderr",
     "output_type": "stream",
     "text": [
      "Tabularize EHR part-23: 100%|██████████| 44/44 [00:03<00:00, 14.31it/s]\n"
     ]
    },
    {
     "name": "stdout",
     "output_type": "stream",
     "text": [
      "[ SUCCESSFULLY SAVED TOTAL UNIT STAY DATA ]\n",
      "--\n",
      "--\n",
      "Tracking num of observation after featrue selection\n",
      "Before selection:  3595053\n",
      "After selection:  1840681\n",
      "Complete featrue selection\n",
      "Start Tabularize Part- 24\n",
      "Number of patient:  60\n"
     ]
    },
    {
     "name": "stderr",
     "output_type": "stream",
     "text": [
      "Tabularize EHR part-24: 100%|██████████| 60/60 [00:05<00:00, 10.56it/s]\n"
     ]
    },
    {
     "name": "stdout",
     "output_type": "stream",
     "text": [
      "[ SUCCESSFULLY SAVED TOTAL UNIT STAY DATA ]\n",
      "--\n",
      "--\n",
      "Tracking num of observation after featrue selection\n",
      "Before selection:  2175331\n",
      "After selection:  1176509\n",
      "Complete featrue selection\n",
      "Start Tabularize Part- 25\n",
      "Number of patient:  38\n"
     ]
    },
    {
     "name": "stderr",
     "output_type": "stream",
     "text": [
      "Tabularize EHR part-25: 100%|██████████| 38/38 [00:02<00:00, 13.94it/s]\n"
     ]
    },
    {
     "name": "stdout",
     "output_type": "stream",
     "text": [
      "[ SUCCESSFULLY SAVED TOTAL UNIT STAY DATA ]\n",
      "--\n",
      "--\n",
      "Tracking num of observation after featrue selection\n",
      "Before selection:  4617819\n",
      "After selection:  2520909\n",
      "Complete featrue selection\n",
      "Start Tabularize Part- 26\n",
      "Number of patient:  49\n"
     ]
    },
    {
     "name": "stderr",
     "output_type": "stream",
     "text": [
      "Tabularize EHR part-26: 100%|██████████| 49/49 [00:05<00:00,  9.00it/s]\n"
     ]
    },
    {
     "name": "stdout",
     "output_type": "stream",
     "text": [
      "[ SUCCESSFULLY SAVED TOTAL UNIT STAY DATA ]\n",
      "--\n",
      "--\n",
      "Tracking num of observation after featrue selection\n",
      "Before selection:  3034297\n",
      "After selection:  1641386\n",
      "Complete featrue selection\n",
      "Start Tabularize Part- 27\n",
      "Number of patient:  48\n"
     ]
    },
    {
     "name": "stderr",
     "output_type": "stream",
     "text": [
      "Tabularize EHR part-27: 100%|██████████| 48/48 [00:04<00:00, 11.48it/s]\n"
     ]
    },
    {
     "name": "stdout",
     "output_type": "stream",
     "text": [
      "[ SUCCESSFULLY SAVED TOTAL UNIT STAY DATA ]\n",
      "--\n",
      "--\n",
      "Tracking num of observation after featrue selection\n",
      "Before selection:  2488856\n",
      "After selection:  1420719\n",
      "Complete featrue selection\n",
      "Start Tabularize Part- 28\n",
      "Number of patient:  40\n"
     ]
    },
    {
     "name": "stderr",
     "output_type": "stream",
     "text": [
      "Tabularize EHR part-28: 100%|██████████| 40/40 [00:02<00:00, 14.18it/s]\n"
     ]
    },
    {
     "name": "stdout",
     "output_type": "stream",
     "text": [
      "[ SUCCESSFULLY SAVED TOTAL UNIT STAY DATA ]\n",
      "--\n",
      "--\n",
      "Tracking num of observation after featrue selection\n",
      "Before selection:  2814007\n",
      "After selection:  1542696\n",
      "Complete featrue selection\n",
      "Start Tabularize Part- 29\n",
      "Number of patient:  37\n"
     ]
    },
    {
     "name": "stderr",
     "output_type": "stream",
     "text": [
      "Tabularize EHR part-29: 100%|██████████| 37/37 [00:02<00:00, 14.97it/s]\n"
     ]
    },
    {
     "name": "stdout",
     "output_type": "stream",
     "text": [
      "[ SUCCESSFULLY SAVED TOTAL UNIT STAY DATA ]\n",
      "--\n",
      "--\n",
      "Tracking num of observation after featrue selection\n",
      "Before selection:  2811788\n",
      "After selection:  1621102\n",
      "Complete featrue selection\n",
      "Start Tabularize Part- 30\n",
      "Number of patient:  30\n"
     ]
    },
    {
     "name": "stderr",
     "output_type": "stream",
     "text": [
      "Tabularize EHR part-30: 100%|██████████| 30/30 [00:02<00:00, 12.37it/s]\n"
     ]
    },
    {
     "name": "stdout",
     "output_type": "stream",
     "text": [
      "[ SUCCESSFULLY SAVED TOTAL UNIT STAY DATA ]\n",
      "--\n",
      "--\n",
      "Tracking num of observation after featrue selection\n",
      "Before selection:  2802235\n",
      "After selection:  1474866\n",
      "Complete featrue selection\n",
      "Start Tabularize Part- 31\n",
      "Number of patient:  35\n"
     ]
    },
    {
     "name": "stderr",
     "output_type": "stream",
     "text": [
      "Tabularize EHR part-31: 100%|██████████| 35/35 [00:02<00:00, 12.49it/s]\n"
     ]
    },
    {
     "name": "stdout",
     "output_type": "stream",
     "text": [
      "[ SUCCESSFULLY SAVED TOTAL UNIT STAY DATA ]\n",
      "--\n",
      "--\n",
      "Tracking num of observation after featrue selection\n",
      "Before selection:  4480173\n",
      "After selection:  2469495\n",
      "Complete featrue selection\n",
      "Start Tabularize Part- 32\n",
      "Number of patient:  56\n"
     ]
    },
    {
     "name": "stderr",
     "output_type": "stream",
     "text": [
      "Tabularize EHR part-32: 100%|██████████| 56/56 [00:05<00:00,  9.78it/s]\n"
     ]
    },
    {
     "name": "stdout",
     "output_type": "stream",
     "text": [
      "[ SUCCESSFULLY SAVED TOTAL UNIT STAY DATA ]\n",
      "--\n",
      "--\n",
      "Tracking num of observation after featrue selection\n",
      "Before selection:  3939805\n",
      "After selection:  2183638\n",
      "Complete featrue selection\n",
      "Start Tabularize Part- 33\n",
      "Number of patient:  50\n"
     ]
    },
    {
     "name": "stderr",
     "output_type": "stream",
     "text": [
      "Tabularize EHR part-33: 100%|██████████| 50/50 [00:04<00:00, 10.65it/s]\n"
     ]
    },
    {
     "name": "stdout",
     "output_type": "stream",
     "text": [
      "[ SUCCESSFULLY SAVED TOTAL UNIT STAY DATA ]\n",
      "--\n",
      "--\n",
      "Tracking num of observation after featrue selection\n",
      "Before selection:  3090630\n",
      "After selection:  1604796\n",
      "Complete featrue selection\n",
      "Start Tabularize Part- 34\n",
      "Number of patient:  51\n"
     ]
    },
    {
     "name": "stderr",
     "output_type": "stream",
     "text": [
      "Tabularize EHR part-34: 100%|██████████| 51/51 [00:02<00:00, 19.95it/s]\n"
     ]
    },
    {
     "name": "stdout",
     "output_type": "stream",
     "text": [
      "[ SUCCESSFULLY SAVED TOTAL UNIT STAY DATA ]\n",
      "--\n",
      "--\n",
      "Tracking num of observation after featrue selection\n",
      "Before selection:  3208957\n",
      "After selection:  1676266\n",
      "Complete featrue selection\n",
      "Start Tabularize Part- 35\n",
      "Number of patient:  48\n"
     ]
    },
    {
     "name": "stderr",
     "output_type": "stream",
     "text": [
      "Tabularize EHR part-35: 100%|██████████| 48/48 [00:02<00:00, 20.70it/s]\n"
     ]
    },
    {
     "name": "stdout",
     "output_type": "stream",
     "text": [
      "[ SUCCESSFULLY SAVED TOTAL UNIT STAY DATA ]\n",
      "--\n",
      "--\n",
      "Tracking num of observation after featrue selection\n",
      "Before selection:  3343158\n",
      "After selection:  1781490\n",
      "Complete featrue selection\n",
      "Start Tabularize Part- 36\n",
      "Number of patient:  38\n"
     ]
    },
    {
     "name": "stderr",
     "output_type": "stream",
     "text": [
      "Tabularize EHR part-36: 100%|██████████| 38/38 [00:01<00:00, 21.73it/s]\n"
     ]
    },
    {
     "name": "stdout",
     "output_type": "stream",
     "text": [
      "[ SUCCESSFULLY SAVED TOTAL UNIT STAY DATA ]\n",
      "--\n",
      "--\n",
      "Tracking num of observation after featrue selection\n",
      "Before selection:  2624705\n",
      "After selection:  1454484\n",
      "Complete featrue selection\n",
      "Start Tabularize Part- 37\n",
      "Number of patient:  40\n"
     ]
    },
    {
     "name": "stderr",
     "output_type": "stream",
     "text": [
      "Tabularize EHR part-37: 100%|██████████| 40/40 [00:01<00:00, 20.25it/s]\n"
     ]
    },
    {
     "name": "stdout",
     "output_type": "stream",
     "text": [
      "[ SUCCESSFULLY SAVED TOTAL UNIT STAY DATA ]\n",
      "--\n",
      "--\n",
      "Tracking num of observation after featrue selection\n",
      "Before selection:  4555063\n",
      "After selection:  2611515\n",
      "Complete featrue selection\n",
      "Start Tabularize Part- 38\n",
      "Number of patient:  46\n"
     ]
    },
    {
     "name": "stderr",
     "output_type": "stream",
     "text": [
      "Tabularize EHR part-38: 100%|██████████| 46/46 [00:03<00:00, 15.00it/s]\n"
     ]
    },
    {
     "name": "stdout",
     "output_type": "stream",
     "text": [
      "[ SUCCESSFULLY SAVED TOTAL UNIT STAY DATA ]\n",
      "--\n",
      "--\n",
      "Tracking num of observation after featrue selection\n",
      "Before selection:  3159518\n",
      "After selection:  1648101\n",
      "Complete featrue selection\n",
      "Start Tabularize Part- 39\n",
      "Number of patient:  38\n"
     ]
    },
    {
     "name": "stderr",
     "output_type": "stream",
     "text": [
      "Tabularize EHR part-39: 100%|██████████| 38/38 [00:01<00:00, 20.29it/s]\n"
     ]
    },
    {
     "name": "stdout",
     "output_type": "stream",
     "text": [
      "[ SUCCESSFULLY SAVED TOTAL UNIT STAY DATA ]\n",
      "--\n",
      "--\n",
      "Tracking num of observation after featrue selection\n",
      "Before selection:  2969048\n",
      "After selection:  1492386\n",
      "Complete featrue selection\n",
      "Start Tabularize Part- 40\n",
      "Number of patient:  47\n"
     ]
    },
    {
     "name": "stderr",
     "output_type": "stream",
     "text": [
      "Tabularize EHR part-40: 100%|██████████| 47/47 [00:02<00:00, 22.84it/s]\n"
     ]
    },
    {
     "name": "stdout",
     "output_type": "stream",
     "text": [
      "[ SUCCESSFULLY SAVED TOTAL UNIT STAY DATA ]\n",
      "--\n",
      "--\n",
      "Tracking num of observation after featrue selection\n",
      "Before selection:  4004765\n",
      "After selection:  2074414\n",
      "Complete featrue selection\n",
      "Start Tabularize Part- 41\n",
      "Number of patient:  39\n"
     ]
    },
    {
     "name": "stderr",
     "output_type": "stream",
     "text": [
      "Tabularize EHR part-41: 100%|██████████| 39/39 [00:02<00:00, 19.16it/s]\n"
     ]
    },
    {
     "name": "stdout",
     "output_type": "stream",
     "text": [
      "[ SUCCESSFULLY SAVED TOTAL UNIT STAY DATA ]\n",
      "--\n",
      "--\n",
      "Tracking num of observation after featrue selection\n",
      "Before selection:  3321564\n",
      "After selection:  1749808\n",
      "Complete featrue selection\n",
      "Start Tabularize Part- 42\n",
      "Number of patient:  44\n"
     ]
    },
    {
     "name": "stderr",
     "output_type": "stream",
     "text": [
      "Tabularize EHR part-42: 100%|██████████| 44/44 [00:02<00:00, 21.49it/s]\n"
     ]
    },
    {
     "name": "stdout",
     "output_type": "stream",
     "text": [
      "[ SUCCESSFULLY SAVED TOTAL UNIT STAY DATA ]\n",
      "--\n",
      "--\n",
      "Tracking num of observation after featrue selection\n",
      "Before selection:  3926211\n",
      "After selection:  2118931\n",
      "Complete featrue selection\n",
      "Start Tabularize Part- 43\n",
      "Number of patient:  48\n"
     ]
    },
    {
     "name": "stderr",
     "output_type": "stream",
     "text": [
      "Tabularize EHR part-43: 100%|██████████| 48/48 [00:02<00:00, 18.03it/s]\n"
     ]
    },
    {
     "name": "stdout",
     "output_type": "stream",
     "text": [
      "[ SUCCESSFULLY SAVED TOTAL UNIT STAY DATA ]\n",
      "--\n",
      "--\n",
      "Tracking num of observation after featrue selection\n",
      "Before selection:  4315879\n",
      "After selection:  2354742\n",
      "Complete featrue selection\n",
      "Start Tabularize Part- 44\n",
      "Number of patient:  49\n"
     ]
    },
    {
     "name": "stderr",
     "output_type": "stream",
     "text": [
      "Tabularize EHR part-44: 100%|██████████| 49/49 [00:02<00:00, 19.39it/s]\n"
     ]
    },
    {
     "name": "stdout",
     "output_type": "stream",
     "text": [
      "[ SUCCESSFULLY SAVED TOTAL UNIT STAY DATA ]\n",
      "--\n",
      "--\n",
      "Tracking num of observation after featrue selection\n",
      "Before selection:  3782332\n",
      "After selection:  2068559\n",
      "Complete featrue selection\n",
      "Start Tabularize Part- 45\n",
      "Number of patient:  47\n"
     ]
    },
    {
     "name": "stderr",
     "output_type": "stream",
     "text": [
      "Tabularize EHR part-45: 100%|██████████| 47/47 [00:02<00:00, 19.12it/s]\n"
     ]
    },
    {
     "name": "stdout",
     "output_type": "stream",
     "text": [
      "[ SUCCESSFULLY SAVED TOTAL UNIT STAY DATA ]\n",
      "--\n",
      "--\n",
      "Tracking num of observation after featrue selection\n",
      "Before selection:  2748706\n",
      "After selection:  1419229\n",
      "Complete featrue selection\n",
      "Start Tabularize Part- 46\n",
      "Number of patient:  36\n"
     ]
    },
    {
     "name": "stderr",
     "output_type": "stream",
     "text": [
      "Tabularize EHR part-46: 100%|██████████| 36/36 [00:01<00:00, 20.27it/s]\n"
     ]
    },
    {
     "name": "stdout",
     "output_type": "stream",
     "text": [
      "[ SUCCESSFULLY SAVED TOTAL UNIT STAY DATA ]\n",
      "--\n",
      "--\n",
      "Tracking num of observation after featrue selection\n",
      "Before selection:  3668901\n",
      "After selection:  1900897\n",
      "Complete featrue selection\n",
      "Start Tabularize Part- 47\n",
      "Number of patient:  39\n"
     ]
    },
    {
     "name": "stderr",
     "output_type": "stream",
     "text": [
      "Tabularize EHR part-47: 100%|██████████| 39/39 [00:02<00:00, 17.63it/s]\n"
     ]
    },
    {
     "name": "stdout",
     "output_type": "stream",
     "text": [
      "[ SUCCESSFULLY SAVED TOTAL UNIT STAY DATA ]\n",
      "--\n",
      "--\n",
      "Tracking num of observation after featrue selection\n",
      "Before selection:  3349179\n",
      "After selection:  1889699\n",
      "Complete featrue selection\n",
      "Start Tabularize Part- 48\n",
      "Number of patient:  41\n"
     ]
    },
    {
     "name": "stderr",
     "output_type": "stream",
     "text": [
      "Tabularize EHR part-48: 100%|██████████| 41/41 [00:02<00:00, 18.79it/s]\n"
     ]
    },
    {
     "name": "stdout",
     "output_type": "stream",
     "text": [
      "[ SUCCESSFULLY SAVED TOTAL UNIT STAY DATA ]\n",
      "--\n",
      "--\n",
      "Tracking num of observation after featrue selection\n",
      "Before selection:  2764231\n",
      "After selection:  1496080\n",
      "Complete featrue selection\n",
      "Start Tabularize Part- 49\n",
      "Number of patient:  38\n"
     ]
    },
    {
     "name": "stderr",
     "output_type": "stream",
     "text": [
      "Tabularize EHR part-49: 100%|██████████| 38/38 [00:01<00:00, 21.88it/s]\n"
     ]
    },
    {
     "name": "stdout",
     "output_type": "stream",
     "text": [
      "[ SUCCESSFULLY SAVED TOTAL UNIT STAY DATA ]\n",
      "--\n",
      "--\n",
      "Tracking num of observation after featrue selection\n",
      "Before selection:  3644998\n",
      "After selection:  1938073\n",
      "Complete featrue selection\n",
      "Start Tabularize Part- 50\n",
      "Number of patient:  56\n"
     ]
    },
    {
     "name": "stderr",
     "output_type": "stream",
     "text": [
      "Tabularize EHR part-50: 100%|██████████| 56/56 [00:02<00:00, 19.40it/s]\n"
     ]
    },
    {
     "name": "stdout",
     "output_type": "stream",
     "text": [
      "[ SUCCESSFULLY SAVED TOTAL UNIT STAY DATA ]\n",
      "--\n",
      "--\n",
      "Tracking num of observation after featrue selection\n",
      "Before selection:  3637454\n",
      "After selection:  2118183\n",
      "Complete featrue selection\n",
      "Start Tabularize Part- 51\n",
      "Number of patient:  35\n"
     ]
    },
    {
     "name": "stderr",
     "output_type": "stream",
     "text": [
      "Tabularize EHR part-51: 100%|██████████| 35/35 [00:01<00:00, 18.70it/s]\n"
     ]
    },
    {
     "name": "stdout",
     "output_type": "stream",
     "text": [
      "[ SUCCESSFULLY SAVED TOTAL UNIT STAY DATA ]\n",
      "--\n",
      "--\n",
      "Tracking num of observation after featrue selection\n",
      "Before selection:  3719347\n",
      "After selection:  2084214\n",
      "Complete featrue selection\n",
      "Start Tabularize Part- 52\n",
      "Number of patient:  54\n"
     ]
    },
    {
     "name": "stderr",
     "output_type": "stream",
     "text": [
      "Tabularize EHR part-52: 100%|██████████| 54/54 [00:02<00:00, 19.95it/s]\n"
     ]
    },
    {
     "name": "stdout",
     "output_type": "stream",
     "text": [
      "[ SUCCESSFULLY SAVED TOTAL UNIT STAY DATA ]\n",
      "--\n",
      "--\n",
      "Tracking num of observation after featrue selection\n",
      "Before selection:  3564508\n",
      "After selection:  2005140\n",
      "Complete featrue selection\n",
      "Start Tabularize Part- 53\n",
      "Number of patient:  43\n"
     ]
    },
    {
     "name": "stderr",
     "output_type": "stream",
     "text": [
      "Tabularize EHR part-53: 100%|██████████| 43/43 [00:02<00:00, 21.36it/s]\n"
     ]
    },
    {
     "name": "stdout",
     "output_type": "stream",
     "text": [
      "[ SUCCESSFULLY SAVED TOTAL UNIT STAY DATA ]\n",
      "--\n",
      "--\n",
      "Tracking num of observation after featrue selection\n",
      "Before selection:  2841101\n",
      "After selection:  1544003\n",
      "Complete featrue selection\n",
      "Start Tabularize Part- 54\n",
      "Number of patient:  37\n"
     ]
    },
    {
     "name": "stderr",
     "output_type": "stream",
     "text": [
      "Tabularize EHR part-54: 100%|██████████| 37/37 [00:01<00:00, 20.74it/s]\n"
     ]
    },
    {
     "name": "stdout",
     "output_type": "stream",
     "text": [
      "[ SUCCESSFULLY SAVED TOTAL UNIT STAY DATA ]\n",
      "--\n",
      "--\n",
      "Tracking num of observation after featrue selection\n",
      "Before selection:  2730505\n",
      "After selection:  1559800\n",
      "Complete featrue selection\n",
      "Start Tabularize Part- 55\n",
      "Number of patient:  43\n"
     ]
    },
    {
     "name": "stderr",
     "output_type": "stream",
     "text": [
      "Tabularize EHR part-55: 100%|██████████| 43/43 [00:02<00:00, 21.24it/s]\n"
     ]
    },
    {
     "name": "stdout",
     "output_type": "stream",
     "text": [
      "[ SUCCESSFULLY SAVED TOTAL UNIT STAY DATA ]\n",
      "--\n",
      "--\n",
      "Tracking num of observation after featrue selection\n",
      "Before selection:  3124279\n",
      "After selection:  1670297\n",
      "Complete featrue selection\n",
      "Start Tabularize Part- 56\n",
      "Number of patient:  45\n"
     ]
    },
    {
     "name": "stderr",
     "output_type": "stream",
     "text": [
      "Tabularize EHR part-56: 100%|██████████| 45/45 [00:02<00:00, 21.24it/s]\n"
     ]
    },
    {
     "name": "stdout",
     "output_type": "stream",
     "text": [
      "[ SUCCESSFULLY SAVED TOTAL UNIT STAY DATA ]\n",
      "--\n",
      "--\n",
      "Tracking num of observation after featrue selection\n",
      "Before selection:  4112723\n",
      "After selection:  2247148\n",
      "Complete featrue selection\n",
      "Start Tabularize Part- 57\n",
      "Number of patient:  53\n"
     ]
    },
    {
     "name": "stderr",
     "output_type": "stream",
     "text": [
      "Tabularize EHR part-57: 100%|██████████| 53/53 [00:03<00:00, 17.19it/s]\n"
     ]
    },
    {
     "name": "stdout",
     "output_type": "stream",
     "text": [
      "[ SUCCESSFULLY SAVED TOTAL UNIT STAY DATA ]\n",
      "--\n",
      "--\n",
      "Tracking num of observation after featrue selection\n",
      "Before selection:  2471536\n",
      "After selection:  1273519\n",
      "Complete featrue selection\n",
      "Start Tabularize Part- 58\n",
      "Number of patient:  31\n"
     ]
    },
    {
     "name": "stderr",
     "output_type": "stream",
     "text": [
      "Tabularize EHR part-58: 100%|██████████| 31/31 [00:01<00:00, 22.08it/s]\n"
     ]
    },
    {
     "name": "stdout",
     "output_type": "stream",
     "text": [
      "[ SUCCESSFULLY SAVED TOTAL UNIT STAY DATA ]\n",
      "--\n",
      "--\n",
      "Tracking num of observation after featrue selection\n",
      "Before selection:  3319397\n",
      "After selection:  1698706\n",
      "Complete featrue selection\n",
      "Start Tabularize Part- 59\n",
      "Number of patient:  42\n"
     ]
    },
    {
     "name": "stderr",
     "output_type": "stream",
     "text": [
      "Tabularize EHR part-59: 100%|██████████| 42/42 [00:02<00:00, 17.93it/s]\n"
     ]
    },
    {
     "name": "stdout",
     "output_type": "stream",
     "text": [
      "[ SUCCESSFULLY SAVED TOTAL UNIT STAY DATA ]\n",
      "--\n",
      "--\n",
      "Tracking num of observation after featrue selection\n",
      "Before selection:  2627763\n",
      "After selection:  1471649\n",
      "Complete featrue selection\n",
      "Start Tabularize Part- 60\n",
      "Number of patient:  37\n"
     ]
    },
    {
     "name": "stderr",
     "output_type": "stream",
     "text": [
      "Tabularize EHR part-60: 100%|██████████| 37/37 [00:01<00:00, 23.08it/s]\n"
     ]
    },
    {
     "name": "stdout",
     "output_type": "stream",
     "text": [
      "[ SUCCESSFULLY SAVED TOTAL UNIT STAY DATA ]\n",
      "--\n",
      "--\n",
      "Tracking num of observation after featrue selection\n",
      "Before selection:  3341997\n",
      "After selection:  1827916\n",
      "Complete featrue selection\n",
      "Start Tabularize Part- 61\n",
      "Number of patient:  42\n"
     ]
    },
    {
     "name": "stderr",
     "output_type": "stream",
     "text": [
      "Tabularize EHR part-61: 100%|██████████| 42/42 [00:01<00:00, 22.00it/s]\n"
     ]
    },
    {
     "name": "stdout",
     "output_type": "stream",
     "text": [
      "[ SUCCESSFULLY SAVED TOTAL UNIT STAY DATA ]\n",
      "--\n",
      "--\n",
      "Tracking num of observation after featrue selection\n",
      "Before selection:  4515546\n",
      "After selection:  2557073\n",
      "Complete featrue selection\n",
      "Start Tabularize Part- 62\n",
      "Number of patient:  51\n"
     ]
    },
    {
     "name": "stderr",
     "output_type": "stream",
     "text": [
      "Tabularize EHR part-62: 100%|██████████| 51/51 [00:02<00:00, 19.39it/s]\n"
     ]
    },
    {
     "name": "stdout",
     "output_type": "stream",
     "text": [
      "[ SUCCESSFULLY SAVED TOTAL UNIT STAY DATA ]\n",
      "--\n",
      "--\n",
      "Tracking num of observation after featrue selection\n",
      "Before selection:  3820822\n",
      "After selection:  2091211\n",
      "Complete featrue selection\n",
      "Start Tabularize Part- 63\n",
      "Number of patient:  48\n"
     ]
    },
    {
     "name": "stderr",
     "output_type": "stream",
     "text": [
      "Tabularize EHR part-63: 100%|██████████| 48/48 [00:04<00:00, 11.29it/s]\n"
     ]
    },
    {
     "name": "stdout",
     "output_type": "stream",
     "text": [
      "[ SUCCESSFULLY SAVED TOTAL UNIT STAY DATA ]\n",
      "--\n",
      "--\n",
      "Tracking num of observation after featrue selection\n",
      "Before selection:  2582283\n",
      "After selection:  1424915\n",
      "Complete featrue selection\n",
      "Start Tabularize Part- 64\n",
      "Number of patient:  48\n"
     ]
    },
    {
     "name": "stderr",
     "output_type": "stream",
     "text": [
      "Tabularize EHR part-64: 100%|██████████| 48/48 [00:03<00:00, 14.32it/s]\n"
     ]
    },
    {
     "name": "stdout",
     "output_type": "stream",
     "text": [
      "[ SUCCESSFULLY SAVED TOTAL UNIT STAY DATA ]\n",
      "--\n",
      "--\n",
      "Tracking num of observation after featrue selection\n",
      "Before selection:  3840828\n",
      "After selection:  2113987\n",
      "Complete featrue selection\n",
      "Start Tabularize Part- 65\n",
      "Number of patient:  43\n"
     ]
    },
    {
     "name": "stderr",
     "output_type": "stream",
     "text": [
      "Tabularize EHR part-65: 100%|██████████| 43/43 [00:03<00:00, 12.11it/s]\n"
     ]
    },
    {
     "name": "stdout",
     "output_type": "stream",
     "text": [
      "[ SUCCESSFULLY SAVED TOTAL UNIT STAY DATA ]\n",
      "--\n",
      "--\n",
      "Tracking num of observation after featrue selection\n",
      "Before selection:  3463630\n",
      "After selection:  1917848\n",
      "Complete featrue selection\n",
      "Start Tabularize Part- 66\n",
      "Number of patient:  53\n"
     ]
    },
    {
     "name": "stderr",
     "output_type": "stream",
     "text": [
      "Tabularize EHR part-66: 100%|██████████| 53/53 [00:04<00:00, 12.59it/s]\n"
     ]
    },
    {
     "name": "stdout",
     "output_type": "stream",
     "text": [
      "[ SUCCESSFULLY SAVED TOTAL UNIT STAY DATA ]\n",
      "--\n",
      "--\n",
      "Tracking num of observation after featrue selection\n",
      "Before selection:  3037345\n",
      "After selection:  1658284\n",
      "Complete featrue selection\n",
      "Start Tabularize Part- 67\n",
      "Number of patient:  38\n"
     ]
    },
    {
     "name": "stderr",
     "output_type": "stream",
     "text": [
      "Tabularize EHR part-67: 100%|██████████| 38/38 [00:02<00:00, 13.26it/s]\n"
     ]
    },
    {
     "name": "stdout",
     "output_type": "stream",
     "text": [
      "[ SUCCESSFULLY SAVED TOTAL UNIT STAY DATA ]\n",
      "--\n",
      "--\n",
      "Tracking num of observation after featrue selection\n",
      "Before selection:  2372911\n",
      "After selection:  1274049\n",
      "Complete featrue selection\n",
      "Start Tabularize Part- 68\n",
      "Number of patient:  33\n"
     ]
    },
    {
     "name": "stderr",
     "output_type": "stream",
     "text": [
      "Tabularize EHR part-68: 100%|██████████| 33/33 [00:02<00:00, 15.22it/s]\n"
     ]
    },
    {
     "name": "stdout",
     "output_type": "stream",
     "text": [
      "[ SUCCESSFULLY SAVED TOTAL UNIT STAY DATA ]\n",
      "--\n",
      "--\n",
      "Tracking num of observation after featrue selection\n",
      "Before selection:  2911120\n",
      "After selection:  1557994\n",
      "Complete featrue selection\n",
      "Start Tabularize Part- 69\n",
      "Number of patient:  40\n"
     ]
    },
    {
     "name": "stderr",
     "output_type": "stream",
     "text": [
      "Tabularize EHR part-69: 100%|██████████| 40/40 [00:02<00:00, 14.21it/s]\n"
     ]
    },
    {
     "name": "stdout",
     "output_type": "stream",
     "text": [
      "[ SUCCESSFULLY SAVED TOTAL UNIT STAY DATA ]\n",
      "--\n",
      "--\n",
      "Tracking num of observation after featrue selection\n",
      "Before selection:  3242338\n",
      "After selection:  1818452\n",
      "Complete featrue selection\n",
      "Start Tabularize Part- 70\n",
      "Number of patient:  56\n"
     ]
    },
    {
     "name": "stderr",
     "output_type": "stream",
     "text": [
      "Tabularize EHR part-70: 100%|██████████| 56/56 [00:04<00:00, 12.62it/s]\n"
     ]
    },
    {
     "name": "stdout",
     "output_type": "stream",
     "text": [
      "[ SUCCESSFULLY SAVED TOTAL UNIT STAY DATA ]\n",
      "--\n",
      "--\n",
      "Tracking num of observation after featrue selection\n",
      "Before selection:  2800478\n",
      "After selection:  1537873\n",
      "Complete featrue selection\n",
      "Start Tabularize Part- 71\n",
      "Number of patient:  44\n"
     ]
    },
    {
     "name": "stderr",
     "output_type": "stream",
     "text": [
      "Tabularize EHR part-71: 100%|██████████| 44/44 [00:02<00:00, 14.82it/s]\n"
     ]
    },
    {
     "name": "stdout",
     "output_type": "stream",
     "text": [
      "[ SUCCESSFULLY SAVED TOTAL UNIT STAY DATA ]\n",
      "--\n",
      "--\n",
      "Tracking num of observation after featrue selection\n",
      "Before selection:  3731294\n",
      "After selection:  1938061\n",
      "Complete featrue selection\n",
      "Start Tabularize Part- 72\n",
      "Number of patient:  54\n"
     ]
    },
    {
     "name": "stderr",
     "output_type": "stream",
     "text": [
      "Tabularize EHR part-72: 100%|██████████| 54/54 [00:04<00:00, 10.87it/s]\n"
     ]
    },
    {
     "name": "stdout",
     "output_type": "stream",
     "text": [
      "[ SUCCESSFULLY SAVED TOTAL UNIT STAY DATA ]\n",
      "--\n",
      "--\n",
      "Tracking num of observation after featrue selection\n",
      "Before selection:  3032086\n",
      "After selection:  1711198\n",
      "Complete featrue selection\n",
      "Start Tabularize Part- 73\n",
      "Number of patient:  40\n"
     ]
    },
    {
     "name": "stderr",
     "output_type": "stream",
     "text": [
      "Tabularize EHR part-73: 100%|██████████| 40/40 [00:02<00:00, 13.72it/s]\n"
     ]
    },
    {
     "name": "stdout",
     "output_type": "stream",
     "text": [
      "[ SUCCESSFULLY SAVED TOTAL UNIT STAY DATA ]\n",
      "--\n",
      "--\n",
      "Tracking num of observation after featrue selection\n",
      "Before selection:  2933281\n",
      "After selection:  1530297\n",
      "Complete featrue selection\n",
      "Start Tabularize Part- 74\n",
      "Number of patient:  44\n"
     ]
    },
    {
     "name": "stderr",
     "output_type": "stream",
     "text": [
      "Tabularize EHR part-74: 100%|██████████| 44/44 [00:03<00:00, 13.50it/s]\n"
     ]
    },
    {
     "name": "stdout",
     "output_type": "stream",
     "text": [
      "[ SUCCESSFULLY SAVED TOTAL UNIT STAY DATA ]\n",
      "--\n",
      "--\n",
      "Tracking num of observation after featrue selection\n",
      "Before selection:  2805164\n",
      "After selection:  1521900\n",
      "Complete featrue selection\n",
      "Start Tabularize Part- 75\n",
      "Number of patient:  44\n"
     ]
    },
    {
     "name": "stderr",
     "output_type": "stream",
     "text": [
      "Tabularize EHR part-75: 100%|██████████| 44/44 [00:03<00:00, 13.33it/s]\n"
     ]
    },
    {
     "name": "stdout",
     "output_type": "stream",
     "text": [
      "[ SUCCESSFULLY SAVED TOTAL UNIT STAY DATA ]\n",
      "--\n",
      "--\n",
      "Tracking num of observation after featrue selection\n",
      "Before selection:  2694380\n",
      "After selection:  1490052\n",
      "Complete featrue selection\n",
      "Start Tabularize Part- 76\n",
      "Number of patient:  38\n"
     ]
    },
    {
     "name": "stderr",
     "output_type": "stream",
     "text": [
      "Tabularize EHR part-76: 100%|██████████| 38/38 [00:02<00:00, 13.59it/s]\n"
     ]
    },
    {
     "name": "stdout",
     "output_type": "stream",
     "text": [
      "[ SUCCESSFULLY SAVED TOTAL UNIT STAY DATA ]\n",
      "--\n",
      "--\n",
      "Tracking num of observation after featrue selection\n",
      "Before selection:  2898772\n",
      "After selection:  1641982\n",
      "Complete featrue selection\n",
      "Start Tabularize Part- 77\n",
      "Number of patient:  39\n"
     ]
    },
    {
     "name": "stderr",
     "output_type": "stream",
     "text": [
      "Tabularize EHR part-77: 100%|██████████| 39/39 [00:02<00:00, 13.49it/s]\n"
     ]
    },
    {
     "name": "stdout",
     "output_type": "stream",
     "text": [
      "[ SUCCESSFULLY SAVED TOTAL UNIT STAY DATA ]\n",
      "--\n",
      "--\n",
      "Tracking num of observation after featrue selection\n",
      "Before selection:  2907771\n",
      "After selection:  1499117\n",
      "Complete featrue selection\n",
      "Start Tabularize Part- 78\n",
      "Number of patient:  32\n"
     ]
    },
    {
     "name": "stderr",
     "output_type": "stream",
     "text": [
      "Tabularize EHR part-78: 100%|██████████| 32/32 [00:02<00:00, 14.14it/s]\n"
     ]
    },
    {
     "name": "stdout",
     "output_type": "stream",
     "text": [
      "[ SUCCESSFULLY SAVED TOTAL UNIT STAY DATA ]\n",
      "--\n",
      "--\n",
      "Tracking num of observation after featrue selection\n",
      "Before selection:  2896786\n",
      "After selection:  1591346\n",
      "Complete featrue selection\n",
      "Start Tabularize Part- 79\n",
      "Number of patient:  42\n"
     ]
    },
    {
     "name": "stderr",
     "output_type": "stream",
     "text": [
      "Tabularize EHR part-79: 100%|██████████| 42/42 [00:03<00:00, 13.66it/s]\n"
     ]
    },
    {
     "name": "stdout",
     "output_type": "stream",
     "text": [
      "[ SUCCESSFULLY SAVED TOTAL UNIT STAY DATA ]\n",
      "--\n",
      "--\n",
      "Tracking num of observation after featrue selection\n",
      "Before selection:  3216476\n",
      "After selection:  1727093\n",
      "Complete featrue selection\n",
      "Start Tabularize Part- 80\n",
      "Number of patient:  44\n"
     ]
    },
    {
     "name": "stderr",
     "output_type": "stream",
     "text": [
      "Tabularize EHR part-80: 100%|██████████| 44/44 [00:03<00:00, 13.47it/s]\n"
     ]
    },
    {
     "name": "stdout",
     "output_type": "stream",
     "text": [
      "[ SUCCESSFULLY SAVED TOTAL UNIT STAY DATA ]\n",
      "--\n",
      "--\n",
      "Tracking num of observation after featrue selection\n",
      "Before selection:  3965578\n",
      "After selection:  2088649\n",
      "Complete featrue selection\n",
      "Start Tabularize Part- 81\n",
      "Number of patient:  54\n"
     ]
    },
    {
     "name": "stderr",
     "output_type": "stream",
     "text": [
      "Tabularize EHR part-81: 100%|██████████| 54/54 [00:04<00:00, 11.50it/s]\n"
     ]
    },
    {
     "name": "stdout",
     "output_type": "stream",
     "text": [
      "[ SUCCESSFULLY SAVED TOTAL UNIT STAY DATA ]\n",
      "--\n",
      "--\n",
      "Tracking num of observation after featrue selection\n",
      "Before selection:  3245854\n",
      "After selection:  1818445\n",
      "Complete featrue selection\n",
      "Start Tabularize Part- 82\n",
      "Number of patient:  49\n"
     ]
    },
    {
     "name": "stderr",
     "output_type": "stream",
     "text": [
      "Tabularize EHR part-82: 100%|██████████| 49/49 [00:03<00:00, 12.91it/s]\n"
     ]
    },
    {
     "name": "stdout",
     "output_type": "stream",
     "text": [
      "[ SUCCESSFULLY SAVED TOTAL UNIT STAY DATA ]\n",
      "--\n",
      "--\n",
      "Tracking num of observation after featrue selection\n",
      "Before selection:  3904848\n",
      "After selection:  2076425\n",
      "Complete featrue selection\n",
      "Start Tabularize Part- 83\n",
      "Number of patient:  40\n"
     ]
    },
    {
     "name": "stderr",
     "output_type": "stream",
     "text": [
      "Tabularize EHR part-83: 100%|██████████| 40/40 [00:03<00:00, 12.36it/s]\n"
     ]
    },
    {
     "name": "stdout",
     "output_type": "stream",
     "text": [
      "[ SUCCESSFULLY SAVED TOTAL UNIT STAY DATA ]\n",
      "--\n",
      "--\n",
      "Tracking num of observation after featrue selection\n",
      "Before selection:  2535594\n",
      "After selection:  1492062\n",
      "Complete featrue selection\n",
      "Start Tabularize Part- 84\n",
      "Number of patient:  34\n"
     ]
    },
    {
     "name": "stderr",
     "output_type": "stream",
     "text": [
      "Tabularize EHR part-84: 100%|██████████| 34/34 [00:02<00:00, 14.68it/s]\n"
     ]
    },
    {
     "name": "stdout",
     "output_type": "stream",
     "text": [
      "[ SUCCESSFULLY SAVED TOTAL UNIT STAY DATA ]\n",
      "--\n",
      "--\n",
      "Tracking num of observation after featrue selection\n",
      "Before selection:  3643707\n",
      "After selection:  1959057\n",
      "Complete featrue selection\n",
      "Start Tabularize Part- 85\n",
      "Number of patient:  44\n"
     ]
    },
    {
     "name": "stderr",
     "output_type": "stream",
     "text": [
      "Tabularize EHR part-85: 100%|██████████| 44/44 [00:03<00:00, 12.07it/s]\n"
     ]
    },
    {
     "name": "stdout",
     "output_type": "stream",
     "text": [
      "[ SUCCESSFULLY SAVED TOTAL UNIT STAY DATA ]\n",
      "--\n",
      "--\n",
      "Tracking num of observation after featrue selection\n",
      "Before selection:  2478814\n",
      "After selection:  1365817\n",
      "Complete featrue selection\n",
      "Start Tabularize Part- 86\n",
      "Number of patient:  30\n"
     ]
    },
    {
     "name": "stderr",
     "output_type": "stream",
     "text": [
      "Tabularize EHR part-86: 100%|██████████| 30/30 [00:01<00:00, 15.31it/s]\n"
     ]
    },
    {
     "name": "stdout",
     "output_type": "stream",
     "text": [
      "[ SUCCESSFULLY SAVED TOTAL UNIT STAY DATA ]\n",
      "--\n",
      "--\n",
      "Tracking num of observation after featrue selection\n",
      "Before selection:  2806482\n",
      "After selection:  1522977\n",
      "Complete featrue selection\n",
      "Start Tabularize Part- 87\n",
      "Number of patient:  39\n"
     ]
    },
    {
     "name": "stderr",
     "output_type": "stream",
     "text": [
      "Tabularize EHR part-87: 100%|██████████| 39/39 [00:02<00:00, 14.36it/s]\n"
     ]
    },
    {
     "name": "stdout",
     "output_type": "stream",
     "text": [
      "[ SUCCESSFULLY SAVED TOTAL UNIT STAY DATA ]\n",
      "--\n",
      "--\n",
      "Tracking num of observation after featrue selection\n",
      "Before selection:  2917301\n",
      "After selection:  1558155\n",
      "Complete featrue selection\n",
      "Start Tabularize Part- 88\n",
      "Number of patient:  43\n"
     ]
    },
    {
     "name": "stderr",
     "output_type": "stream",
     "text": [
      "Tabularize EHR part-88: 100%|██████████| 43/43 [00:02<00:00, 14.72it/s]\n"
     ]
    },
    {
     "name": "stdout",
     "output_type": "stream",
     "text": [
      "[ SUCCESSFULLY SAVED TOTAL UNIT STAY DATA ]\n",
      "--\n",
      "--\n",
      "Tracking num of observation after featrue selection\n",
      "Before selection:  2479253\n",
      "After selection:  1391022\n",
      "Complete featrue selection\n",
      "Start Tabularize Part- 89\n",
      "Number of patient:  53\n"
     ]
    },
    {
     "name": "stderr",
     "output_type": "stream",
     "text": [
      "Tabularize EHR part-89: 100%|██████████| 53/53 [00:03<00:00, 15.21it/s]\n"
     ]
    },
    {
     "name": "stdout",
     "output_type": "stream",
     "text": [
      "[ SUCCESSFULLY SAVED TOTAL UNIT STAY DATA ]\n",
      "--\n",
      "--\n",
      "Tracking num of observation after featrue selection\n",
      "Before selection:  3294723\n",
      "After selection:  1757724\n",
      "Complete featrue selection\n",
      "Start Tabularize Part- 90\n",
      "Number of patient:  31\n"
     ]
    },
    {
     "name": "stderr",
     "output_type": "stream",
     "text": [
      "Tabularize EHR part-90: 100%|██████████| 31/31 [00:02<00:00, 12.92it/s]\n"
     ]
    },
    {
     "name": "stdout",
     "output_type": "stream",
     "text": [
      "[ SUCCESSFULLY SAVED TOTAL UNIT STAY DATA ]\n",
      "--\n",
      "--\n",
      "Tracking num of observation after featrue selection\n",
      "Before selection:  3327865\n",
      "After selection:  1827065\n",
      "Complete featrue selection\n",
      "Start Tabularize Part- 91\n",
      "Number of patient:  48\n"
     ]
    },
    {
     "name": "stderr",
     "output_type": "stream",
     "text": [
      "Tabularize EHR part-91: 100%|██████████| 48/48 [00:03<00:00, 13.07it/s]\n"
     ]
    },
    {
     "name": "stdout",
     "output_type": "stream",
     "text": [
      "[ SUCCESSFULLY SAVED TOTAL UNIT STAY DATA ]\n",
      "--\n",
      "--\n",
      "Tracking num of observation after featrue selection\n",
      "Before selection:  2715840\n",
      "After selection:  1424925\n",
      "Complete featrue selection\n",
      "Start Tabularize Part- 92\n",
      "Number of patient:  42\n"
     ]
    },
    {
     "name": "stderr",
     "output_type": "stream",
     "text": [
      "Tabularize EHR part-92: 100%|██████████| 42/42 [00:03<00:00, 13.69it/s]\n"
     ]
    },
    {
     "name": "stdout",
     "output_type": "stream",
     "text": [
      "[ SUCCESSFULLY SAVED TOTAL UNIT STAY DATA ]\n",
      "--\n",
      "--\n",
      "Tracking num of observation after featrue selection\n",
      "Before selection:  3346028\n",
      "After selection:  1841022\n",
      "Complete featrue selection\n",
      "Start Tabularize Part- 93\n",
      "Number of patient:  45\n"
     ]
    },
    {
     "name": "stderr",
     "output_type": "stream",
     "text": [
      "Tabularize EHR part-93: 100%|██████████| 45/45 [00:03<00:00, 12.53it/s]\n"
     ]
    },
    {
     "name": "stdout",
     "output_type": "stream",
     "text": [
      "[ SUCCESSFULLY SAVED TOTAL UNIT STAY DATA ]\n",
      "--\n",
      "--\n",
      "Tracking num of observation after featrue selection\n",
      "Before selection:  2698395\n",
      "After selection:  1461631\n",
      "Complete featrue selection\n",
      "Start Tabularize Part- 94\n",
      "Number of patient:  36\n"
     ]
    },
    {
     "name": "stderr",
     "output_type": "stream",
     "text": [
      "Tabularize EHR part-94: 100%|██████████| 36/36 [00:02<00:00, 14.89it/s]\n"
     ]
    },
    {
     "name": "stdout",
     "output_type": "stream",
     "text": [
      "[ SUCCESSFULLY SAVED TOTAL UNIT STAY DATA ]\n",
      "--\n",
      "--\n",
      "Tracking num of observation after featrue selection\n",
      "Before selection:  2313886\n",
      "After selection:  1214844\n",
      "Complete featrue selection\n",
      "Start Tabularize Part- 95\n",
      "Number of patient:  34\n"
     ]
    },
    {
     "name": "stderr",
     "output_type": "stream",
     "text": [
      "Tabularize EHR part-95: 100%|██████████| 34/34 [00:02<00:00, 14.86it/s]\n"
     ]
    },
    {
     "name": "stdout",
     "output_type": "stream",
     "text": [
      "[ SUCCESSFULLY SAVED TOTAL UNIT STAY DATA ]\n",
      "--\n",
      "--\n",
      "Tracking num of observation after featrue selection\n",
      "Before selection:  2799815\n",
      "After selection:  1441744\n",
      "Complete featrue selection\n",
      "Start Tabularize Part- 96\n",
      "Number of patient:  41\n"
     ]
    },
    {
     "name": "stderr",
     "output_type": "stream",
     "text": [
      "Tabularize EHR part-96: 100%|██████████| 41/41 [00:02<00:00, 14.68it/s]\n"
     ]
    },
    {
     "name": "stdout",
     "output_type": "stream",
     "text": [
      "[ SUCCESSFULLY SAVED TOTAL UNIT STAY DATA ]\n",
      "--\n",
      "--\n",
      "Tracking num of observation after featrue selection\n",
      "Before selection:  3564405\n",
      "After selection:  1984835\n",
      "Complete featrue selection\n",
      "Start Tabularize Part- 97\n",
      "Number of patient:  43\n"
     ]
    },
    {
     "name": "stderr",
     "output_type": "stream",
     "text": [
      "Tabularize EHR part-97: 100%|██████████| 43/43 [00:03<00:00, 12.54it/s]\n"
     ]
    },
    {
     "name": "stdout",
     "output_type": "stream",
     "text": [
      "[ SUCCESSFULLY SAVED TOTAL UNIT STAY DATA ]\n",
      "--\n",
      "--\n",
      "Tracking num of observation after featrue selection\n",
      "Before selection:  2555018\n",
      "After selection:  1346443\n",
      "Complete featrue selection\n",
      "Start Tabularize Part- 98\n",
      "Number of patient:  46\n"
     ]
    },
    {
     "name": "stderr",
     "output_type": "stream",
     "text": [
      "Tabularize EHR part-98: 100%|██████████| 46/46 [00:03<00:00, 14.15it/s]\n"
     ]
    },
    {
     "name": "stdout",
     "output_type": "stream",
     "text": [
      "[ SUCCESSFULLY SAVED TOTAL UNIT STAY DATA ]\n",
      "--\n",
      "--\n",
      "Tracking num of observation after featrue selection\n",
      "Before selection:  3141722\n",
      "After selection:  1708805\n",
      "Complete featrue selection\n",
      "Start Tabularize Part- 99\n",
      "Number of patient:  41\n"
     ]
    },
    {
     "name": "stderr",
     "output_type": "stream",
     "text": [
      "Tabularize EHR part-99: 100%|██████████| 41/41 [00:03<00:00, 13.01it/s]\n"
     ]
    },
    {
     "name": "stdout",
     "output_type": "stream",
     "text": [
      "[ SUCCESSFULLY SAVED TOTAL UNIT STAY DATA ]\n",
      "--\n",
      "--\n",
      "Tracking num of observation after featrue selection\n",
      "Before selection:  2156409\n",
      "After selection:  1161092\n",
      "Complete featrue selection\n",
      "Start Tabularize Part- 100\n",
      "Number of patient:  25\n"
     ]
    },
    {
     "name": "stderr",
     "output_type": "stream",
     "text": [
      "Tabularize EHR part-100: 100%|██████████| 25/25 [00:01<00:00, 16.52it/s]\n"
     ]
    },
    {
     "name": "stdout",
     "output_type": "stream",
     "text": [
      "[ SUCCESSFULLY SAVED TOTAL UNIT STAY DATA ]\n",
      "--\n",
      "--\n",
      "Tracking num of observation after featrue selection\n",
      "Before selection:  2426989\n",
      "After selection:  1282266\n",
      "Complete featrue selection\n",
      "Start Tabularize Part- 101\n",
      "Number of patient:  39\n"
     ]
    },
    {
     "name": "stderr",
     "output_type": "stream",
     "text": [
      "Tabularize EHR part-101: 100%|██████████| 39/39 [00:02<00:00, 14.21it/s]\n"
     ]
    },
    {
     "name": "stdout",
     "output_type": "stream",
     "text": [
      "[ SUCCESSFULLY SAVED TOTAL UNIT STAY DATA ]\n",
      "--\n",
      "--\n",
      "Tracking num of observation after featrue selection\n",
      "Before selection:  3387203\n",
      "After selection:  1826536\n",
      "Complete featrue selection\n",
      "Start Tabularize Part- 102\n",
      "Number of patient:  47\n"
     ]
    },
    {
     "name": "stderr",
     "output_type": "stream",
     "text": [
      "Tabularize EHR part-102: 100%|██████████| 47/47 [00:03<00:00, 13.05it/s]\n"
     ]
    },
    {
     "name": "stdout",
     "output_type": "stream",
     "text": [
      "[ SUCCESSFULLY SAVED TOTAL UNIT STAY DATA ]\n",
      "--\n",
      "--\n",
      "Tracking num of observation after featrue selection\n",
      "Before selection:  3728715\n",
      "After selection:  2032740\n",
      "Complete featrue selection\n",
      "Start Tabularize Part- 103\n",
      "Number of patient:  50\n"
     ]
    },
    {
     "name": "stderr",
     "output_type": "stream",
     "text": [
      "Tabularize EHR part-103: 100%|██████████| 50/50 [00:04<00:00, 12.41it/s]\n"
     ]
    },
    {
     "name": "stdout",
     "output_type": "stream",
     "text": [
      "[ SUCCESSFULLY SAVED TOTAL UNIT STAY DATA ]\n",
      "--\n",
      "--\n",
      "Tracking num of observation after featrue selection\n",
      "Before selection:  3474853\n",
      "After selection:  1968148\n",
      "Complete featrue selection\n",
      "Start Tabularize Part- 104\n",
      "Number of patient:  52\n"
     ]
    },
    {
     "name": "stderr",
     "output_type": "stream",
     "text": [
      "Tabularize EHR part-104: 100%|██████████| 52/52 [00:04<00:00, 12.28it/s]\n"
     ]
    },
    {
     "name": "stdout",
     "output_type": "stream",
     "text": [
      "[ SUCCESSFULLY SAVED TOTAL UNIT STAY DATA ]\n",
      "--\n",
      "--\n",
      "Tracking num of observation after featrue selection\n",
      "Before selection:  2876509\n",
      "After selection:  1504188\n",
      "Complete featrue selection\n",
      "Start Tabularize Part- 105\n",
      "Number of patient:  37\n"
     ]
    },
    {
     "name": "stderr",
     "output_type": "stream",
     "text": [
      "Tabularize EHR part-105: 100%|██████████| 37/37 [00:02<00:00, 14.10it/s]\n"
     ]
    },
    {
     "name": "stdout",
     "output_type": "stream",
     "text": [
      "[ SUCCESSFULLY SAVED TOTAL UNIT STAY DATA ]\n",
      "--\n",
      "--\n",
      "Tracking num of observation after featrue selection\n",
      "Before selection:  2931225\n",
      "After selection:  1623380\n",
      "Complete featrue selection\n",
      "Start Tabularize Part- 106\n",
      "Number of patient:  43\n"
     ]
    },
    {
     "name": "stderr",
     "output_type": "stream",
     "text": [
      "Tabularize EHR part-106: 100%|██████████| 43/43 [00:02<00:00, 14.66it/s]\n"
     ]
    },
    {
     "name": "stdout",
     "output_type": "stream",
     "text": [
      "[ SUCCESSFULLY SAVED TOTAL UNIT STAY DATA ]\n",
      "--\n",
      "--\n",
      "Tracking num of observation after featrue selection\n",
      "Before selection:  4226971\n",
      "After selection:  2257505\n",
      "Complete featrue selection\n",
      "Start Tabularize Part- 107\n",
      "Number of patient:  48\n"
     ]
    },
    {
     "name": "stderr",
     "output_type": "stream",
     "text": [
      "Tabularize EHR part-107: 100%|██████████| 48/48 [00:04<00:00, 11.40it/s]\n"
     ]
    },
    {
     "name": "stdout",
     "output_type": "stream",
     "text": [
      "[ SUCCESSFULLY SAVED TOTAL UNIT STAY DATA ]\n",
      "--\n",
      "--\n",
      "Tracking num of observation after featrue selection\n",
      "Before selection:  3899250\n",
      "After selection:  2095678\n",
      "Complete featrue selection\n",
      "Start Tabularize Part- 108\n",
      "Number of patient:  54\n"
     ]
    },
    {
     "name": "stderr",
     "output_type": "stream",
     "text": [
      "Tabularize EHR part-108: 100%|██████████| 54/54 [00:04<00:00, 12.48it/s]\n"
     ]
    },
    {
     "name": "stdout",
     "output_type": "stream",
     "text": [
      "[ SUCCESSFULLY SAVED TOTAL UNIT STAY DATA ]\n",
      "--\n",
      "--\n",
      "Tracking num of observation after featrue selection\n",
      "Before selection:  3397500\n",
      "After selection:  1801844\n",
      "Complete featrue selection\n",
      "Start Tabularize Part- 109\n",
      "Number of patient:  43\n"
     ]
    },
    {
     "name": "stderr",
     "output_type": "stream",
     "text": [
      "Tabularize EHR part-109: 100%|██████████| 43/43 [00:03<00:00, 13.49it/s]\n"
     ]
    },
    {
     "name": "stdout",
     "output_type": "stream",
     "text": [
      "[ SUCCESSFULLY SAVED TOTAL UNIT STAY DATA ]\n",
      "--\n",
      "--\n",
      "Tracking num of observation after featrue selection\n",
      "Before selection:  3012615\n",
      "After selection:  1511809\n",
      "Complete featrue selection\n",
      "Start Tabularize Part- 110\n",
      "Number of patient:  44\n"
     ]
    },
    {
     "name": "stderr",
     "output_type": "stream",
     "text": [
      "Tabularize EHR part-110: 100%|██████████| 44/44 [00:03<00:00, 13.19it/s]\n"
     ]
    },
    {
     "name": "stdout",
     "output_type": "stream",
     "text": [
      "[ SUCCESSFULLY SAVED TOTAL UNIT STAY DATA ]\n",
      "--\n",
      "--\n",
      "Tracking num of observation after featrue selection\n",
      "Before selection:  3012297\n",
      "After selection:  1721988\n",
      "Complete featrue selection\n",
      "Start Tabularize Part- 111\n",
      "Number of patient:  38\n"
     ]
    },
    {
     "name": "stderr",
     "output_type": "stream",
     "text": [
      "Tabularize EHR part-111: 100%|██████████| 38/38 [00:02<00:00, 13.71it/s]\n"
     ]
    },
    {
     "name": "stdout",
     "output_type": "stream",
     "text": [
      "[ SUCCESSFULLY SAVED TOTAL UNIT STAY DATA ]\n",
      "--\n",
      "--\n",
      "Tracking num of observation after featrue selection\n",
      "Before selection:  3780445\n",
      "After selection:  1936365\n",
      "Complete featrue selection\n",
      "Start Tabularize Part- 112\n",
      "Number of patient:  56\n"
     ]
    },
    {
     "name": "stderr",
     "output_type": "stream",
     "text": [
      "Tabularize EHR part-112: 100%|██████████| 56/56 [00:02<00:00, 20.42it/s]\n"
     ]
    },
    {
     "name": "stdout",
     "output_type": "stream",
     "text": [
      "[ SUCCESSFULLY SAVED TOTAL UNIT STAY DATA ]\n",
      "--\n",
      "--\n",
      "Tracking num of observation after featrue selection\n",
      "Before selection:  3779065\n",
      "After selection:  1989153\n",
      "Complete featrue selection\n",
      "Start Tabularize Part- 113\n",
      "Number of patient:  47\n"
     ]
    },
    {
     "name": "stderr",
     "output_type": "stream",
     "text": [
      "Tabularize EHR part-113: 100%|██████████| 47/47 [00:02<00:00, 20.39it/s]\n"
     ]
    },
    {
     "name": "stdout",
     "output_type": "stream",
     "text": [
      "[ SUCCESSFULLY SAVED TOTAL UNIT STAY DATA ]\n",
      "--\n",
      "--\n",
      "Tracking num of observation after featrue selection\n",
      "Before selection:  3232260\n",
      "After selection:  1679007\n",
      "Complete featrue selection\n",
      "Start Tabularize Part- 114\n",
      "Number of patient:  47\n"
     ]
    },
    {
     "name": "stderr",
     "output_type": "stream",
     "text": [
      "Tabularize EHR part-114: 100%|██████████| 47/47 [00:02<00:00, 20.79it/s]\n"
     ]
    },
    {
     "name": "stdout",
     "output_type": "stream",
     "text": [
      "[ SUCCESSFULLY SAVED TOTAL UNIT STAY DATA ]\n",
      "--\n",
      "--\n",
      "Tracking num of observation after featrue selection\n",
      "Before selection:  2443735\n",
      "After selection:  1339777\n",
      "Complete featrue selection\n",
      "Start Tabularize Part- 115\n",
      "Number of patient:  36\n"
     ]
    },
    {
     "name": "stderr",
     "output_type": "stream",
     "text": [
      "Tabularize EHR part-115: 100%|██████████| 36/36 [00:01<00:00, 24.15it/s]\n"
     ]
    },
    {
     "name": "stdout",
     "output_type": "stream",
     "text": [
      "[ SUCCESSFULLY SAVED TOTAL UNIT STAY DATA ]\n",
      "--\n",
      "--\n",
      "Tracking num of observation after featrue selection\n",
      "Before selection:  4136158\n",
      "After selection:  2076550\n",
      "Complete featrue selection\n",
      "Start Tabularize Part- 116\n",
      "Number of patient:  47\n"
     ]
    },
    {
     "name": "stderr",
     "output_type": "stream",
     "text": [
      "Tabularize EHR part-116: 100%|██████████| 47/47 [00:02<00:00, 19.34it/s]\n"
     ]
    },
    {
     "name": "stdout",
     "output_type": "stream",
     "text": [
      "[ SUCCESSFULLY SAVED TOTAL UNIT STAY DATA ]\n",
      "--\n",
      "--\n",
      "Tracking num of observation after featrue selection\n",
      "Before selection:  3064466\n",
      "After selection:  1689189\n",
      "Complete featrue selection\n",
      "Start Tabularize Part- 117\n",
      "Number of patient:  44\n"
     ]
    },
    {
     "name": "stderr",
     "output_type": "stream",
     "text": [
      "Tabularize EHR part-117: 100%|██████████| 44/44 [00:02<00:00, 21.36it/s]\n"
     ]
    },
    {
     "name": "stdout",
     "output_type": "stream",
     "text": [
      "[ SUCCESSFULLY SAVED TOTAL UNIT STAY DATA ]\n",
      "--\n",
      "--\n",
      "Tracking num of observation after featrue selection\n",
      "Before selection:  4460755\n",
      "After selection:  2328380\n",
      "Complete featrue selection\n",
      "Start Tabularize Part- 118\n",
      "Number of patient:  54\n"
     ]
    },
    {
     "name": "stderr",
     "output_type": "stream",
     "text": [
      "Tabularize EHR part-118: 100%|██████████| 54/54 [00:03<00:00, 17.97it/s]\n"
     ]
    },
    {
     "name": "stdout",
     "output_type": "stream",
     "text": [
      "[ SUCCESSFULLY SAVED TOTAL UNIT STAY DATA ]\n",
      "--\n",
      "--\n",
      "Tracking num of observation after featrue selection\n",
      "Before selection:  4407075\n",
      "After selection:  2426838\n",
      "Complete featrue selection\n",
      "Start Tabularize Part- 119\n",
      "Number of patient:  48\n"
     ]
    },
    {
     "name": "stderr",
     "output_type": "stream",
     "text": [
      "Tabularize EHR part-119: 100%|██████████| 48/48 [00:02<00:00, 19.62it/s]\n"
     ]
    },
    {
     "name": "stdout",
     "output_type": "stream",
     "text": [
      "[ SUCCESSFULLY SAVED TOTAL UNIT STAY DATA ]\n",
      "--\n",
      "--\n",
      "Tracking num of observation after featrue selection\n",
      "Before selection:  2292889\n",
      "After selection:  1250815\n",
      "Complete featrue selection\n",
      "Start Tabularize Part- 120\n",
      "Number of patient:  41\n"
     ]
    },
    {
     "name": "stderr",
     "output_type": "stream",
     "text": [
      "Tabularize EHR part-120: 100%|██████████| 41/41 [00:01<00:00, 25.94it/s]\n"
     ]
    },
    {
     "name": "stdout",
     "output_type": "stream",
     "text": [
      "[ SUCCESSFULLY SAVED TOTAL UNIT STAY DATA ]\n",
      "--\n",
      "--\n",
      "Tracking num of observation after featrue selection\n",
      "Before selection:  3935817\n",
      "After selection:  1937310\n",
      "Complete featrue selection\n",
      "Start Tabularize Part- 121\n",
      "Number of patient:  43\n"
     ]
    },
    {
     "name": "stderr",
     "output_type": "stream",
     "text": [
      "Tabularize EHR part-121: 100%|██████████| 43/43 [00:02<00:00, 20.56it/s]\n"
     ]
    },
    {
     "name": "stdout",
     "output_type": "stream",
     "text": [
      "[ SUCCESSFULLY SAVED TOTAL UNIT STAY DATA ]\n",
      "--\n",
      "--\n",
      "Tracking num of observation after featrue selection\n",
      "Before selection:  3442701\n",
      "After selection:  1790546\n",
      "Complete featrue selection\n",
      "Start Tabularize Part- 122\n",
      "Number of patient:  55\n"
     ]
    },
    {
     "name": "stderr",
     "output_type": "stream",
     "text": [
      "Tabularize EHR part-122: 100%|██████████| 55/55 [00:02<00:00, 21.22it/s]\n"
     ]
    },
    {
     "name": "stdout",
     "output_type": "stream",
     "text": [
      "[ SUCCESSFULLY SAVED TOTAL UNIT STAY DATA ]\n",
      "--\n",
      "--\n",
      "Tracking num of observation after featrue selection\n",
      "Before selection:  3231493\n",
      "After selection:  1707005\n",
      "Complete featrue selection\n",
      "Start Tabularize Part- 123\n",
      "Number of patient:  42\n"
     ]
    },
    {
     "name": "stderr",
     "output_type": "stream",
     "text": [
      "Tabularize EHR part-123: 100%|██████████| 42/42 [00:01<00:00, 22.11it/s]\n"
     ]
    },
    {
     "name": "stdout",
     "output_type": "stream",
     "text": [
      "[ SUCCESSFULLY SAVED TOTAL UNIT STAY DATA ]\n",
      "--\n",
      "--\n",
      "Tracking num of observation after featrue selection\n",
      "Before selection:  2406169\n",
      "After selection:  1324233\n",
      "Complete featrue selection\n",
      "Start Tabularize Part- 124\n",
      "Number of patient:  46\n"
     ]
    },
    {
     "name": "stderr",
     "output_type": "stream",
     "text": [
      "Tabularize EHR part-124: 100%|██████████| 46/46 [00:01<00:00, 25.06it/s]\n"
     ]
    },
    {
     "name": "stdout",
     "output_type": "stream",
     "text": [
      "[ SUCCESSFULLY SAVED TOTAL UNIT STAY DATA ]\n",
      "--\n",
      "--\n",
      "Tracking num of observation after featrue selection\n",
      "Before selection:  2384230\n",
      "After selection:  1362727\n",
      "Complete featrue selection\n",
      "Start Tabularize Part- 125\n",
      "Number of patient:  39\n"
     ]
    },
    {
     "name": "stderr",
     "output_type": "stream",
     "text": [
      "Tabularize EHR part-125: 100%|██████████| 39/39 [00:01<00:00, 25.72it/s]\n"
     ]
    },
    {
     "name": "stdout",
     "output_type": "stream",
     "text": [
      "[ SUCCESSFULLY SAVED TOTAL UNIT STAY DATA ]\n",
      "--\n",
      "--\n",
      "Tracking num of observation after featrue selection\n",
      "Before selection:  2555278\n",
      "After selection:  1393936\n",
      "Complete featrue selection\n",
      "Start Tabularize Part- 126\n",
      "Number of patient:  36\n"
     ]
    },
    {
     "name": "stderr",
     "output_type": "stream",
     "text": [
      "Tabularize EHR part-126: 100%|██████████| 36/36 [00:01<00:00, 24.15it/s]\n"
     ]
    },
    {
     "name": "stdout",
     "output_type": "stream",
     "text": [
      "[ SUCCESSFULLY SAVED TOTAL UNIT STAY DATA ]\n",
      "--\n",
      "--\n",
      "Tracking num of observation after featrue selection\n",
      "Before selection:  2406605\n",
      "After selection:  1308284\n",
      "Complete featrue selection\n",
      "Start Tabularize Part- 127\n",
      "Number of patient:  39\n"
     ]
    },
    {
     "name": "stderr",
     "output_type": "stream",
     "text": [
      "Tabularize EHR part-127: 100%|██████████| 39/39 [00:01<00:00, 24.90it/s]\n"
     ]
    },
    {
     "name": "stdout",
     "output_type": "stream",
     "text": [
      "[ SUCCESSFULLY SAVED TOTAL UNIT STAY DATA ]\n",
      "--\n",
      "--\n",
      "Tracking num of observation after featrue selection\n",
      "Before selection:  3907118\n",
      "After selection:  2057110\n",
      "Complete featrue selection\n",
      "Start Tabularize Part- 128\n",
      "Number of patient:  53\n"
     ]
    },
    {
     "name": "stderr",
     "output_type": "stream",
     "text": [
      "Tabularize EHR part-128: 100%|██████████| 53/53 [00:02<00:00, 19.62it/s]\n"
     ]
    },
    {
     "name": "stdout",
     "output_type": "stream",
     "text": [
      "[ SUCCESSFULLY SAVED TOTAL UNIT STAY DATA ]\n",
      "--\n",
      "--\n",
      "Tracking num of observation after featrue selection\n",
      "Before selection:  2963676\n",
      "After selection:  1538771\n",
      "Complete featrue selection\n",
      "Start Tabularize Part- 129\n",
      "Number of patient:  47\n"
     ]
    },
    {
     "name": "stderr",
     "output_type": "stream",
     "text": [
      "Tabularize EHR part-129: 100%|██████████| 47/47 [00:02<00:00, 22.42it/s]\n"
     ]
    },
    {
     "name": "stdout",
     "output_type": "stream",
     "text": [
      "[ SUCCESSFULLY SAVED TOTAL UNIT STAY DATA ]\n",
      "--\n",
      "--\n",
      "Tracking num of observation after featrue selection\n",
      "Before selection:  2568873\n",
      "After selection:  1430755\n",
      "Complete featrue selection\n",
      "Start Tabularize Part- 130\n",
      "Number of patient:  36\n"
     ]
    },
    {
     "name": "stderr",
     "output_type": "stream",
     "text": [
      "Tabularize EHR part-130: 100%|██████████| 36/36 [00:01<00:00, 23.20it/s]\n"
     ]
    },
    {
     "name": "stdout",
     "output_type": "stream",
     "text": [
      "[ SUCCESSFULLY SAVED TOTAL UNIT STAY DATA ]\n",
      "--\n",
      "--\n",
      "Tracking num of observation after featrue selection\n",
      "Before selection:  3595974\n",
      "After selection:  1891806\n",
      "Complete featrue selection\n",
      "Start Tabularize Part- 131\n",
      "Number of patient:  41\n"
     ]
    },
    {
     "name": "stderr",
     "output_type": "stream",
     "text": [
      "Tabularize EHR part-131: 100%|██████████| 41/41 [00:02<00:00, 19.83it/s]\n"
     ]
    },
    {
     "name": "stdout",
     "output_type": "stream",
     "text": [
      "[ SUCCESSFULLY SAVED TOTAL UNIT STAY DATA ]\n",
      "--\n",
      "--\n",
      "Tracking num of observation after featrue selection\n",
      "Before selection:  3095521\n",
      "After selection:  1601734\n",
      "Complete featrue selection\n",
      "Start Tabularize Part- 132\n",
      "Number of patient:  32\n"
     ]
    },
    {
     "name": "stderr",
     "output_type": "stream",
     "text": [
      "Tabularize EHR part-132: 100%|██████████| 32/32 [00:01<00:00, 21.68it/s]\n"
     ]
    },
    {
     "name": "stdout",
     "output_type": "stream",
     "text": [
      "[ SUCCESSFULLY SAVED TOTAL UNIT STAY DATA ]\n",
      "--\n",
      "--\n",
      "Tracking num of observation after featrue selection\n",
      "Before selection:  2007243\n",
      "After selection:  1084744\n",
      "Complete featrue selection\n",
      "Start Tabularize Part- 133\n",
      "Number of patient:  28\n"
     ]
    },
    {
     "name": "stderr",
     "output_type": "stream",
     "text": [
      "Tabularize EHR part-133: 100%|██████████| 28/28 [00:01<00:00, 26.84it/s]\n"
     ]
    },
    {
     "name": "stdout",
     "output_type": "stream",
     "text": [
      "[ SUCCESSFULLY SAVED TOTAL UNIT STAY DATA ]\n",
      "--\n",
      "--\n",
      "Tracking num of observation after featrue selection\n",
      "Before selection:  2748926\n",
      "After selection:  1431920\n",
      "Complete featrue selection\n",
      "Start Tabularize Part- 134\n",
      "Number of patient:  50\n"
     ]
    },
    {
     "name": "stderr",
     "output_type": "stream",
     "text": [
      "Tabularize EHR part-134: 100%|██████████| 50/50 [00:02<00:00, 24.79it/s]\n"
     ]
    },
    {
     "name": "stdout",
     "output_type": "stream",
     "text": [
      "[ SUCCESSFULLY SAVED TOTAL UNIT STAY DATA ]\n",
      "--\n",
      "--\n",
      "Tracking num of observation after featrue selection\n",
      "Before selection:  3515346\n",
      "After selection:  1887170\n",
      "Complete featrue selection\n",
      "Start Tabularize Part- 135\n",
      "Number of patient:  42\n"
     ]
    },
    {
     "name": "stderr",
     "output_type": "stream",
     "text": [
      "Tabularize EHR part-135: 100%|██████████| 42/42 [00:02<00:00, 20.07it/s]\n"
     ]
    },
    {
     "name": "stdout",
     "output_type": "stream",
     "text": [
      "[ SUCCESSFULLY SAVED TOTAL UNIT STAY DATA ]\n",
      "--\n",
      "--\n",
      "Tracking num of observation after featrue selection\n",
      "Before selection:  2226699\n",
      "After selection:  1202603\n",
      "Complete featrue selection\n",
      "Start Tabularize Part- 136\n",
      "Number of patient:  31\n"
     ]
    },
    {
     "name": "stderr",
     "output_type": "stream",
     "text": [
      "Tabularize EHR part-136: 100%|██████████| 31/31 [00:01<00:00, 25.88it/s]\n"
     ]
    },
    {
     "name": "stdout",
     "output_type": "stream",
     "text": [
      "[ SUCCESSFULLY SAVED TOTAL UNIT STAY DATA ]\n",
      "--\n",
      "--\n",
      "Tracking num of observation after featrue selection\n",
      "Before selection:  2569284\n",
      "After selection:  1345224\n",
      "Complete featrue selection\n",
      "Start Tabularize Part- 137\n",
      "Number of patient:  38\n"
     ]
    },
    {
     "name": "stderr",
     "output_type": "stream",
     "text": [
      "Tabularize EHR part-137: 100%|██████████| 38/38 [00:01<00:00, 26.24it/s]\n"
     ]
    },
    {
     "name": "stdout",
     "output_type": "stream",
     "text": [
      "[ SUCCESSFULLY SAVED TOTAL UNIT STAY DATA ]\n",
      "--\n",
      "--\n",
      "Tracking num of observation after featrue selection\n",
      "Before selection:  2845797\n",
      "After selection:  1551463\n",
      "Complete featrue selection\n",
      "Start Tabularize Part- 138\n",
      "Number of patient:  43\n"
     ]
    },
    {
     "name": "stderr",
     "output_type": "stream",
     "text": [
      "Tabularize EHR part-138: 100%|██████████| 43/43 [00:01<00:00, 23.91it/s]\n"
     ]
    },
    {
     "name": "stdout",
     "output_type": "stream",
     "text": [
      "[ SUCCESSFULLY SAVED TOTAL UNIT STAY DATA ]\n",
      "--\n",
      "--\n",
      "Tracking num of observation after featrue selection\n",
      "Before selection:  3311961\n",
      "After selection:  1759916\n",
      "Complete featrue selection\n",
      "Start Tabularize Part- 139\n",
      "Number of patient:  52\n"
     ]
    },
    {
     "name": "stderr",
     "output_type": "stream",
     "text": [
      "Tabularize EHR part-139: 100%|██████████| 52/52 [00:02<00:00, 21.60it/s]\n"
     ]
    },
    {
     "name": "stdout",
     "output_type": "stream",
     "text": [
      "[ SUCCESSFULLY SAVED TOTAL UNIT STAY DATA ]\n",
      "--\n",
      "--\n",
      "Tracking num of observation after featrue selection\n",
      "Before selection:  2674491\n",
      "After selection:  1486863\n",
      "Complete featrue selection\n",
      "Start Tabularize Part- 140\n",
      "Number of patient:  37\n"
     ]
    },
    {
     "name": "stderr",
     "output_type": "stream",
     "text": [
      "Tabularize EHR part-140: 100%|██████████| 37/37 [00:01<00:00, 24.26it/s]\n"
     ]
    },
    {
     "name": "stdout",
     "output_type": "stream",
     "text": [
      "[ SUCCESSFULLY SAVED TOTAL UNIT STAY DATA ]\n",
      "--\n",
      "--\n",
      "Tracking num of observation after featrue selection\n",
      "Before selection:  3054588\n",
      "After selection:  1642616\n",
      "Complete featrue selection\n",
      "Start Tabularize Part- 141\n",
      "Number of patient:  49\n"
     ]
    },
    {
     "name": "stderr",
     "output_type": "stream",
     "text": [
      "Tabularize EHR part-141: 100%|██████████| 49/49 [00:02<00:00, 23.05it/s]\n"
     ]
    },
    {
     "name": "stdout",
     "output_type": "stream",
     "text": [
      "[ SUCCESSFULLY SAVED TOTAL UNIT STAY DATA ]\n",
      "--\n",
      "--\n",
      "Tracking num of observation after featrue selection\n",
      "Before selection:  2921095\n",
      "After selection:  1586754\n",
      "Complete featrue selection\n",
      "Start Tabularize Part- 142\n",
      "Number of patient:  41\n"
     ]
    },
    {
     "name": "stderr",
     "output_type": "stream",
     "text": [
      "Tabularize EHR part-142: 100%|██████████| 41/41 [00:01<00:00, 23.06it/s]\n"
     ]
    },
    {
     "name": "stdout",
     "output_type": "stream",
     "text": [
      "[ SUCCESSFULLY SAVED TOTAL UNIT STAY DATA ]\n",
      "--\n",
      "--\n",
      "Tracking num of observation after featrue selection\n",
      "Before selection:  2175210\n",
      "After selection:  1217975\n",
      "Complete featrue selection\n",
      "Start Tabularize Part- 143\n",
      "Number of patient:  33\n"
     ]
    },
    {
     "name": "stderr",
     "output_type": "stream",
     "text": [
      "Tabularize EHR part-143: 100%|██████████| 33/33 [00:01<00:00, 25.64it/s]\n"
     ]
    },
    {
     "name": "stdout",
     "output_type": "stream",
     "text": [
      "[ SUCCESSFULLY SAVED TOTAL UNIT STAY DATA ]\n",
      "--\n",
      "--\n",
      "Tracking num of observation after featrue selection\n",
      "Before selection:  2515222\n",
      "After selection:  1364939\n",
      "Complete featrue selection\n",
      "Start Tabularize Part- 144\n",
      "Number of patient:  33\n"
     ]
    },
    {
     "name": "stderr",
     "output_type": "stream",
     "text": [
      "Tabularize EHR part-144: 100%|██████████| 33/33 [00:01<00:00, 23.15it/s]\n"
     ]
    },
    {
     "name": "stdout",
     "output_type": "stream",
     "text": [
      "[ SUCCESSFULLY SAVED TOTAL UNIT STAY DATA ]\n",
      "--\n",
      "--\n",
      "Tracking num of observation after featrue selection\n",
      "Before selection:  2850052\n",
      "After selection:  1617251\n",
      "Complete featrue selection\n",
      "Start Tabularize Part- 145\n",
      "Number of patient:  37\n"
     ]
    },
    {
     "name": "stderr",
     "output_type": "stream",
     "text": [
      "Tabularize EHR part-145: 100%|██████████| 37/37 [00:01<00:00, 21.97it/s]\n"
     ]
    },
    {
     "name": "stdout",
     "output_type": "stream",
     "text": [
      "[ SUCCESSFULLY SAVED TOTAL UNIT STAY DATA ]\n",
      "--\n",
      "--\n",
      "Tracking num of observation after featrue selection\n",
      "Before selection:  2918833\n",
      "After selection:  1510779\n",
      "Complete featrue selection\n",
      "Start Tabularize Part- 146\n",
      "Number of patient:  42\n"
     ]
    },
    {
     "name": "stderr",
     "output_type": "stream",
     "text": [
      "Tabularize EHR part-146: 100%|██████████| 42/42 [00:01<00:00, 24.51it/s]\n"
     ]
    },
    {
     "name": "stdout",
     "output_type": "stream",
     "text": [
      "[ SUCCESSFULLY SAVED TOTAL UNIT STAY DATA ]\n",
      "--\n",
      "--\n",
      "Tracking num of observation after featrue selection\n",
      "Before selection:  3691732\n",
      "After selection:  1910557\n",
      "Complete featrue selection\n",
      "Start Tabularize Part- 147\n",
      "Number of patient:  53\n"
     ]
    },
    {
     "name": "stderr",
     "output_type": "stream",
     "text": [
      "Tabularize EHR part-147: 100%|██████████| 53/53 [00:02<00:00, 19.45it/s]\n"
     ]
    },
    {
     "name": "stdout",
     "output_type": "stream",
     "text": [
      "[ SUCCESSFULLY SAVED TOTAL UNIT STAY DATA ]\n",
      "--\n",
      "--\n",
      "Tracking num of observation after featrue selection\n",
      "Before selection:  3142534\n",
      "After selection:  1693086\n",
      "Complete featrue selection\n",
      "Start Tabularize Part- 148\n",
      "Number of patient:  43\n"
     ]
    },
    {
     "name": "stderr",
     "output_type": "stream",
     "text": [
      "Tabularize EHR part-148: 100%|██████████| 43/43 [00:01<00:00, 24.42it/s]\n"
     ]
    },
    {
     "name": "stdout",
     "output_type": "stream",
     "text": [
      "[ SUCCESSFULLY SAVED TOTAL UNIT STAY DATA ]\n",
      "--\n",
      "--\n",
      "Tracking num of observation after featrue selection\n",
      "Before selection:  3557065\n",
      "After selection:  1944228\n",
      "Complete featrue selection\n",
      "Start Tabularize Part- 149\n",
      "Number of patient:  46\n"
     ]
    },
    {
     "name": "stderr",
     "output_type": "stream",
     "text": [
      "Tabularize EHR part-149: 100%|██████████| 46/46 [00:02<00:00, 19.33it/s]\n"
     ]
    },
    {
     "name": "stdout",
     "output_type": "stream",
     "text": [
      "[ SUCCESSFULLY SAVED TOTAL UNIT STAY DATA ]\n",
      "--\n",
      "--\n",
      "Tracking num of observation after featrue selection\n",
      "Before selection:  3064643\n",
      "After selection:  1650083\n",
      "Complete featrue selection\n",
      "Start Tabularize Part- 150\n",
      "Number of patient:  39\n"
     ]
    },
    {
     "name": "stderr",
     "output_type": "stream",
     "text": [
      "Tabularize EHR part-150: 100%|██████████| 39/39 [00:01<00:00, 21.95it/s]\n"
     ]
    },
    {
     "name": "stdout",
     "output_type": "stream",
     "text": [
      "[ SUCCESSFULLY SAVED TOTAL UNIT STAY DATA ]\n",
      "--\n",
      "--\n",
      "Tracking num of observation after featrue selection\n",
      "Before selection:  3585988\n",
      "After selection:  1991058\n",
      "Complete featrue selection\n",
      "Start Tabularize Part- 151\n",
      "Number of patient:  44\n"
     ]
    },
    {
     "name": "stderr",
     "output_type": "stream",
     "text": [
      "Tabularize EHR part-151: 100%|██████████| 44/44 [00:02<00:00, 20.18it/s]\n"
     ]
    },
    {
     "name": "stdout",
     "output_type": "stream",
     "text": [
      "[ SUCCESSFULLY SAVED TOTAL UNIT STAY DATA ]\n",
      "--\n",
      "--\n",
      "Tracking num of observation after featrue selection\n",
      "Before selection:  3998591\n",
      "After selection:  2151373\n",
      "Complete featrue selection\n",
      "Start Tabularize Part- 152\n",
      "Number of patient:  44\n"
     ]
    },
    {
     "name": "stderr",
     "output_type": "stream",
     "text": [
      "Tabularize EHR part-152: 100%|██████████| 44/44 [00:02<00:00, 19.48it/s]\n"
     ]
    },
    {
     "name": "stdout",
     "output_type": "stream",
     "text": [
      "[ SUCCESSFULLY SAVED TOTAL UNIT STAY DATA ]\n",
      "--\n",
      "--\n",
      "Tracking num of observation after featrue selection\n",
      "Before selection:  2905066\n",
      "After selection:  1485187\n",
      "Complete featrue selection\n",
      "Start Tabularize Part- 153\n",
      "Number of patient:  45\n"
     ]
    },
    {
     "name": "stderr",
     "output_type": "stream",
     "text": [
      "Tabularize EHR part-153: 100%|██████████| 45/45 [00:01<00:00, 24.88it/s]\n"
     ]
    },
    {
     "name": "stdout",
     "output_type": "stream",
     "text": [
      "[ SUCCESSFULLY SAVED TOTAL UNIT STAY DATA ]\n",
      "--\n",
      "--\n",
      "Tracking num of observation after featrue selection\n",
      "Before selection:  3948034\n",
      "After selection:  2128431\n",
      "Complete featrue selection\n",
      "Start Tabularize Part- 154\n",
      "Number of patient:  52\n"
     ]
    },
    {
     "name": "stderr",
     "output_type": "stream",
     "text": [
      "Tabularize EHR part-154: 100%|██████████| 52/52 [00:02<00:00, 21.02it/s]\n"
     ]
    },
    {
     "name": "stdout",
     "output_type": "stream",
     "text": [
      "[ SUCCESSFULLY SAVED TOTAL UNIT STAY DATA ]\n",
      "--\n",
      "--\n",
      "Tracking num of observation after featrue selection\n",
      "Before selection:  2997533\n",
      "After selection:  1644803\n",
      "Complete featrue selection\n",
      "Start Tabularize Part- 155\n",
      "Number of patient:  45\n"
     ]
    },
    {
     "name": "stderr",
     "output_type": "stream",
     "text": [
      "Tabularize EHR part-155: 100%|██████████| 45/45 [00:01<00:00, 24.74it/s]\n"
     ]
    },
    {
     "name": "stdout",
     "output_type": "stream",
     "text": [
      "[ SUCCESSFULLY SAVED TOTAL UNIT STAY DATA ]\n",
      "--\n",
      "--\n",
      "Tracking num of observation after featrue selection\n",
      "Before selection:  3442724\n",
      "After selection:  1891275\n",
      "Complete featrue selection\n",
      "Start Tabularize Part- 156\n",
      "Number of patient:  43\n"
     ]
    },
    {
     "name": "stderr",
     "output_type": "stream",
     "text": [
      "Tabularize EHR part-156: 100%|██████████| 43/43 [00:02<00:00, 20.87it/s]\n"
     ]
    },
    {
     "name": "stdout",
     "output_type": "stream",
     "text": [
      "[ SUCCESSFULLY SAVED TOTAL UNIT STAY DATA ]\n",
      "--\n",
      "--\n",
      "Tracking num of observation after featrue selection\n",
      "Before selection:  3092848\n",
      "After selection:  1695296\n",
      "Complete featrue selection\n",
      "Start Tabularize Part- 157\n",
      "Number of patient:  43\n"
     ]
    },
    {
     "name": "stderr",
     "output_type": "stream",
     "text": [
      "Tabularize EHR part-157: 100%|██████████| 43/43 [00:01<00:00, 22.18it/s]\n"
     ]
    },
    {
     "name": "stdout",
     "output_type": "stream",
     "text": [
      "[ SUCCESSFULLY SAVED TOTAL UNIT STAY DATA ]\n",
      "--\n",
      "--\n",
      "Tracking num of observation after featrue selection\n",
      "Before selection:  3553871\n",
      "After selection:  1980381\n",
      "Complete featrue selection\n",
      "Start Tabularize Part- 158\n",
      "Number of patient:  42\n"
     ]
    },
    {
     "name": "stderr",
     "output_type": "stream",
     "text": [
      "Tabularize EHR part-158: 100%|██████████| 42/42 [00:02<00:00, 20.38it/s]\n"
     ]
    },
    {
     "name": "stdout",
     "output_type": "stream",
     "text": [
      "[ SUCCESSFULLY SAVED TOTAL UNIT STAY DATA ]\n",
      "--\n",
      "--\n",
      "Tracking num of observation after featrue selection\n",
      "Before selection:  2799052\n",
      "After selection:  1513243\n",
      "Complete featrue selection\n",
      "Start Tabularize Part- 159\n",
      "Number of patient:  35\n"
     ]
    },
    {
     "name": "stderr",
     "output_type": "stream",
     "text": [
      "Tabularize EHR part-159: 100%|██████████| 35/35 [00:01<00:00, 23.82it/s]\n"
     ]
    },
    {
     "name": "stdout",
     "output_type": "stream",
     "text": [
      "[ SUCCESSFULLY SAVED TOTAL UNIT STAY DATA ]\n",
      "--\n",
      "--\n",
      "Tracking num of observation after featrue selection\n",
      "Before selection:  4115058\n",
      "After selection:  2217155\n",
      "Complete featrue selection\n",
      "Start Tabularize Part- 160\n",
      "Number of patient:  47\n"
     ]
    },
    {
     "name": "stderr",
     "output_type": "stream",
     "text": [
      "Tabularize EHR part-160: 100%|██████████| 47/47 [00:02<00:00, 18.55it/s]\n"
     ]
    },
    {
     "name": "stdout",
     "output_type": "stream",
     "text": [
      "[ SUCCESSFULLY SAVED TOTAL UNIT STAY DATA ]\n",
      "--\n",
      "--\n",
      "Tracking num of observation after featrue selection\n",
      "Before selection:  2537842\n",
      "After selection:  1368730\n",
      "Complete featrue selection\n",
      "Start Tabularize Part- 161\n",
      "Number of patient:  43\n"
     ]
    },
    {
     "name": "stderr",
     "output_type": "stream",
     "text": [
      "Tabularize EHR part-161: 100%|██████████| 43/43 [00:01<00:00, 25.01it/s]\n"
     ]
    },
    {
     "name": "stdout",
     "output_type": "stream",
     "text": [
      "[ SUCCESSFULLY SAVED TOTAL UNIT STAY DATA ]\n",
      "--\n",
      "--\n",
      "Tracking num of observation after featrue selection\n",
      "Before selection:  2862990\n",
      "After selection:  1499319\n",
      "Complete featrue selection\n",
      "Start Tabularize Part- 162\n",
      "Number of patient:  45\n"
     ]
    },
    {
     "name": "stderr",
     "output_type": "stream",
     "text": [
      "Tabularize EHR part-162: 100%|██████████| 45/45 [00:01<00:00, 23.09it/s]\n"
     ]
    },
    {
     "name": "stdout",
     "output_type": "stream",
     "text": [
      "[ SUCCESSFULLY SAVED TOTAL UNIT STAY DATA ]\n",
      "--\n",
      "--\n",
      "Tracking num of observation after featrue selection\n",
      "Before selection:  2593114\n",
      "After selection:  1475557\n",
      "Complete featrue selection\n",
      "Start Tabularize Part- 163\n",
      "Number of patient:  38\n"
     ]
    },
    {
     "name": "stderr",
     "output_type": "stream",
     "text": [
      "Tabularize EHR part-163: 100%|██████████| 38/38 [00:01<00:00, 26.43it/s]\n"
     ]
    },
    {
     "name": "stdout",
     "output_type": "stream",
     "text": [
      "[ SUCCESSFULLY SAVED TOTAL UNIT STAY DATA ]\n",
      "--\n",
      "--\n",
      "Tracking num of observation after featrue selection\n",
      "Before selection:  2678385\n",
      "After selection:  1403012\n",
      "Complete featrue selection\n",
      "Start Tabularize Part- 164\n",
      "Number of patient:  35\n"
     ]
    },
    {
     "name": "stderr",
     "output_type": "stream",
     "text": [
      "Tabularize EHR part-164: 100%|██████████| 35/35 [00:01<00:00, 23.28it/s]\n"
     ]
    },
    {
     "name": "stdout",
     "output_type": "stream",
     "text": [
      "[ SUCCESSFULLY SAVED TOTAL UNIT STAY DATA ]\n",
      "--\n",
      "--\n",
      "Tracking num of observation after featrue selection\n",
      "Before selection:  3442886\n",
      "After selection:  1814051\n",
      "Complete featrue selection\n",
      "Start Tabularize Part- 165\n",
      "Number of patient:  45\n"
     ]
    },
    {
     "name": "stderr",
     "output_type": "stream",
     "text": [
      "Tabularize EHR part-165: 100%|██████████| 45/45 [00:02<00:00, 20.89it/s]\n"
     ]
    },
    {
     "name": "stdout",
     "output_type": "stream",
     "text": [
      "[ SUCCESSFULLY SAVED TOTAL UNIT STAY DATA ]\n",
      "--\n",
      "--\n",
      "Tracking num of observation after featrue selection\n",
      "Before selection:  3863283\n",
      "After selection:  2012629\n",
      "Complete featrue selection\n",
      "Start Tabularize Part- 166\n",
      "Number of patient:  50\n"
     ]
    },
    {
     "name": "stderr",
     "output_type": "stream",
     "text": [
      "Tabularize EHR part-166: 100%|██████████| 50/50 [00:02<00:00, 19.23it/s]\n"
     ]
    },
    {
     "name": "stdout",
     "output_type": "stream",
     "text": [
      "[ SUCCESSFULLY SAVED TOTAL UNIT STAY DATA ]\n",
      "--\n",
      "--\n",
      "Tracking num of observation after featrue selection\n",
      "Before selection:  2919093\n",
      "After selection:  1671081\n",
      "Complete featrue selection\n",
      "Start Tabularize Part- 167\n",
      "Number of patient:  42\n"
     ]
    },
    {
     "name": "stderr",
     "output_type": "stream",
     "text": [
      "Tabularize EHR part-167: 100%|██████████| 42/42 [00:01<00:00, 23.83it/s]\n"
     ]
    },
    {
     "name": "stdout",
     "output_type": "stream",
     "text": [
      "[ SUCCESSFULLY SAVED TOTAL UNIT STAY DATA ]\n",
      "--\n",
      "--\n",
      "Tracking num of observation after featrue selection\n",
      "Before selection:  2381159\n",
      "After selection:  1317788\n",
      "Complete featrue selection\n",
      "Start Tabularize Part- 168\n",
      "Number of patient:  31\n"
     ]
    },
    {
     "name": "stderr",
     "output_type": "stream",
     "text": [
      "Tabularize EHR part-168: 100%|██████████| 31/31 [00:01<00:00, 27.65it/s]\n"
     ]
    },
    {
     "name": "stdout",
     "output_type": "stream",
     "text": [
      "[ SUCCESSFULLY SAVED TOTAL UNIT STAY DATA ]\n",
      "--\n",
      "--\n",
      "Tracking num of observation after featrue selection\n",
      "Before selection:  2880752\n",
      "After selection:  1539096\n",
      "Complete featrue selection\n",
      "Start Tabularize Part- 169\n",
      "Number of patient:  41\n"
     ]
    },
    {
     "name": "stderr",
     "output_type": "stream",
     "text": [
      "Tabularize EHR part-169: 100%|██████████| 41/41 [00:01<00:00, 23.62it/s]\n"
     ]
    },
    {
     "name": "stdout",
     "output_type": "stream",
     "text": [
      "[ SUCCESSFULLY SAVED TOTAL UNIT STAY DATA ]\n",
      "--\n",
      "--\n",
      "Tracking num of observation after featrue selection\n",
      "Before selection:  2911874\n",
      "After selection:  1582812\n",
      "Complete featrue selection\n",
      "Start Tabularize Part- 170\n",
      "Number of patient:  39\n"
     ]
    },
    {
     "name": "stderr",
     "output_type": "stream",
     "text": [
      "Tabularize EHR part-170: 100%|██████████| 39/39 [00:01<00:00, 22.73it/s]\n"
     ]
    },
    {
     "name": "stdout",
     "output_type": "stream",
     "text": [
      "[ SUCCESSFULLY SAVED TOTAL UNIT STAY DATA ]\n",
      "--\n",
      "--\n",
      "Tracking num of observation after featrue selection\n",
      "Before selection:  3295712\n",
      "After selection:  1837238\n",
      "Complete featrue selection\n",
      "Start Tabularize Part- 171\n",
      "Number of patient:  45\n"
     ]
    },
    {
     "name": "stderr",
     "output_type": "stream",
     "text": [
      "Tabularize EHR part-171: 100%|██████████| 45/45 [00:01<00:00, 23.55it/s]\n"
     ]
    },
    {
     "name": "stdout",
     "output_type": "stream",
     "text": [
      "[ SUCCESSFULLY SAVED TOTAL UNIT STAY DATA ]\n",
      "--\n",
      "--\n",
      "Tracking num of observation after featrue selection\n",
      "Before selection:  2693591\n",
      "After selection:  1517888\n",
      "Complete featrue selection\n",
      "Start Tabularize Part- 172\n",
      "Number of patient:  37\n"
     ]
    },
    {
     "name": "stderr",
     "output_type": "stream",
     "text": [
      "Tabularize EHR part-172: 100%|██████████| 37/37 [00:01<00:00, 24.34it/s]\n"
     ]
    },
    {
     "name": "stdout",
     "output_type": "stream",
     "text": [
      "[ SUCCESSFULLY SAVED TOTAL UNIT STAY DATA ]\n",
      "--\n",
      "--\n",
      "Tracking num of observation after featrue selection\n",
      "Before selection:  2965044\n",
      "After selection:  1774130\n",
      "Complete featrue selection\n",
      "Start Tabularize Part- 173\n",
      "Number of patient:  41\n"
     ]
    },
    {
     "name": "stderr",
     "output_type": "stream",
     "text": [
      "Tabularize EHR part-173: 100%|██████████| 41/41 [00:01<00:00, 22.34it/s]\n"
     ]
    },
    {
     "name": "stdout",
     "output_type": "stream",
     "text": [
      "[ SUCCESSFULLY SAVED TOTAL UNIT STAY DATA ]\n",
      "--\n",
      "--\n",
      "Tracking num of observation after featrue selection\n",
      "Before selection:  2901112\n",
      "After selection:  1514823\n",
      "Complete featrue selection\n",
      "Start Tabularize Part- 174\n",
      "Number of patient:  45\n"
     ]
    },
    {
     "name": "stderr",
     "output_type": "stream",
     "text": [
      "Tabularize EHR part-174: 100%|██████████| 45/45 [00:01<00:00, 23.63it/s]\n"
     ]
    },
    {
     "name": "stdout",
     "output_type": "stream",
     "text": [
      "[ SUCCESSFULLY SAVED TOTAL UNIT STAY DATA ]\n",
      "--\n",
      "--\n",
      "Tracking num of observation after featrue selection\n",
      "Before selection:  3801001\n",
      "After selection:  2101806\n",
      "Complete featrue selection\n",
      "Start Tabularize Part- 175\n",
      "Number of patient:  45\n"
     ]
    },
    {
     "name": "stderr",
     "output_type": "stream",
     "text": [
      "Tabularize EHR part-175: 100%|██████████| 45/45 [00:02<00:00, 20.64it/s]\n"
     ]
    },
    {
     "name": "stdout",
     "output_type": "stream",
     "text": [
      "[ SUCCESSFULLY SAVED TOTAL UNIT STAY DATA ]\n",
      "--\n",
      "--\n",
      "Tracking num of observation after featrue selection\n",
      "Before selection:  2823696\n",
      "After selection:  1473846\n",
      "Complete featrue selection\n",
      "Start Tabularize Part- 176\n",
      "Number of patient:  36\n"
     ]
    },
    {
     "name": "stderr",
     "output_type": "stream",
     "text": [
      "Tabularize EHR part-176: 100%|██████████| 36/36 [00:01<00:00, 22.80it/s]\n"
     ]
    },
    {
     "name": "stdout",
     "output_type": "stream",
     "text": [
      "[ SUCCESSFULLY SAVED TOTAL UNIT STAY DATA ]\n",
      "--\n",
      "--\n",
      "Tracking num of observation after featrue selection\n",
      "Before selection:  1940635\n",
      "After selection:  1003125\n",
      "Complete featrue selection\n",
      "Start Tabularize Part- 177\n",
      "Number of patient:  38\n"
     ]
    },
    {
     "name": "stderr",
     "output_type": "stream",
     "text": [
      "Tabularize EHR part-177: 100%|██████████| 38/38 [00:01<00:00, 27.17it/s]\n"
     ]
    },
    {
     "name": "stdout",
     "output_type": "stream",
     "text": [
      "[ SUCCESSFULLY SAVED TOTAL UNIT STAY DATA ]\n",
      "--\n",
      "--\n",
      "Tracking num of observation after featrue selection\n",
      "Before selection:  3984424\n",
      "After selection:  2104361\n",
      "Complete featrue selection\n",
      "Start Tabularize Part- 178\n",
      "Number of patient:  51\n"
     ]
    },
    {
     "name": "stderr",
     "output_type": "stream",
     "text": [
      "Tabularize EHR part-178: 100%|██████████| 51/51 [00:02<00:00, 20.27it/s]\n"
     ]
    },
    {
     "name": "stdout",
     "output_type": "stream",
     "text": [
      "[ SUCCESSFULLY SAVED TOTAL UNIT STAY DATA ]\n",
      "--\n",
      "--\n",
      "Tracking num of observation after featrue selection\n",
      "Before selection:  3017349\n",
      "After selection:  1591699\n",
      "Complete featrue selection\n",
      "Start Tabularize Part- 179\n",
      "Number of patient:  43\n"
     ]
    },
    {
     "name": "stderr",
     "output_type": "stream",
     "text": [
      "Tabularize EHR part-179: 100%|██████████| 43/43 [00:01<00:00, 22.65it/s]\n"
     ]
    },
    {
     "name": "stdout",
     "output_type": "stream",
     "text": [
      "[ SUCCESSFULLY SAVED TOTAL UNIT STAY DATA ]\n",
      "--\n",
      "--\n",
      "Tracking num of observation after featrue selection\n",
      "Before selection:  2724924\n",
      "After selection:  1494114\n",
      "Complete featrue selection\n",
      "Start Tabularize Part- 180\n",
      "Number of patient:  45\n"
     ]
    },
    {
     "name": "stderr",
     "output_type": "stream",
     "text": [
      "Tabularize EHR part-180: 100%|██████████| 45/45 [00:01<00:00, 25.07it/s]\n"
     ]
    },
    {
     "name": "stdout",
     "output_type": "stream",
     "text": [
      "[ SUCCESSFULLY SAVED TOTAL UNIT STAY DATA ]\n",
      "--\n",
      "--\n",
      "Tracking num of observation after featrue selection\n",
      "Before selection:  3680253\n",
      "After selection:  1998498\n",
      "Complete featrue selection\n",
      "Start Tabularize Part- 181\n",
      "Number of patient:  46\n"
     ]
    },
    {
     "name": "stderr",
     "output_type": "stream",
     "text": [
      "Tabularize EHR part-181: 100%|██████████| 46/46 [00:02<00:00, 21.35it/s]\n"
     ]
    },
    {
     "name": "stdout",
     "output_type": "stream",
     "text": [
      "[ SUCCESSFULLY SAVED TOTAL UNIT STAY DATA ]\n",
      "--\n",
      "--\n",
      "Tracking num of observation after featrue selection\n",
      "Before selection:  3396901\n",
      "After selection:  1818771\n",
      "Complete featrue selection\n",
      "Start Tabularize Part- 182\n",
      "Number of patient:  42\n"
     ]
    },
    {
     "name": "stderr",
     "output_type": "stream",
     "text": [
      "Tabularize EHR part-182: 100%|██████████| 42/42 [00:01<00:00, 22.53it/s]\n"
     ]
    },
    {
     "name": "stdout",
     "output_type": "stream",
     "text": [
      "[ SUCCESSFULLY SAVED TOTAL UNIT STAY DATA ]\n",
      "--\n",
      "--\n",
      "Tracking num of observation after featrue selection\n",
      "Before selection:  2210422\n",
      "After selection:  1308701\n",
      "Complete featrue selection\n",
      "Start Tabularize Part- 183\n",
      "Number of patient:  34\n"
     ]
    },
    {
     "name": "stderr",
     "output_type": "stream",
     "text": [
      "Tabularize EHR part-183: 100%|██████████| 34/34 [00:01<00:00, 24.83it/s]\n"
     ]
    },
    {
     "name": "stdout",
     "output_type": "stream",
     "text": [
      "[ SUCCESSFULLY SAVED TOTAL UNIT STAY DATA ]\n",
      "--\n",
      "--\n",
      "Tracking num of observation after featrue selection\n",
      "Before selection:  2365727\n",
      "After selection:  1274820\n",
      "Complete featrue selection\n",
      "Start Tabularize Part- 184\n",
      "Number of patient:  40\n"
     ]
    },
    {
     "name": "stderr",
     "output_type": "stream",
     "text": [
      "Tabularize EHR part-184: 100%|██████████| 40/40 [00:01<00:00, 27.08it/s]\n"
     ]
    },
    {
     "name": "stdout",
     "output_type": "stream",
     "text": [
      "[ SUCCESSFULLY SAVED TOTAL UNIT STAY DATA ]\n",
      "--\n",
      "--\n",
      "Tracking num of observation after featrue selection\n",
      "Before selection:  2460074\n",
      "After selection:  1422666\n",
      "Complete featrue selection\n",
      "Start Tabularize Part- 185\n",
      "Number of patient:  31\n"
     ]
    },
    {
     "name": "stderr",
     "output_type": "stream",
     "text": [
      "Tabularize EHR part-185: 100%|██████████| 31/31 [00:01<00:00, 26.70it/s]\n"
     ]
    },
    {
     "name": "stdout",
     "output_type": "stream",
     "text": [
      "[ SUCCESSFULLY SAVED TOTAL UNIT STAY DATA ]\n",
      "--\n",
      "--\n",
      "Tracking num of observation after featrue selection\n",
      "Before selection:  3316462\n",
      "After selection:  1686269\n",
      "Complete featrue selection\n",
      "Start Tabularize Part- 186\n",
      "Number of patient:  43\n"
     ]
    },
    {
     "name": "stderr",
     "output_type": "stream",
     "text": [
      "Tabularize EHR part-186: 100%|██████████| 43/43 [00:01<00:00, 22.02it/s]\n"
     ]
    },
    {
     "name": "stdout",
     "output_type": "stream",
     "text": [
      "[ SUCCESSFULLY SAVED TOTAL UNIT STAY DATA ]\n",
      "--\n",
      "--\n",
      "Tracking num of observation after featrue selection\n",
      "Before selection:  4512352\n",
      "After selection:  2497298\n",
      "Complete featrue selection\n",
      "Start Tabularize Part- 187\n",
      "Number of patient:  52\n"
     ]
    },
    {
     "name": "stderr",
     "output_type": "stream",
     "text": [
      "Tabularize EHR part-187: 100%|██████████| 52/52 [00:03<00:00, 16.51it/s]\n"
     ]
    },
    {
     "name": "stdout",
     "output_type": "stream",
     "text": [
      "[ SUCCESSFULLY SAVED TOTAL UNIT STAY DATA ]\n",
      "--\n",
      "--\n",
      "Tracking num of observation after featrue selection\n",
      "Before selection:  4076020\n",
      "After selection:  2127989\n",
      "Complete featrue selection\n",
      "Start Tabularize Part- 188\n",
      "Number of patient:  57\n"
     ]
    },
    {
     "name": "stderr",
     "output_type": "stream",
     "text": [
      "Tabularize EHR part-188: 100%|██████████| 57/57 [00:02<00:00, 20.83it/s]\n"
     ]
    },
    {
     "name": "stdout",
     "output_type": "stream",
     "text": [
      "[ SUCCESSFULLY SAVED TOTAL UNIT STAY DATA ]\n",
      "--\n",
      "--\n",
      "Tracking num of observation after featrue selection\n",
      "Before selection:  3063193\n",
      "After selection:  1618099\n",
      "Complete featrue selection\n",
      "Start Tabularize Part- 189\n",
      "Number of patient:  49\n"
     ]
    },
    {
     "name": "stderr",
     "output_type": "stream",
     "text": [
      "Tabularize EHR part-189: 100%|██████████| 49/49 [00:02<00:00, 23.12it/s]\n"
     ]
    },
    {
     "name": "stdout",
     "output_type": "stream",
     "text": [
      "[ SUCCESSFULLY SAVED TOTAL UNIT STAY DATA ]\n",
      "--\n",
      "--\n",
      "Tracking num of observation after featrue selection\n",
      "Before selection:  3418314\n",
      "After selection:  1777211\n",
      "Complete featrue selection\n",
      "Start Tabularize Part- 190\n",
      "Number of patient:  39\n"
     ]
    },
    {
     "name": "stderr",
     "output_type": "stream",
     "text": [
      "Tabularize EHR part-190: 100%|██████████| 39/39 [00:01<00:00, 21.42it/s]\n"
     ]
    },
    {
     "name": "stdout",
     "output_type": "stream",
     "text": [
      "[ SUCCESSFULLY SAVED TOTAL UNIT STAY DATA ]\n",
      "--\n",
      "--\n",
      "Tracking num of observation after featrue selection\n",
      "Before selection:  4092161\n",
      "After selection:  2125972\n",
      "Complete featrue selection\n",
      "Start Tabularize Part- 191\n",
      "Number of patient:  55\n"
     ]
    },
    {
     "name": "stderr",
     "output_type": "stream",
     "text": [
      "Tabularize EHR part-191: 100%|██████████| 55/55 [00:02<00:00, 20.05it/s]\n"
     ]
    },
    {
     "name": "stdout",
     "output_type": "stream",
     "text": [
      "[ SUCCESSFULLY SAVED TOTAL UNIT STAY DATA ]\n",
      "--\n",
      "--\n",
      "Tracking num of observation after featrue selection\n",
      "Before selection:  2422597\n",
      "After selection:  1319841\n",
      "Complete featrue selection\n",
      "Start Tabularize Part- 192\n",
      "Number of patient:  31\n"
     ]
    },
    {
     "name": "stderr",
     "output_type": "stream",
     "text": [
      "Tabularize EHR part-192: 100%|██████████| 31/31 [00:01<00:00, 24.84it/s]\n"
     ]
    },
    {
     "name": "stdout",
     "output_type": "stream",
     "text": [
      "[ SUCCESSFULLY SAVED TOTAL UNIT STAY DATA ]\n",
      "--\n",
      "--\n",
      "Tracking num of observation after featrue selection\n",
      "Before selection:  2363625\n",
      "After selection:  1375657\n",
      "Complete featrue selection\n",
      "Start Tabularize Part- 193\n",
      "Number of patient:  32\n"
     ]
    },
    {
     "name": "stderr",
     "output_type": "stream",
     "text": [
      "Tabularize EHR part-193: 100%|██████████| 32/32 [00:01<00:00, 26.19it/s]\n"
     ]
    },
    {
     "name": "stdout",
     "output_type": "stream",
     "text": [
      "[ SUCCESSFULLY SAVED TOTAL UNIT STAY DATA ]\n",
      "--\n",
      "--\n",
      "Tracking num of observation after featrue selection\n",
      "Before selection:  3839179\n",
      "After selection:  1971382\n",
      "Complete featrue selection\n",
      "Start Tabularize Part- 194\n",
      "Number of patient:  51\n"
     ]
    },
    {
     "name": "stderr",
     "output_type": "stream",
     "text": [
      "Tabularize EHR part-194: 100%|██████████| 51/51 [00:02<00:00, 20.98it/s]\n"
     ]
    },
    {
     "name": "stdout",
     "output_type": "stream",
     "text": [
      "[ SUCCESSFULLY SAVED TOTAL UNIT STAY DATA ]\n",
      "--\n",
      "--\n",
      "Tracking num of observation after featrue selection\n",
      "Before selection:  4386575\n",
      "After selection:  2227641\n",
      "Complete featrue selection\n",
      "Start Tabularize Part- 195\n",
      "Number of patient:  57\n"
     ]
    },
    {
     "name": "stderr",
     "output_type": "stream",
     "text": [
      "Tabularize EHR part-195: 100%|██████████| 57/57 [00:02<00:00, 19.79it/s]\n"
     ]
    },
    {
     "name": "stdout",
     "output_type": "stream",
     "text": [
      "[ SUCCESSFULLY SAVED TOTAL UNIT STAY DATA ]\n",
      "--\n",
      "--\n",
      "Tracking num of observation after featrue selection\n",
      "Before selection:  2896319\n",
      "After selection:  1486899\n",
      "Complete featrue selection\n",
      "Start Tabularize Part- 196\n",
      "Number of patient:  53\n"
     ]
    },
    {
     "name": "stderr",
     "output_type": "stream",
     "text": [
      "Tabularize EHR part-196: 100%|██████████| 53/53 [00:02<00:00, 25.22it/s]\n"
     ]
    },
    {
     "name": "stdout",
     "output_type": "stream",
     "text": [
      "[ SUCCESSFULLY SAVED TOTAL UNIT STAY DATA ]\n",
      "--\n",
      "--\n",
      "Tracking num of observation after featrue selection\n",
      "Before selection:  3608760\n",
      "After selection:  1857134\n",
      "Complete featrue selection\n",
      "Start Tabularize Part- 197\n",
      "Number of patient:  38\n"
     ]
    },
    {
     "name": "stderr",
     "output_type": "stream",
     "text": [
      "Tabularize EHR part-197: 100%|██████████| 38/38 [00:01<00:00, 21.50it/s]\n"
     ]
    },
    {
     "name": "stdout",
     "output_type": "stream",
     "text": [
      "[ SUCCESSFULLY SAVED TOTAL UNIT STAY DATA ]\n",
      "--\n",
      "--\n",
      "Tracking num of observation after featrue selection\n",
      "Before selection:  3519820\n",
      "After selection:  1915750\n",
      "Complete featrue selection\n",
      "Start Tabularize Part- 198\n",
      "Number of patient:  50\n"
     ]
    },
    {
     "name": "stderr",
     "output_type": "stream",
     "text": [
      "Tabularize EHR part-198: 100%|██████████| 50/50 [00:02<00:00, 20.54it/s]\n"
     ]
    },
    {
     "name": "stdout",
     "output_type": "stream",
     "text": [
      "[ SUCCESSFULLY SAVED TOTAL UNIT STAY DATA ]\n",
      "--\n",
      "--\n",
      "Tracking num of observation after featrue selection\n",
      "Before selection:  3566203\n",
      "After selection:  1873814\n",
      "Complete featrue selection\n",
      "Start Tabularize Part- 199\n",
      "Number of patient:  56\n"
     ]
    },
    {
     "name": "stderr",
     "output_type": "stream",
     "text": [
      "Tabularize EHR part-199: 100%|██████████| 56/56 [00:02<00:00, 20.53it/s]\n"
     ]
    },
    {
     "name": "stdout",
     "output_type": "stream",
     "text": [
      "[ SUCCESSFULLY SAVED TOTAL UNIT STAY DATA ]\n",
      "--\n",
      "--\n",
      "Tracking num of observation after featrue selection\n",
      "Before selection:  3891908\n",
      "After selection:  2040892\n",
      "Complete featrue selection\n",
      "Start Tabularize Part- 200\n",
      "Number of patient:  49\n"
     ]
    },
    {
     "name": "stderr",
     "output_type": "stream",
     "text": [
      "Tabularize EHR part-200: 100%|██████████| 49/49 [00:02<00:00, 21.32it/s]\n"
     ]
    },
    {
     "name": "stdout",
     "output_type": "stream",
     "text": [
      "[ SUCCESSFULLY SAVED TOTAL UNIT STAY DATA ]\n",
      "--\n",
      "--\n",
      "Tracking num of observation after featrue selection\n",
      "Before selection:  3593915\n",
      "After selection:  2003925\n",
      "Complete featrue selection\n",
      "Start Tabularize Part- 201\n",
      "Number of patient:  44\n"
     ]
    },
    {
     "name": "stderr",
     "output_type": "stream",
     "text": [
      "Tabularize EHR part-201: 100%|██████████| 44/44 [00:02<00:00, 20.00it/s]\n"
     ]
    },
    {
     "name": "stdout",
     "output_type": "stream",
     "text": [
      "[ SUCCESSFULLY SAVED TOTAL UNIT STAY DATA ]\n",
      "--\n",
      "--\n",
      "Tracking num of observation after featrue selection\n",
      "Before selection:  3216775\n",
      "After selection:  1797713\n",
      "Complete featrue selection\n",
      "Start Tabularize Part- 202\n",
      "Number of patient:  50\n"
     ]
    },
    {
     "name": "stderr",
     "output_type": "stream",
     "text": [
      "Tabularize EHR part-202: 100%|██████████| 50/50 [00:02<00:00, 22.79it/s]\n"
     ]
    },
    {
     "name": "stdout",
     "output_type": "stream",
     "text": [
      "[ SUCCESSFULLY SAVED TOTAL UNIT STAY DATA ]\n",
      "--\n",
      "--\n",
      "Tracking num of observation after featrue selection\n",
      "Before selection:  3783238\n",
      "After selection:  2120231\n",
      "Complete featrue selection\n",
      "Start Tabularize Part- 203\n",
      "Number of patient:  45\n"
     ]
    },
    {
     "name": "stderr",
     "output_type": "stream",
     "text": [
      "Tabularize EHR part-203: 100%|██████████| 45/45 [00:02<00:00, 21.80it/s]\n"
     ]
    },
    {
     "name": "stdout",
     "output_type": "stream",
     "text": [
      "[ SUCCESSFULLY SAVED TOTAL UNIT STAY DATA ]\n",
      "--\n",
      "--\n",
      "Tracking num of observation after featrue selection\n",
      "Before selection:  2701141\n",
      "After selection:  1476737\n",
      "Complete featrue selection\n",
      "Start Tabularize Part- 204\n",
      "Number of patient:  32\n"
     ]
    },
    {
     "name": "stderr",
     "output_type": "stream",
     "text": [
      "Tabularize EHR part-204: 100%|██████████| 32/32 [00:01<00:00, 24.43it/s]\n"
     ]
    },
    {
     "name": "stdout",
     "output_type": "stream",
     "text": [
      "[ SUCCESSFULLY SAVED TOTAL UNIT STAY DATA ]\n",
      "--\n",
      "--\n",
      "Tracking num of observation after featrue selection\n",
      "Before selection:  3636018\n",
      "After selection:  1966837\n",
      "Complete featrue selection\n",
      "Start Tabularize Part- 205\n",
      "Number of patient:  44\n"
     ]
    },
    {
     "name": "stderr",
     "output_type": "stream",
     "text": [
      "Tabularize EHR part-205: 100%|██████████| 44/44 [00:02<00:00, 21.49it/s]\n"
     ]
    },
    {
     "name": "stdout",
     "output_type": "stream",
     "text": [
      "[ SUCCESSFULLY SAVED TOTAL UNIT STAY DATA ]\n",
      "--\n",
      "--\n",
      "Tracking num of observation after featrue selection\n",
      "Before selection:  3013228\n",
      "After selection:  1611886\n",
      "Complete featrue selection\n",
      "Start Tabularize Part- 206\n",
      "Number of patient:  37\n"
     ]
    },
    {
     "name": "stderr",
     "output_type": "stream",
     "text": [
      "Tabularize EHR part-206: 100%|██████████| 37/37 [00:01<00:00, 22.91it/s]\n"
     ]
    },
    {
     "name": "stdout",
     "output_type": "stream",
     "text": [
      "[ SUCCESSFULLY SAVED TOTAL UNIT STAY DATA ]\n",
      "--\n",
      "--\n",
      "Tracking num of observation after featrue selection\n",
      "Before selection:  2679914\n",
      "After selection:  1473659\n",
      "Complete featrue selection\n",
      "Start Tabularize Part- 207\n",
      "Number of patient:  40\n"
     ]
    },
    {
     "name": "stderr",
     "output_type": "stream",
     "text": [
      "Tabularize EHR part-207: 100%|██████████| 40/40 [00:01<00:00, 24.81it/s]\n"
     ]
    },
    {
     "name": "stdout",
     "output_type": "stream",
     "text": [
      "[ SUCCESSFULLY SAVED TOTAL UNIT STAY DATA ]\n",
      "--\n",
      "--\n",
      "Tracking num of observation after featrue selection\n",
      "Before selection:  4342678\n",
      "After selection:  2282964\n",
      "Complete featrue selection\n",
      "Start Tabularize Part- 208\n",
      "Number of patient:  52\n"
     ]
    },
    {
     "name": "stderr",
     "output_type": "stream",
     "text": [
      "Tabularize EHR part-208: 100%|██████████| 52/52 [00:02<00:00, 19.76it/s]\n"
     ]
    },
    {
     "name": "stdout",
     "output_type": "stream",
     "text": [
      "[ SUCCESSFULLY SAVED TOTAL UNIT STAY DATA ]\n",
      "--\n",
      "--\n",
      "Tracking num of observation after featrue selection\n",
      "Before selection:  3364142\n",
      "After selection:  1724433\n",
      "Complete featrue selection\n",
      "Start Tabularize Part- 209\n",
      "Number of patient:  49\n"
     ]
    },
    {
     "name": "stderr",
     "output_type": "stream",
     "text": [
      "Tabularize EHR part-209: 100%|██████████| 49/49 [00:02<00:00, 21.05it/s]\n"
     ]
    },
    {
     "name": "stdout",
     "output_type": "stream",
     "text": [
      "[ SUCCESSFULLY SAVED TOTAL UNIT STAY DATA ]\n",
      "--\n",
      "--\n",
      "Tracking num of observation after featrue selection\n",
      "Before selection:  2647642\n",
      "After selection:  1462263\n",
      "Complete featrue selection\n",
      "Start Tabularize Part- 210\n",
      "Number of patient:  41\n"
     ]
    },
    {
     "name": "stderr",
     "output_type": "stream",
     "text": [
      "Tabularize EHR part-210: 100%|██████████| 41/41 [00:01<00:00, 25.06it/s]\n"
     ]
    },
    {
     "name": "stdout",
     "output_type": "stream",
     "text": [
      "[ SUCCESSFULLY SAVED TOTAL UNIT STAY DATA ]\n",
      "--\n",
      "--\n",
      "Tracking num of observation after featrue selection\n",
      "Before selection:  2904277\n",
      "After selection:  1572147\n",
      "Complete featrue selection\n",
      "Start Tabularize Part- 211\n",
      "Number of patient:  43\n"
     ]
    },
    {
     "name": "stderr",
     "output_type": "stream",
     "text": [
      "Tabularize EHR part-211: 100%|██████████| 43/43 [00:01<00:00, 23.38it/s]\n"
     ]
    },
    {
     "name": "stdout",
     "output_type": "stream",
     "text": [
      "[ SUCCESSFULLY SAVED TOTAL UNIT STAY DATA ]\n",
      "--\n",
      "--\n",
      "Tracking num of observation after featrue selection\n",
      "Before selection:  2656330\n",
      "After selection:  1454722\n",
      "Complete featrue selection\n",
      "Start Tabularize Part- 212\n",
      "Number of patient:  34\n"
     ]
    },
    {
     "name": "stderr",
     "output_type": "stream",
     "text": [
      "Tabularize EHR part-212: 100%|██████████| 34/34 [00:01<00:00, 25.89it/s]\n"
     ]
    },
    {
     "name": "stdout",
     "output_type": "stream",
     "text": [
      "[ SUCCESSFULLY SAVED TOTAL UNIT STAY DATA ]\n",
      "--\n",
      "--\n",
      "Tracking num of observation after featrue selection\n",
      "Before selection:  2549560\n",
      "After selection:  1441384\n",
      "Complete featrue selection\n",
      "Start Tabularize Part- 213\n",
      "Number of patient:  43\n"
     ]
    },
    {
     "name": "stderr",
     "output_type": "stream",
     "text": [
      "Tabularize EHR part-213: 100%|██████████| 43/43 [00:01<00:00, 24.83it/s]\n"
     ]
    },
    {
     "name": "stdout",
     "output_type": "stream",
     "text": [
      "[ SUCCESSFULLY SAVED TOTAL UNIT STAY DATA ]\n",
      "--\n",
      "--\n",
      "Tracking num of observation after featrue selection\n",
      "Before selection:  3307331\n",
      "After selection:  1748175\n",
      "Complete featrue selection\n",
      "Start Tabularize Part- 214\n",
      "Number of patient:  47\n"
     ]
    },
    {
     "name": "stderr",
     "output_type": "stream",
     "text": [
      "Tabularize EHR part-214: 100%|██████████| 47/47 [00:02<00:00, 22.57it/s]\n"
     ]
    },
    {
     "name": "stdout",
     "output_type": "stream",
     "text": [
      "[ SUCCESSFULLY SAVED TOTAL UNIT STAY DATA ]\n",
      "--\n",
      "--\n",
      "Tracking num of observation after featrue selection\n",
      "Before selection:  3369922\n",
      "After selection:  1891515\n",
      "Complete featrue selection\n",
      "Start Tabularize Part- 215\n",
      "Number of patient:  40\n"
     ]
    },
    {
     "name": "stderr",
     "output_type": "stream",
     "text": [
      "Tabularize EHR part-215: 100%|██████████| 40/40 [00:01<00:00, 21.31it/s]\n"
     ]
    },
    {
     "name": "stdout",
     "output_type": "stream",
     "text": [
      "[ SUCCESSFULLY SAVED TOTAL UNIT STAY DATA ]\n",
      "--\n",
      "--\n",
      "Tracking num of observation after featrue selection\n",
      "Before selection:  2961745\n",
      "After selection:  1591097\n",
      "Complete featrue selection\n",
      "Start Tabularize Part- 216\n",
      "Number of patient:  43\n"
     ]
    },
    {
     "name": "stderr",
     "output_type": "stream",
     "text": [
      "Tabularize EHR part-216: 100%|██████████| 43/43 [00:01<00:00, 22.80it/s]\n"
     ]
    },
    {
     "name": "stdout",
     "output_type": "stream",
     "text": [
      "[ SUCCESSFULLY SAVED TOTAL UNIT STAY DATA ]\n",
      "--\n",
      "--\n",
      "Tracking num of observation after featrue selection\n",
      "Before selection:  3439851\n",
      "After selection:  1887159\n",
      "Complete featrue selection\n",
      "Start Tabularize Part- 217\n",
      "Number of patient:  48\n"
     ]
    },
    {
     "name": "stderr",
     "output_type": "stream",
     "text": [
      "Tabularize EHR part-217: 100%|██████████| 48/48 [00:02<00:00, 22.14it/s]\n"
     ]
    },
    {
     "name": "stdout",
     "output_type": "stream",
     "text": [
      "[ SUCCESSFULLY SAVED TOTAL UNIT STAY DATA ]\n",
      "--\n",
      "--\n",
      "Tracking num of observation after featrue selection\n",
      "Before selection:  3110256\n",
      "After selection:  1648146\n",
      "Complete featrue selection\n",
      "Start Tabularize Part- 218\n",
      "Number of patient:  41\n"
     ]
    },
    {
     "name": "stderr",
     "output_type": "stream",
     "text": [
      "Tabularize EHR part-218: 100%|██████████| 41/41 [00:01<00:00, 21.66it/s]\n"
     ]
    },
    {
     "name": "stdout",
     "output_type": "stream",
     "text": [
      "[ SUCCESSFULLY SAVED TOTAL UNIT STAY DATA ]\n",
      "--\n",
      "--\n",
      "Tracking num of observation after featrue selection\n",
      "Before selection:  2718707\n",
      "After selection:  1411253\n",
      "Complete featrue selection\n",
      "Start Tabularize Part- 219\n",
      "Number of patient:  36\n"
     ]
    },
    {
     "name": "stderr",
     "output_type": "stream",
     "text": [
      "Tabularize EHR part-219: 100%|██████████| 36/36 [00:01<00:00, 24.07it/s]\n"
     ]
    },
    {
     "name": "stdout",
     "output_type": "stream",
     "text": [
      "[ SUCCESSFULLY SAVED TOTAL UNIT STAY DATA ]\n",
      "--\n",
      "--\n",
      "Tracking num of observation after featrue selection\n",
      "Before selection:  4166239\n",
      "After selection:  2259839\n",
      "Complete featrue selection\n",
      "Start Tabularize Part- 220\n",
      "Number of patient:  68\n"
     ]
    },
    {
     "name": "stderr",
     "output_type": "stream",
     "text": [
      "Tabularize EHR part-220: 100%|██████████| 68/68 [00:03<00:00, 20.19it/s]\n"
     ]
    },
    {
     "name": "stdout",
     "output_type": "stream",
     "text": [
      "[ SUCCESSFULLY SAVED TOTAL UNIT STAY DATA ]\n",
      "--\n",
      "--\n",
      "Tracking num of observation after featrue selection\n",
      "Before selection:  2917733\n",
      "After selection:  1532905\n",
      "Complete featrue selection\n",
      "Start Tabularize Part- 221\n",
      "Number of patient:  38\n"
     ]
    },
    {
     "name": "stderr",
     "output_type": "stream",
     "text": [
      "Tabularize EHR part-221: 100%|██████████| 38/38 [00:01<00:00, 22.03it/s]\n"
     ]
    },
    {
     "name": "stdout",
     "output_type": "stream",
     "text": [
      "[ SUCCESSFULLY SAVED TOTAL UNIT STAY DATA ]\n",
      "--\n",
      "--\n",
      "Tracking num of observation after featrue selection\n",
      "Before selection:  2199146\n",
      "After selection:  1234898\n",
      "Complete featrue selection\n",
      "Start Tabularize Part- 222\n",
      "Number of patient:  36\n"
     ]
    },
    {
     "name": "stderr",
     "output_type": "stream",
     "text": [
      "Tabularize EHR part-222: 100%|██████████| 36/36 [00:01<00:00, 26.57it/s]\n"
     ]
    },
    {
     "name": "stdout",
     "output_type": "stream",
     "text": [
      "[ SUCCESSFULLY SAVED TOTAL UNIT STAY DATA ]\n",
      "--\n",
      "--\n",
      "Tracking num of observation after featrue selection\n",
      "Before selection:  2393502\n",
      "After selection:  1372851\n",
      "Complete featrue selection\n",
      "Start Tabularize Part- 223\n",
      "Number of patient:  28\n"
     ]
    },
    {
     "name": "stderr",
     "output_type": "stream",
     "text": [
      "Tabularize EHR part-223: 100%|██████████| 28/28 [00:01<00:00, 24.66it/s]\n"
     ]
    },
    {
     "name": "stdout",
     "output_type": "stream",
     "text": [
      "[ SUCCESSFULLY SAVED TOTAL UNIT STAY DATA ]\n",
      "--\n",
      "--\n",
      "Tracking num of observation after featrue selection\n",
      "Before selection:  2184506\n",
      "After selection:  1212438\n",
      "Complete featrue selection\n",
      "Start Tabularize Part- 224\n",
      "Number of patient:  33\n"
     ]
    },
    {
     "name": "stderr",
     "output_type": "stream",
     "text": [
      "Tabularize EHR part-224: 100%|██████████| 33/33 [00:01<00:00, 28.04it/s]\n"
     ]
    },
    {
     "name": "stdout",
     "output_type": "stream",
     "text": [
      "[ SUCCESSFULLY SAVED TOTAL UNIT STAY DATA ]\n",
      "--\n",
      "--\n",
      "Tracking num of observation after featrue selection\n",
      "Before selection:  2799756\n",
      "After selection:  1505246\n",
      "Complete featrue selection\n",
      "Start Tabularize Part- 225\n",
      "Number of patient:  38\n"
     ]
    },
    {
     "name": "stderr",
     "output_type": "stream",
     "text": [
      "Tabularize EHR part-225: 100%|██████████| 38/38 [00:01<00:00, 22.85it/s]\n"
     ]
    },
    {
     "name": "stdout",
     "output_type": "stream",
     "text": [
      "[ SUCCESSFULLY SAVED TOTAL UNIT STAY DATA ]\n",
      "--\n",
      "--\n",
      "Tracking num of observation after featrue selection\n",
      "Before selection:  2334681\n",
      "After selection:  1266256\n",
      "Complete featrue selection\n",
      "Start Tabularize Part- 226\n",
      "Number of patient:  38\n"
     ]
    },
    {
     "name": "stderr",
     "output_type": "stream",
     "text": [
      "Tabularize EHR part-226: 100%|██████████| 38/38 [00:01<00:00, 25.40it/s]\n"
     ]
    },
    {
     "name": "stdout",
     "output_type": "stream",
     "text": [
      "[ SUCCESSFULLY SAVED TOTAL UNIT STAY DATA ]\n",
      "--\n",
      "--\n",
      "Tracking num of observation after featrue selection\n",
      "Before selection:  2590533\n",
      "After selection:  1451936\n",
      "Complete featrue selection\n",
      "Start Tabularize Part- 227\n",
      "Number of patient:  46\n"
     ]
    },
    {
     "name": "stderr",
     "output_type": "stream",
     "text": [
      "Tabularize EHR part-227: 100%|██████████| 46/46 [00:01<00:00, 24.40it/s]\n"
     ]
    },
    {
     "name": "stdout",
     "output_type": "stream",
     "text": [
      "[ SUCCESSFULLY SAVED TOTAL UNIT STAY DATA ]\n",
      "--\n",
      "--\n",
      "Tracking num of observation after featrue selection\n",
      "Before selection:  4408331\n",
      "After selection:  2425421\n",
      "Complete featrue selection\n",
      "Start Tabularize Part- 228\n",
      "Number of patient:  54\n"
     ]
    },
    {
     "name": "stderr",
     "output_type": "stream",
     "text": [
      "Tabularize EHR part-228: 100%|██████████| 54/54 [00:02<00:00, 18.12it/s]\n"
     ]
    },
    {
     "name": "stdout",
     "output_type": "stream",
     "text": [
      "[ SUCCESSFULLY SAVED TOTAL UNIT STAY DATA ]\n",
      "--\n",
      "--\n",
      "Tracking num of observation after featrue selection\n",
      "Before selection:  2497313\n",
      "After selection:  1406393\n",
      "Complete featrue selection\n",
      "Start Tabularize Part- 229\n",
      "Number of patient:  44\n"
     ]
    },
    {
     "name": "stderr",
     "output_type": "stream",
     "text": [
      "Tabularize EHR part-229: 100%|██████████| 44/44 [00:01<00:00, 25.96it/s]\n"
     ]
    },
    {
     "name": "stdout",
     "output_type": "stream",
     "text": [
      "[ SUCCESSFULLY SAVED TOTAL UNIT STAY DATA ]\n",
      "--\n",
      "--\n",
      "Tracking num of observation after featrue selection\n",
      "Before selection:  2573536\n",
      "After selection:  1393837\n",
      "Complete featrue selection\n",
      "Start Tabularize Part- 230\n",
      "Number of patient:  41\n"
     ]
    },
    {
     "name": "stderr",
     "output_type": "stream",
     "text": [
      "Tabularize EHR part-230: 100%|██████████| 41/41 [00:01<00:00, 26.57it/s]\n"
     ]
    },
    {
     "name": "stdout",
     "output_type": "stream",
     "text": [
      "[ SUCCESSFULLY SAVED TOTAL UNIT STAY DATA ]\n",
      "--\n",
      "--\n",
      "Tracking num of observation after featrue selection\n",
      "Before selection:  3542759\n",
      "After selection:  1810752\n",
      "Complete featrue selection\n",
      "Start Tabularize Part- 231\n",
      "Number of patient:  58\n"
     ]
    },
    {
     "name": "stderr",
     "output_type": "stream",
     "text": [
      "Tabularize EHR part-231: 100%|██████████| 58/58 [00:02<00:00, 21.18it/s]\n"
     ]
    },
    {
     "name": "stdout",
     "output_type": "stream",
     "text": [
      "[ SUCCESSFULLY SAVED TOTAL UNIT STAY DATA ]\n",
      "--\n",
      "--\n",
      "Tracking num of observation after featrue selection\n",
      "Before selection:  3079484\n",
      "After selection:  1588035\n",
      "Complete featrue selection\n",
      "Start Tabularize Part- 232\n",
      "Number of patient:  49\n"
     ]
    },
    {
     "name": "stderr",
     "output_type": "stream",
     "text": [
      "Tabularize EHR part-232: 100%|██████████| 49/49 [00:02<00:00, 21.74it/s]\n"
     ]
    },
    {
     "name": "stdout",
     "output_type": "stream",
     "text": [
      "[ SUCCESSFULLY SAVED TOTAL UNIT STAY DATA ]\n",
      "--\n",
      "--\n",
      "Tracking num of observation after featrue selection\n",
      "Before selection:  4528087\n",
      "After selection:  2562397\n",
      "Complete featrue selection\n",
      "Start Tabularize Part- 233\n",
      "Number of patient:  46\n"
     ]
    },
    {
     "name": "stderr",
     "output_type": "stream",
     "text": [
      "Tabularize EHR part-233: 100%|██████████| 46/46 [00:02<00:00, 19.22it/s]\n"
     ]
    },
    {
     "name": "stdout",
     "output_type": "stream",
     "text": [
      "[ SUCCESSFULLY SAVED TOTAL UNIT STAY DATA ]\n",
      "--\n",
      "--\n",
      "Tracking num of observation after featrue selection\n",
      "Before selection:  3894323\n",
      "After selection:  2097593\n",
      "Complete featrue selection\n",
      "Start Tabularize Part- 234\n",
      "Number of patient:  47\n"
     ]
    },
    {
     "name": "stderr",
     "output_type": "stream",
     "text": [
      "Tabularize EHR part-234: 100%|██████████| 47/47 [00:02<00:00, 19.49it/s]\n"
     ]
    },
    {
     "name": "stdout",
     "output_type": "stream",
     "text": [
      "[ SUCCESSFULLY SAVED TOTAL UNIT STAY DATA ]\n",
      "--\n",
      "--\n",
      "Tracking num of observation after featrue selection\n",
      "Before selection:  2928994\n",
      "After selection:  1606492\n",
      "Complete featrue selection\n",
      "Start Tabularize Part- 235\n",
      "Number of patient:  39\n"
     ]
    },
    {
     "name": "stderr",
     "output_type": "stream",
     "text": [
      "Tabularize EHR part-235: 100%|██████████| 39/39 [00:01<00:00, 22.01it/s]\n"
     ]
    },
    {
     "name": "stdout",
     "output_type": "stream",
     "text": [
      "[ SUCCESSFULLY SAVED TOTAL UNIT STAY DATA ]\n",
      "--\n",
      "--\n",
      "Tracking num of observation after featrue selection\n",
      "Before selection:  3001572\n",
      "After selection:  1620027\n",
      "Complete featrue selection\n",
      "Start Tabularize Part- 236\n",
      "Number of patient:  47\n"
     ]
    },
    {
     "name": "stderr",
     "output_type": "stream",
     "text": [
      "Tabularize EHR part-236: 100%|██████████| 47/47 [00:02<00:00, 22.21it/s]\n"
     ]
    },
    {
     "name": "stdout",
     "output_type": "stream",
     "text": [
      "[ SUCCESSFULLY SAVED TOTAL UNIT STAY DATA ]\n",
      "--\n",
      "--\n",
      "Tracking num of observation after featrue selection\n",
      "Before selection:  3167996\n",
      "After selection:  1724623\n",
      "Complete featrue selection\n",
      "Start Tabularize Part- 237\n",
      "Number of patient:  47\n"
     ]
    },
    {
     "name": "stderr",
     "output_type": "stream",
     "text": [
      "Tabularize EHR part-237: 100%|██████████| 47/47 [00:02<00:00, 23.42it/s]\n"
     ]
    },
    {
     "name": "stdout",
     "output_type": "stream",
     "text": [
      "[ SUCCESSFULLY SAVED TOTAL UNIT STAY DATA ]\n",
      "--\n",
      "--\n",
      "Tracking num of observation after featrue selection\n",
      "Before selection:  4368518\n",
      "After selection:  2470150\n",
      "Complete featrue selection\n",
      "Start Tabularize Part- 238\n",
      "Number of patient:  46\n"
     ]
    },
    {
     "name": "stderr",
     "output_type": "stream",
     "text": [
      "Tabularize EHR part-238: 100%|██████████| 46/46 [00:02<00:00, 18.02it/s]\n"
     ]
    },
    {
     "name": "stdout",
     "output_type": "stream",
     "text": [
      "[ SUCCESSFULLY SAVED TOTAL UNIT STAY DATA ]\n",
      "--\n",
      "--\n",
      "Tracking num of observation after featrue selection\n",
      "Before selection:  3709504\n",
      "After selection:  1984688\n",
      "Complete featrue selection\n",
      "Start Tabularize Part- 239\n",
      "Number of patient:  44\n"
     ]
    },
    {
     "name": "stderr",
     "output_type": "stream",
     "text": [
      "Tabularize EHR part-239: 100%|██████████| 44/44 [00:02<00:00, 21.43it/s]\n"
     ]
    },
    {
     "name": "stdout",
     "output_type": "stream",
     "text": [
      "[ SUCCESSFULLY SAVED TOTAL UNIT STAY DATA ]\n",
      "--\n",
      "--\n",
      "Tracking num of observation after featrue selection\n",
      "Before selection:  4646326\n",
      "After selection:  2518212\n",
      "Complete featrue selection\n",
      "Start Tabularize Part- 240\n",
      "Number of patient:  47\n"
     ]
    },
    {
     "name": "stderr",
     "output_type": "stream",
     "text": [
      "Tabularize EHR part-240: 100%|██████████| 47/47 [00:02<00:00, 19.35it/s]\n"
     ]
    },
    {
     "name": "stdout",
     "output_type": "stream",
     "text": [
      "[ SUCCESSFULLY SAVED TOTAL UNIT STAY DATA ]\n",
      "--\n",
      "--\n",
      "Tracking num of observation after featrue selection\n",
      "Before selection:  2818400\n",
      "After selection:  1477713\n",
      "Complete featrue selection\n",
      "Start Tabularize Part- 241\n",
      "Number of patient:  38\n"
     ]
    },
    {
     "name": "stderr",
     "output_type": "stream",
     "text": [
      "Tabularize EHR part-241: 100%|██████████| 38/38 [00:01<00:00, 22.57it/s]\n"
     ]
    },
    {
     "name": "stdout",
     "output_type": "stream",
     "text": [
      "[ SUCCESSFULLY SAVED TOTAL UNIT STAY DATA ]\n",
      "--\n",
      "--\n",
      "Tracking num of observation after featrue selection\n",
      "Before selection:  3321537\n",
      "After selection:  1921454\n",
      "Complete featrue selection\n",
      "Start Tabularize Part- 242\n",
      "Number of patient:  39\n"
     ]
    },
    {
     "name": "stderr",
     "output_type": "stream",
     "text": [
      "Tabularize EHR part-242: 100%|██████████| 39/39 [00:01<00:00, 19.77it/s]\n"
     ]
    },
    {
     "name": "stdout",
     "output_type": "stream",
     "text": [
      "[ SUCCESSFULLY SAVED TOTAL UNIT STAY DATA ]\n",
      "--\n",
      "--\n",
      "Tracking num of observation after featrue selection\n",
      "Before selection:  2752488\n",
      "After selection:  1412424\n",
      "Complete featrue selection\n",
      "Start Tabularize Part- 243\n",
      "Number of patient:  35\n"
     ]
    },
    {
     "name": "stderr",
     "output_type": "stream",
     "text": [
      "Tabularize EHR part-243: 100%|██████████| 35/35 [00:01<00:00, 23.03it/s]\n"
     ]
    },
    {
     "name": "stdout",
     "output_type": "stream",
     "text": [
      "[ SUCCESSFULLY SAVED TOTAL UNIT STAY DATA ]\n",
      "--\n",
      "--\n",
      "Tracking num of observation after featrue selection\n",
      "Before selection:  3749143\n",
      "After selection:  1976916\n",
      "Complete featrue selection\n",
      "Start Tabularize Part- 244\n",
      "Number of patient:  44\n"
     ]
    },
    {
     "name": "stderr",
     "output_type": "stream",
     "text": [
      "Tabularize EHR part-244: 100%|██████████| 44/44 [00:02<00:00, 20.66it/s]\n"
     ]
    },
    {
     "name": "stdout",
     "output_type": "stream",
     "text": [
      "[ SUCCESSFULLY SAVED TOTAL UNIT STAY DATA ]\n",
      "--\n",
      "--\n",
      "Tracking num of observation after featrue selection\n",
      "Before selection:  3030965\n",
      "After selection:  1705199\n",
      "Complete featrue selection\n",
      "Start Tabularize Part- 245\n",
      "Number of patient:  40\n"
     ]
    },
    {
     "name": "stderr",
     "output_type": "stream",
     "text": [
      "Tabularize EHR part-245: 100%|██████████| 40/40 [00:01<00:00, 23.38it/s]\n"
     ]
    },
    {
     "name": "stdout",
     "output_type": "stream",
     "text": [
      "[ SUCCESSFULLY SAVED TOTAL UNIT STAY DATA ]\n",
      "--\n",
      "--\n",
      "Tracking num of observation after featrue selection\n",
      "Before selection:  2993026\n",
      "After selection:  1668179\n",
      "Complete featrue selection\n",
      "Start Tabularize Part- 246\n",
      "Number of patient:  39\n"
     ]
    },
    {
     "name": "stderr",
     "output_type": "stream",
     "text": [
      "Tabularize EHR part-246: 100%|██████████| 39/39 [00:01<00:00, 22.82it/s]\n"
     ]
    },
    {
     "name": "stdout",
     "output_type": "stream",
     "text": [
      "[ SUCCESSFULLY SAVED TOTAL UNIT STAY DATA ]\n",
      "--\n",
      "--\n",
      "Tracking num of observation after featrue selection\n",
      "Before selection:  2448140\n",
      "After selection:  1305609\n",
      "Complete featrue selection\n",
      "Start Tabularize Part- 247\n",
      "Number of patient:  38\n"
     ]
    },
    {
     "name": "stderr",
     "output_type": "stream",
     "text": [
      "Tabularize EHR part-247: 100%|██████████| 38/38 [00:01<00:00, 24.35it/s]\n"
     ]
    },
    {
     "name": "stdout",
     "output_type": "stream",
     "text": [
      "[ SUCCESSFULLY SAVED TOTAL UNIT STAY DATA ]\n",
      "--\n",
      "--\n",
      "Tracking num of observation after featrue selection\n",
      "Before selection:  4286297\n",
      "After selection:  2250480\n",
      "Complete featrue selection\n",
      "Start Tabularize Part- 248\n",
      "Number of patient:  41\n"
     ]
    },
    {
     "name": "stderr",
     "output_type": "stream",
     "text": [
      "Tabularize EHR part-248: 100%|██████████| 41/41 [00:02<00:00, 17.50it/s]\n"
     ]
    },
    {
     "name": "stdout",
     "output_type": "stream",
     "text": [
      "[ SUCCESSFULLY SAVED TOTAL UNIT STAY DATA ]\n",
      "--\n",
      "--\n",
      "Tracking num of observation after featrue selection\n",
      "Before selection:  2686698\n",
      "After selection:  1492508\n",
      "Complete featrue selection\n",
      "Start Tabularize Part- 249\n",
      "Number of patient:  48\n"
     ]
    },
    {
     "name": "stderr",
     "output_type": "stream",
     "text": [
      "Tabularize EHR part-249: 100%|██████████| 48/48 [00:01<00:00, 24.08it/s]\n"
     ]
    },
    {
     "name": "stdout",
     "output_type": "stream",
     "text": [
      "[ SUCCESSFULLY SAVED TOTAL UNIT STAY DATA ]\n",
      "--\n"
     ]
    }
   ],
   "source": [
    "from tabularization import *\n",
    "\n",
    "parts_list=[]\n",
    "for i in range(0, 250):\n",
    "    parts_list.append(i)\n",
    "    \n",
    "data_preprocessing_pipeline(parts_list, 'hourly_intervals')"
   ]
  },
  {
   "cell_type": "code",
   "execution_count": 198,
   "metadata": {},
   "outputs": [
    {
     "name": "stdout",
     "output_type": "stream",
     "text": [
      "[ EXCUTING DATA IMPUTATION ]\n",
      "Part 0 processing......\n"
     ]
    }
   ],
   "source": [
    "from imp import reload\n",
    "import imputation\n",
    "reload(imputation)\n",
    "\n",
    "imputation.Imputation(parts_list)"
   ]
  },
  {
   "cell_type": "code",
   "execution_count": 160,
   "metadata": {},
   "outputs": [],
   "source": [
    "# vital_sign = ['ABPd', 'ABPs', 'FiO2', 'HR', 'MAP', 'PaO2', 'Respiratory_rate', 'SpO2', 'Temperature']\n",
    "# Lab_result = ['Bilirubin', 'Creatinine', 'INR', 'Lactate', 'Platelet count', 'pH']\n",
    "# chart = ['Eye Opening', 'Mortor Response', 'Verbal Response', 'Urine_output', 'Height', 'Weight', 'PEEP']\n",
    "\n",
    "\n",
    "# # vital_sign -> forward filling, 안채워지는 애들(첫 측정 이전 값들): 결측치다라는 표시(-100) 큰 수\n",
    "# # Lab result -> forward filling, 안채워지는 애들(첫 측정 이전 값들): 결측치다라는 표시(-100) 큰 수\n",
    "# # eye opening mortor response verbal response, 키, 몸무게 변수 제거하기\n",
    "# # urine output -> backward fill 얼만큼 해야 하나 -> 따로 기준이 없어서 3시간으로 설정\n",
    "# # PEEP -> PICU에 없어서 라벨링에만 쓰고 이 변수 지우기\n",
    "\n",
    "\n",
    "# drop_list = ['Eye Opening', 'Mortor Response', 'Verbal Response', 'Height', 'Weight']\n",
    "# part_target = part.drop(drop_list, axis = 1)\n",
    "# forward_set = part_target[['patientid', 'Time_since_ICU_admission', 'ABPd', 'ABPs', 'FiO2', 'HR', 'MAP', 'PaO2', 'Respiratory_rate', 'SpO2', 'Temperature']]\n",
    "# lab_set = part_target[['patientid', 'Time_since_ICU_admission', 'Creatinine', 'Lactate', 'Platelet count', 'Bilirubin', 'INR']]\n",
    "# phar_set = part_target[['patientid', 'Time_since_ICU_admission', 'Antibiotics', 'Dobutamine', 'Milrinone', 'Theophyllin']]"
   ]
  }
 ],
 "metadata": {
  "kernelspec": {
   "display_name": "MIMIC",
   "language": "python",
   "name": "python3"
  },
  "language_info": {
   "codemirror_mode": {
    "name": "ipython",
    "version": 3
   },
   "file_extension": ".py",
   "mimetype": "text/x-python",
   "name": "python",
   "nbconvert_exporter": "python",
   "pygments_lexer": "ipython3",
   "version": "3.8.16"
  }
 },
 "nbformat": 4,
 "nbformat_minor": 2
}
