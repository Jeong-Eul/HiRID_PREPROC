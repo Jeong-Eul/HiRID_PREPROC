{
 "cells": [
  {
   "cell_type": "code",
   "execution_count": 1,
   "metadata": {},
   "outputs": [
    {
     "name": "stdout",
     "output_type": "stream",
     "text": [
      "--\n",
      "Tracking num of observation after featrue selection\n",
      "Before selection:  3307075\n",
      "After selection:  1798925\n",
      "Complete featrue selection\n",
      "Start Tabularize Part- 0\n",
      "Number of patient:  48\n"
     ]
    },
    {
     "name": "stderr",
     "output_type": "stream",
     "text": [
      "Tabularize EHR part-0: 100%|██████████| 48/48 [00:01<00:00, 25.78it/s]\n"
     ]
    },
    {
     "name": "stdout",
     "output_type": "stream",
     "text": [
      "[ SUCCESSFULLY SAVED TOTAL UNIT STAY DATA ]\n",
      "--\n",
      "--\n",
      "Tracking num of observation after featrue selection\n",
      "Before selection:  3682933\n",
      "After selection:  1887118\n",
      "Complete featrue selection\n",
      "Start Tabularize Part- 1\n",
      "Number of patient:  53\n"
     ]
    },
    {
     "name": "stderr",
     "output_type": "stream",
     "text": [
      "Tabularize EHR part-1: 100%|██████████| 53/53 [00:02<00:00, 23.88it/s]\n"
     ]
    },
    {
     "name": "stdout",
     "output_type": "stream",
     "text": [
      "[ SUCCESSFULLY SAVED TOTAL UNIT STAY DATA ]\n",
      "--\n",
      "--\n",
      "Tracking num of observation after featrue selection\n",
      "Before selection:  2633385\n",
      "After selection:  1446087\n",
      "Complete featrue selection\n",
      "Start Tabularize Part- 2\n",
      "Number of patient:  41\n"
     ]
    },
    {
     "name": "stderr",
     "output_type": "stream",
     "text": [
      "Tabularize EHR part-2: 100%|██████████| 41/41 [00:01<00:00, 25.26it/s]\n"
     ]
    },
    {
     "name": "stdout",
     "output_type": "stream",
     "text": [
      "[ SUCCESSFULLY SAVED TOTAL UNIT STAY DATA ]\n",
      "--\n",
      "--\n",
      "Tracking num of observation after featrue selection\n",
      "Before selection:  2686876\n",
      "After selection:  1542038\n",
      "Complete featrue selection\n",
      "Start Tabularize Part- 3\n",
      "Number of patient:  50\n"
     ]
    },
    {
     "name": "stderr",
     "output_type": "stream",
     "text": [
      "Tabularize EHR part-3: 100%|██████████| 50/50 [00:02<00:00, 23.96it/s]\n"
     ]
    },
    {
     "name": "stdout",
     "output_type": "stream",
     "text": [
      "[ SUCCESSFULLY SAVED TOTAL UNIT STAY DATA ]\n",
      "--\n",
      "--\n",
      "Tracking num of observation after featrue selection\n",
      "Before selection:  2412562\n",
      "After selection:  1329100\n",
      "Complete featrue selection\n",
      "Start Tabularize Part- 4\n",
      "Number of patient:  33\n"
     ]
    },
    {
     "name": "stderr",
     "output_type": "stream",
     "text": [
      "Tabularize EHR part-4: 100%|██████████| 33/33 [00:01<00:00, 25.46it/s]\n"
     ]
    },
    {
     "name": "stdout",
     "output_type": "stream",
     "text": [
      "[ SUCCESSFULLY SAVED TOTAL UNIT STAY DATA ]\n",
      "--\n",
      "--\n",
      "Tracking num of observation after featrue selection\n",
      "Before selection:  2431984\n",
      "After selection:  1314051\n",
      "Complete featrue selection\n",
      "Start Tabularize Part- 5\n",
      "Number of patient:  43\n"
     ]
    },
    {
     "name": "stderr",
     "output_type": "stream",
     "text": [
      "Tabularize EHR part-5: 100%|██████████| 43/43 [00:01<00:00, 25.59it/s]\n"
     ]
    },
    {
     "name": "stdout",
     "output_type": "stream",
     "text": [
      "[ SUCCESSFULLY SAVED TOTAL UNIT STAY DATA ]\n",
      "--\n",
      "--\n",
      "Tracking num of observation after featrue selection\n",
      "Before selection:  4747732\n",
      "After selection:  2601968\n",
      "Complete featrue selection\n",
      "Start Tabularize Part- 6\n",
      "Number of patient:  46\n"
     ]
    },
    {
     "name": "stderr",
     "output_type": "stream",
     "text": [
      "Tabularize EHR part-6: 100%|██████████| 46/46 [00:02<00:00, 18.38it/s]\n"
     ]
    },
    {
     "name": "stdout",
     "output_type": "stream",
     "text": [
      "[ SUCCESSFULLY SAVED TOTAL UNIT STAY DATA ]\n",
      "--\n",
      "--\n",
      "Tracking num of observation after featrue selection\n",
      "Before selection:  2191218\n",
      "After selection:  1256246\n",
      "Complete featrue selection\n",
      "Start Tabularize Part- 7\n",
      "Number of patient:  34\n"
     ]
    },
    {
     "name": "stderr",
     "output_type": "stream",
     "text": [
      "Tabularize EHR part-7: 100%|██████████| 34/34 [00:01<00:00, 26.69it/s]\n"
     ]
    },
    {
     "name": "stdout",
     "output_type": "stream",
     "text": [
      "[ SUCCESSFULLY SAVED TOTAL UNIT STAY DATA ]\n",
      "--\n",
      "--\n",
      "Tracking num of observation after featrue selection\n",
      "Before selection:  3843067\n",
      "After selection:  2209589\n",
      "Complete featrue selection\n",
      "Start Tabularize Part- 8\n",
      "Number of patient:  58\n"
     ]
    },
    {
     "name": "stderr",
     "output_type": "stream",
     "text": [
      "Tabularize EHR part-8: 100%|██████████| 58/58 [00:04<00:00, 11.91it/s]\n"
     ]
    },
    {
     "name": "stdout",
     "output_type": "stream",
     "text": [
      "[ SUCCESSFULLY SAVED TOTAL UNIT STAY DATA ]\n",
      "--\n",
      "--\n",
      "Tracking num of observation after featrue selection\n",
      "Before selection:  3174137\n",
      "After selection:  1740680\n",
      "Complete featrue selection\n",
      "Start Tabularize Part- 9\n",
      "Number of patient:  35\n"
     ]
    },
    {
     "name": "stderr",
     "output_type": "stream",
     "text": [
      "Tabularize EHR part-9: 100%|██████████| 35/35 [00:02<00:00, 14.05it/s]\n"
     ]
    },
    {
     "name": "stdout",
     "output_type": "stream",
     "text": [
      "[ SUCCESSFULLY SAVED TOTAL UNIT STAY DATA ]\n",
      "--\n",
      "--\n",
      "Tracking num of observation after featrue selection\n",
      "Before selection:  3621773\n",
      "After selection:  1908085\n",
      "Complete featrue selection\n",
      "Start Tabularize Part- 10\n",
      "Number of patient:  49\n"
     ]
    },
    {
     "name": "stderr",
     "output_type": "stream",
     "text": [
      "Tabularize EHR part-10: 100%|██████████| 49/49 [00:03<00:00, 13.29it/s]\n"
     ]
    },
    {
     "name": "stdout",
     "output_type": "stream",
     "text": [
      "[ SUCCESSFULLY SAVED TOTAL UNIT STAY DATA ]\n",
      "--\n",
      "--\n",
      "Tracking num of observation after featrue selection\n",
      "Before selection:  2596873\n",
      "After selection:  1435029\n",
      "Complete featrue selection\n",
      "Start Tabularize Part- 11\n",
      "Number of patient:  35\n"
     ]
    },
    {
     "name": "stderr",
     "output_type": "stream",
     "text": [
      "Tabularize EHR part-11: 100%|██████████| 35/35 [00:02<00:00, 16.90it/s]\n"
     ]
    },
    {
     "name": "stdout",
     "output_type": "stream",
     "text": [
      "[ SUCCESSFULLY SAVED TOTAL UNIT STAY DATA ]\n",
      "--\n",
      "--\n",
      "Tracking num of observation after featrue selection\n",
      "Before selection:  3056916\n",
      "After selection:  1696273\n",
      "Complete featrue selection\n",
      "Start Tabularize Part- 12\n",
      "Number of patient:  49\n"
     ]
    },
    {
     "name": "stderr",
     "output_type": "stream",
     "text": [
      "Tabularize EHR part-12: 100%|██████████| 49/49 [00:03<00:00, 14.39it/s]\n"
     ]
    },
    {
     "name": "stdout",
     "output_type": "stream",
     "text": [
      "[ SUCCESSFULLY SAVED TOTAL UNIT STAY DATA ]\n",
      "--\n",
      "--\n",
      "Tracking num of observation after featrue selection\n",
      "Before selection:  3731738\n",
      "After selection:  2034441\n",
      "Complete featrue selection\n",
      "Start Tabularize Part- 13\n",
      "Number of patient:  53\n"
     ]
    },
    {
     "name": "stderr",
     "output_type": "stream",
     "text": [
      "Tabularize EHR part-13: 100%|██████████| 53/53 [00:03<00:00, 13.90it/s]\n"
     ]
    },
    {
     "name": "stdout",
     "output_type": "stream",
     "text": [
      "[ SUCCESSFULLY SAVED TOTAL UNIT STAY DATA ]\n",
      "--\n",
      "--\n",
      "Tracking num of observation after featrue selection\n",
      "Before selection:  3319306\n",
      "After selection:  1908287\n",
      "Complete featrue selection\n",
      "Start Tabularize Part- 14\n",
      "Number of patient:  41\n"
     ]
    },
    {
     "name": "stderr",
     "output_type": "stream",
     "text": [
      "Tabularize EHR part-14: 100%|██████████| 41/41 [00:02<00:00, 14.98it/s]\n"
     ]
    },
    {
     "name": "stdout",
     "output_type": "stream",
     "text": [
      "[ SUCCESSFULLY SAVED TOTAL UNIT STAY DATA ]\n",
      "--\n",
      "--\n",
      "Tracking num of observation after featrue selection\n",
      "Before selection:  2888284\n",
      "After selection:  1580882\n",
      "Complete featrue selection\n",
      "Start Tabularize Part- 15\n",
      "Number of patient:  42\n"
     ]
    },
    {
     "name": "stderr",
     "output_type": "stream",
     "text": [
      "Tabularize EHR part-15: 100%|██████████| 42/42 [00:02<00:00, 15.13it/s]\n"
     ]
    },
    {
     "name": "stdout",
     "output_type": "stream",
     "text": [
      "[ SUCCESSFULLY SAVED TOTAL UNIT STAY DATA ]\n",
      "--\n",
      "--\n",
      "Tracking num of observation after featrue selection\n",
      "Before selection:  2351027\n",
      "After selection:  1322339\n",
      "Complete featrue selection\n",
      "Start Tabularize Part- 16\n",
      "Number of patient:  32\n"
     ]
    },
    {
     "name": "stderr",
     "output_type": "stream",
     "text": [
      "Tabularize EHR part-16: 100%|██████████| 32/32 [00:01<00:00, 17.28it/s]\n"
     ]
    },
    {
     "name": "stdout",
     "output_type": "stream",
     "text": [
      "[ SUCCESSFULLY SAVED TOTAL UNIT STAY DATA ]\n",
      "--\n",
      "--\n",
      "Tracking num of observation after featrue selection\n",
      "Before selection:  2888497\n",
      "After selection:  1523849\n",
      "Complete featrue selection\n",
      "Start Tabularize Part- 17\n",
      "Number of patient:  42\n"
     ]
    },
    {
     "name": "stderr",
     "output_type": "stream",
     "text": [
      "Tabularize EHR part-17: 100%|██████████| 42/42 [00:02<00:00, 15.17it/s]\n"
     ]
    },
    {
     "name": "stdout",
     "output_type": "stream",
     "text": [
      "[ SUCCESSFULLY SAVED TOTAL UNIT STAY DATA ]\n",
      "--\n",
      "--\n",
      "Tracking num of observation after featrue selection\n",
      "Before selection:  3189968\n",
      "After selection:  1666104\n",
      "Complete featrue selection\n",
      "Start Tabularize Part- 18\n",
      "Number of patient:  42\n"
     ]
    },
    {
     "name": "stderr",
     "output_type": "stream",
     "text": [
      "Tabularize EHR part-18: 100%|██████████| 42/42 [00:02<00:00, 15.78it/s]\n"
     ]
    },
    {
     "name": "stdout",
     "output_type": "stream",
     "text": [
      "[ SUCCESSFULLY SAVED TOTAL UNIT STAY DATA ]\n",
      "--\n",
      "--\n",
      "Tracking num of observation after featrue selection\n",
      "Before selection:  2980473\n",
      "After selection:  1597217\n",
      "Complete featrue selection\n",
      "Start Tabularize Part- 19\n",
      "Number of patient:  41\n"
     ]
    },
    {
     "name": "stderr",
     "output_type": "stream",
     "text": [
      "Tabularize EHR part-19: 100%|██████████| 41/41 [00:02<00:00, 15.06it/s]\n"
     ]
    },
    {
     "name": "stdout",
     "output_type": "stream",
     "text": [
      "[ SUCCESSFULLY SAVED TOTAL UNIT STAY DATA ]\n",
      "--\n",
      "--\n",
      "Tracking num of observation after featrue selection\n",
      "Before selection:  1837052\n",
      "After selection:  1016787\n",
      "Complete featrue selection\n",
      "Start Tabularize Part- 20\n",
      "Number of patient:  28\n"
     ]
    },
    {
     "name": "stderr",
     "output_type": "stream",
     "text": [
      "Tabularize EHR part-20: 100%|██████████| 28/28 [00:01<00:00, 20.21it/s]\n"
     ]
    },
    {
     "name": "stdout",
     "output_type": "stream",
     "text": [
      "[ SUCCESSFULLY SAVED TOTAL UNIT STAY DATA ]\n",
      "--\n",
      "--\n",
      "Tracking num of observation after featrue selection\n",
      "Before selection:  3140877\n",
      "After selection:  1709371\n",
      "Complete featrue selection\n",
      "Start Tabularize Part- 21\n",
      "Number of patient:  50\n"
     ]
    },
    {
     "name": "stderr",
     "output_type": "stream",
     "text": [
      "Tabularize EHR part-21: 100%|██████████| 50/50 [00:02<00:00, 16.76it/s]\n"
     ]
    },
    {
     "name": "stdout",
     "output_type": "stream",
     "text": [
      "[ SUCCESSFULLY SAVED TOTAL UNIT STAY DATA ]\n",
      "--\n",
      "--\n",
      "Tracking num of observation after featrue selection\n",
      "Before selection:  2964964\n",
      "After selection:  1703040\n",
      "Complete featrue selection\n",
      "Start Tabularize Part- 22\n",
      "Number of patient:  41\n"
     ]
    },
    {
     "name": "stderr",
     "output_type": "stream",
     "text": [
      "Tabularize EHR part-22: 100%|██████████| 41/41 [00:02<00:00, 15.20it/s]\n"
     ]
    },
    {
     "name": "stdout",
     "output_type": "stream",
     "text": [
      "[ SUCCESSFULLY SAVED TOTAL UNIT STAY DATA ]\n",
      "--\n",
      "--\n",
      "Tracking num of observation after featrue selection\n",
      "Before selection:  2651818\n",
      "After selection:  1427029\n",
      "Complete featrue selection\n",
      "Start Tabularize Part- 23\n",
      "Number of patient:  44\n"
     ]
    },
    {
     "name": "stderr",
     "output_type": "stream",
     "text": [
      "Tabularize EHR part-23: 100%|██████████| 44/44 [00:02<00:00, 16.69it/s]\n"
     ]
    },
    {
     "name": "stdout",
     "output_type": "stream",
     "text": [
      "[ SUCCESSFULLY SAVED TOTAL UNIT STAY DATA ]\n",
      "--\n",
      "--\n",
      "Tracking num of observation after featrue selection\n",
      "Before selection:  3516040\n",
      "After selection:  1833149\n",
      "Complete featrue selection\n",
      "Start Tabularize Part- 24\n",
      "Number of patient:  60\n"
     ]
    },
    {
     "name": "stderr",
     "output_type": "stream",
     "text": [
      "Tabularize EHR part-24: 100%|██████████| 60/60 [00:02<00:00, 22.42it/s]\n"
     ]
    },
    {
     "name": "stdout",
     "output_type": "stream",
     "text": [
      "[ SUCCESSFULLY SAVED TOTAL UNIT STAY DATA ]\n",
      "--\n",
      "--\n",
      "Tracking num of observation after featrue selection\n",
      "Before selection:  2132587\n",
      "After selection:  1171570\n",
      "Complete featrue selection\n",
      "Start Tabularize Part- 25\n",
      "Number of patient:  38\n"
     ]
    },
    {
     "name": "stderr",
     "output_type": "stream",
     "text": [
      "Tabularize EHR part-25: 100%|██████████| 38/38 [00:01<00:00, 32.20it/s]\n"
     ]
    },
    {
     "name": "stdout",
     "output_type": "stream",
     "text": [
      "[ SUCCESSFULLY SAVED TOTAL UNIT STAY DATA ]\n",
      "--\n",
      "--\n",
      "Tracking num of observation after featrue selection\n",
      "Before selection:  4519684\n",
      "After selection:  2513204\n",
      "Complete featrue selection\n",
      "Start Tabularize Part- 26\n",
      "Number of patient:  49\n"
     ]
    },
    {
     "name": "stderr",
     "output_type": "stream",
     "text": [
      "Tabularize EHR part-26: 100%|██████████| 49/49 [00:03<00:00, 13.66it/s]\n"
     ]
    },
    {
     "name": "stdout",
     "output_type": "stream",
     "text": [
      "[ SUCCESSFULLY SAVED TOTAL UNIT STAY DATA ]\n",
      "--\n",
      "--\n",
      "Tracking num of observation after featrue selection\n",
      "Before selection:  2974820\n",
      "After selection:  1637084\n",
      "Complete featrue selection\n",
      "Start Tabularize Part- 27\n",
      "Number of patient:  48\n"
     ]
    },
    {
     "name": "stderr",
     "output_type": "stream",
     "text": [
      "Tabularize EHR part-27: 100%|██████████| 48/48 [00:03<00:00, 14.32it/s]\n"
     ]
    },
    {
     "name": "stdout",
     "output_type": "stream",
     "text": [
      "[ SUCCESSFULLY SAVED TOTAL UNIT STAY DATA ]\n",
      "--\n",
      "--\n",
      "Tracking num of observation after featrue selection\n",
      "Before selection:  2436618\n",
      "After selection:  1415071\n",
      "Complete featrue selection\n",
      "Start Tabularize Part- 28\n",
      "Number of patient:  40\n"
     ]
    },
    {
     "name": "stderr",
     "output_type": "stream",
     "text": [
      "Tabularize EHR part-28: 100%|██████████| 40/40 [00:02<00:00, 17.16it/s]\n"
     ]
    },
    {
     "name": "stdout",
     "output_type": "stream",
     "text": [
      "[ SUCCESSFULLY SAVED TOTAL UNIT STAY DATA ]\n",
      "--\n",
      "--\n",
      "Tracking num of observation after featrue selection\n",
      "Before selection:  2760436\n",
      "After selection:  1537188\n",
      "Complete featrue selection\n",
      "Start Tabularize Part- 29\n",
      "Number of patient:  37\n"
     ]
    },
    {
     "name": "stderr",
     "output_type": "stream",
     "text": [
      "Tabularize EHR part-29: 100%|██████████| 37/37 [00:02<00:00, 17.25it/s]\n"
     ]
    },
    {
     "name": "stdout",
     "output_type": "stream",
     "text": [
      "[ SUCCESSFULLY SAVED TOTAL UNIT STAY DATA ]\n",
      "--\n",
      "--\n",
      "Tracking num of observation after featrue selection\n",
      "Before selection:  2763795\n",
      "After selection:  1616978\n",
      "Complete featrue selection\n",
      "Start Tabularize Part- 30\n",
      "Number of patient:  30\n"
     ]
    },
    {
     "name": "stderr",
     "output_type": "stream",
     "text": [
      "Tabularize EHR part-30: 100%|██████████| 30/30 [00:01<00:00, 15.23it/s]\n"
     ]
    },
    {
     "name": "stdout",
     "output_type": "stream",
     "text": [
      "[ SUCCESSFULLY SAVED TOTAL UNIT STAY DATA ]\n",
      "--\n",
      "--\n",
      "Tracking num of observation after featrue selection\n",
      "Before selection:  2746669\n",
      "After selection:  1471919\n",
      "Complete featrue selection\n",
      "Start Tabularize Part- 31\n",
      "Number of patient:  35\n"
     ]
    },
    {
     "name": "stderr",
     "output_type": "stream",
     "text": [
      "Tabularize EHR part-31: 100%|██████████| 35/35 [00:02<00:00, 16.32it/s]\n"
     ]
    },
    {
     "name": "stdout",
     "output_type": "stream",
     "text": [
      "[ SUCCESSFULLY SAVED TOTAL UNIT STAY DATA ]\n",
      "--\n",
      "--\n",
      "Tracking num of observation after featrue selection\n",
      "Before selection:  4386628\n",
      "After selection:  2465149\n",
      "Complete featrue selection\n",
      "Start Tabularize Part- 32\n",
      "Number of patient:  56\n"
     ]
    },
    {
     "name": "stderr",
     "output_type": "stream",
     "text": [
      "Tabularize EHR part-32: 100%|██████████| 56/56 [00:04<00:00, 11.99it/s]\n"
     ]
    },
    {
     "name": "stdout",
     "output_type": "stream",
     "text": [
      "[ SUCCESSFULLY SAVED TOTAL UNIT STAY DATA ]\n",
      "--\n",
      "--\n",
      "Tracking num of observation after featrue selection\n",
      "Before selection:  3857617\n",
      "After selection:  2174596\n",
      "Complete featrue selection\n",
      "Start Tabularize Part- 33\n",
      "Number of patient:  50\n"
     ]
    },
    {
     "name": "stderr",
     "output_type": "stream",
     "text": [
      "Tabularize EHR part-33: 100%|██████████| 50/50 [00:03<00:00, 13.45it/s]\n"
     ]
    },
    {
     "name": "stdout",
     "output_type": "stream",
     "text": [
      "[ SUCCESSFULLY SAVED TOTAL UNIT STAY DATA ]\n",
      "--\n",
      "--\n",
      "Tracking num of observation after featrue selection\n",
      "Before selection:  3016568\n",
      "After selection:  1595886\n",
      "Complete featrue selection\n",
      "Start Tabularize Part- 34\n",
      "Number of patient:  51\n"
     ]
    },
    {
     "name": "stderr",
     "output_type": "stream",
     "text": [
      "Tabularize EHR part-34: 100%|██████████| 51/51 [00:03<00:00, 14.85it/s]\n"
     ]
    },
    {
     "name": "stdout",
     "output_type": "stream",
     "text": [
      "[ SUCCESSFULLY SAVED TOTAL UNIT STAY DATA ]\n",
      "--\n",
      "--\n",
      "Tracking num of observation after featrue selection\n",
      "Before selection:  3133860\n",
      "After selection:  1671715\n",
      "Complete featrue selection\n",
      "Start Tabularize Part- 35\n",
      "Number of patient:  48\n"
     ]
    },
    {
     "name": "stderr",
     "output_type": "stream",
     "text": [
      "Tabularize EHR part-35: 100%|██████████| 48/48 [00:03<00:00, 15.45it/s]\n"
     ]
    },
    {
     "name": "stdout",
     "output_type": "stream",
     "text": [
      "[ SUCCESSFULLY SAVED TOTAL UNIT STAY DATA ]\n",
      "--\n",
      "--\n",
      "Tracking num of observation after featrue selection\n",
      "Before selection:  3275859\n",
      "After selection:  1774908\n",
      "Complete featrue selection\n",
      "Start Tabularize Part- 36\n",
      "Number of patient:  38\n"
     ]
    },
    {
     "name": "stderr",
     "output_type": "stream",
     "text": [
      "Tabularize EHR part-36: 100%|██████████| 38/38 [00:02<00:00, 15.04it/s]\n"
     ]
    },
    {
     "name": "stdout",
     "output_type": "stream",
     "text": [
      "[ SUCCESSFULLY SAVED TOTAL UNIT STAY DATA ]\n",
      "--\n",
      "--\n",
      "Tracking num of observation after featrue selection\n",
      "Before selection:  2572114\n",
      "After selection:  1449898\n",
      "Complete featrue selection\n",
      "Start Tabularize Part- 37\n",
      "Number of patient:  40\n"
     ]
    },
    {
     "name": "stderr",
     "output_type": "stream",
     "text": [
      "Tabularize EHR part-37: 100%|██████████| 40/40 [00:02<00:00, 15.44it/s]\n"
     ]
    },
    {
     "name": "stdout",
     "output_type": "stream",
     "text": [
      "[ SUCCESSFULLY SAVED TOTAL UNIT STAY DATA ]\n",
      "--\n",
      "--\n",
      "Tracking num of observation after featrue selection\n",
      "Before selection:  4449468\n",
      "After selection:  2601083\n",
      "Complete featrue selection\n",
      "Start Tabularize Part- 38\n",
      "Number of patient:  46\n"
     ]
    },
    {
     "name": "stderr",
     "output_type": "stream",
     "text": [
      "Tabularize EHR part-38: 100%|██████████| 46/46 [00:03<00:00, 11.50it/s]\n"
     ]
    },
    {
     "name": "stdout",
     "output_type": "stream",
     "text": [
      "[ SUCCESSFULLY SAVED TOTAL UNIT STAY DATA ]\n",
      "--\n",
      "--\n",
      "Tracking num of observation after featrue selection\n",
      "Before selection:  3102654\n",
      "After selection:  1643985\n",
      "Complete featrue selection\n",
      "Start Tabularize Part- 39\n",
      "Number of patient:  38\n"
     ]
    },
    {
     "name": "stderr",
     "output_type": "stream",
     "text": [
      "Tabularize EHR part-39: 100%|██████████| 38/38 [00:02<00:00, 14.63it/s]\n"
     ]
    },
    {
     "name": "stdout",
     "output_type": "stream",
     "text": [
      "[ SUCCESSFULLY SAVED TOTAL UNIT STAY DATA ]\n",
      "--\n",
      "--\n",
      "Tracking num of observation after featrue selection\n",
      "Before selection:  2907974\n",
      "After selection:  1486729\n",
      "Complete featrue selection\n",
      "Start Tabularize Part- 40\n",
      "Number of patient:  47\n"
     ]
    },
    {
     "name": "stderr",
     "output_type": "stream",
     "text": [
      "Tabularize EHR part-40: 100%|██████████| 47/47 [00:02<00:00, 15.85it/s]\n"
     ]
    },
    {
     "name": "stdout",
     "output_type": "stream",
     "text": [
      "[ SUCCESSFULLY SAVED TOTAL UNIT STAY DATA ]\n",
      "--\n",
      "--\n",
      "Tracking num of observation after featrue selection\n",
      "Before selection:  3922538\n",
      "After selection:  2068581\n",
      "Complete featrue selection\n",
      "Start Tabularize Part- 41\n",
      "Number of patient:  39\n"
     ]
    },
    {
     "name": "stderr",
     "output_type": "stream",
     "text": [
      "Tabularize EHR part-41: 100%|██████████| 39/39 [00:03<00:00, 12.90it/s]\n"
     ]
    },
    {
     "name": "stdout",
     "output_type": "stream",
     "text": [
      "[ SUCCESSFULLY SAVED TOTAL UNIT STAY DATA ]\n",
      "--\n",
      "--\n",
      "Tracking num of observation after featrue selection\n",
      "Before selection:  3256688\n",
      "After selection:  1743990\n",
      "Complete featrue selection\n",
      "Start Tabularize Part- 42\n",
      "Number of patient:  44\n"
     ]
    },
    {
     "name": "stderr",
     "output_type": "stream",
     "text": [
      "Tabularize EHR part-42: 100%|██████████| 44/44 [00:02<00:00, 15.26it/s]\n"
     ]
    },
    {
     "name": "stdout",
     "output_type": "stream",
     "text": [
      "[ SUCCESSFULLY SAVED TOTAL UNIT STAY DATA ]\n",
      "--\n",
      "--\n",
      "Tracking num of observation after featrue selection\n",
      "Before selection:  3836397\n",
      "After selection:  2111172\n",
      "Complete featrue selection\n",
      "Start Tabularize Part- 43\n",
      "Number of patient:  48\n"
     ]
    },
    {
     "name": "stderr",
     "output_type": "stream",
     "text": [
      "Tabularize EHR part-43: 100%|██████████| 48/48 [00:03<00:00, 13.27it/s]\n"
     ]
    },
    {
     "name": "stdout",
     "output_type": "stream",
     "text": [
      "[ SUCCESSFULLY SAVED TOTAL UNIT STAY DATA ]\n",
      "--\n",
      "--\n",
      "Tracking num of observation after featrue selection\n",
      "Before selection:  4236617\n",
      "After selection:  2350352\n",
      "Complete featrue selection\n",
      "Start Tabularize Part- 44\n",
      "Number of patient:  49\n"
     ]
    },
    {
     "name": "stderr",
     "output_type": "stream",
     "text": [
      "Tabularize EHR part-44: 100%|██████████| 49/49 [00:03<00:00, 13.75it/s]\n"
     ]
    },
    {
     "name": "stdout",
     "output_type": "stream",
     "text": [
      "[ SUCCESSFULLY SAVED TOTAL UNIT STAY DATA ]\n",
      "--\n",
      "--\n",
      "Tracking num of observation after featrue selection\n",
      "Before selection:  3702208\n",
      "After selection:  2058456\n",
      "Complete featrue selection\n",
      "Start Tabularize Part- 45\n",
      "Number of patient:  47\n"
     ]
    },
    {
     "name": "stderr",
     "output_type": "stream",
     "text": [
      "Tabularize EHR part-45: 100%|██████████| 47/47 [00:03<00:00, 12.64it/s]\n"
     ]
    },
    {
     "name": "stdout",
     "output_type": "stream",
     "text": [
      "[ SUCCESSFULLY SAVED TOTAL UNIT STAY DATA ]\n",
      "--\n",
      "--\n",
      "Tracking num of observation after featrue selection\n",
      "Before selection:  2696908\n",
      "After selection:  1413623\n",
      "Complete featrue selection\n",
      "Start Tabularize Part- 46\n",
      "Number of patient:  35\n"
     ]
    },
    {
     "name": "stderr",
     "output_type": "stream",
     "text": [
      "Tabularize EHR part-46: 100%|██████████| 35/35 [00:02<00:00, 16.06it/s]\n"
     ]
    },
    {
     "name": "stdout",
     "output_type": "stream",
     "text": [
      "[ SUCCESSFULLY SAVED TOTAL UNIT STAY DATA ]\n",
      "--\n",
      "--\n",
      "Tracking num of observation after featrue selection\n",
      "Before selection:  3594512\n",
      "After selection:  1894485\n",
      "Complete featrue selection\n",
      "Start Tabularize Part- 47\n",
      "Number of patient:  39\n"
     ]
    },
    {
     "name": "stderr",
     "output_type": "stream",
     "text": [
      "Tabularize EHR part-47: 100%|██████████| 39/39 [00:02<00:00, 13.62it/s]\n"
     ]
    },
    {
     "name": "stdout",
     "output_type": "stream",
     "text": [
      "[ SUCCESSFULLY SAVED TOTAL UNIT STAY DATA ]\n",
      "--\n",
      "--\n",
      "Tracking num of observation after featrue selection\n",
      "Before selection:  3279371\n",
      "After selection:  1884346\n",
      "Complete featrue selection\n",
      "Start Tabularize Part- 48\n",
      "Number of patient:  41\n"
     ]
    },
    {
     "name": "stderr",
     "output_type": "stream",
     "text": [
      "Tabularize EHR part-48: 100%|██████████| 41/41 [00:02<00:00, 14.69it/s]\n"
     ]
    },
    {
     "name": "stdout",
     "output_type": "stream",
     "text": [
      "[ SUCCESSFULLY SAVED TOTAL UNIT STAY DATA ]\n",
      "--\n",
      "--\n",
      "Tracking num of observation after featrue selection\n",
      "Before selection:  2708537\n",
      "After selection:  1491660\n",
      "Complete featrue selection\n",
      "Start Tabularize Part- 49\n",
      "Number of patient:  38\n"
     ]
    },
    {
     "name": "stderr",
     "output_type": "stream",
     "text": [
      "Tabularize EHR part-49: 100%|██████████| 38/38 [00:02<00:00, 16.74it/s]\n"
     ]
    },
    {
     "name": "stdout",
     "output_type": "stream",
     "text": [
      "[ SUCCESSFULLY SAVED TOTAL UNIT STAY DATA ]\n",
      "--\n",
      "--\n",
      "Tracking num of observation after featrue selection\n",
      "Before selection:  3573493\n",
      "After selection:  1933203\n",
      "Complete featrue selection\n",
      "Start Tabularize Part- 50\n",
      "Number of patient:  56\n"
     ]
    },
    {
     "name": "stderr",
     "output_type": "stream",
     "text": [
      "Tabularize EHR part-50: 100%|██████████| 56/56 [00:03<00:00, 14.55it/s]\n"
     ]
    },
    {
     "name": "stdout",
     "output_type": "stream",
     "text": [
      "[ SUCCESSFULLY SAVED TOTAL UNIT STAY DATA ]\n",
      "--\n",
      "--\n",
      "Tracking num of observation after featrue selection\n",
      "Before selection:  3563595\n",
      "After selection:  2111215\n",
      "Complete featrue selection\n",
      "Start Tabularize Part- 51\n",
      "Number of patient:  34\n"
     ]
    },
    {
     "name": "stderr",
     "output_type": "stream",
     "text": [
      "Tabularize EHR part-51: 100%|██████████| 34/34 [00:02<00:00, 14.01it/s]\n"
     ]
    },
    {
     "name": "stdout",
     "output_type": "stream",
     "text": [
      "[ SUCCESSFULLY SAVED TOTAL UNIT STAY DATA ]\n",
      "--\n",
      "--\n",
      "Tracking num of observation after featrue selection\n",
      "Before selection:  3649074\n",
      "After selection:  2076834\n",
      "Complete featrue selection\n",
      "Start Tabularize Part- 52\n",
      "Number of patient:  54\n"
     ]
    },
    {
     "name": "stderr",
     "output_type": "stream",
     "text": [
      "Tabularize EHR part-52: 100%|██████████| 54/54 [00:03<00:00, 14.67it/s]\n"
     ]
    },
    {
     "name": "stdout",
     "output_type": "stream",
     "text": [
      "[ SUCCESSFULLY SAVED TOTAL UNIT STAY DATA ]\n",
      "--\n",
      "--\n",
      "Tracking num of observation after featrue selection\n",
      "Before selection:  3490991\n",
      "After selection:  1999764\n",
      "Complete featrue selection\n",
      "Start Tabularize Part- 53\n",
      "Number of patient:  43\n"
     ]
    },
    {
     "name": "stderr",
     "output_type": "stream",
     "text": [
      "Tabularize EHR part-53: 100%|██████████| 43/43 [00:03<00:00, 14.14it/s]\n"
     ]
    },
    {
     "name": "stdout",
     "output_type": "stream",
     "text": [
      "[ SUCCESSFULLY SAVED TOTAL UNIT STAY DATA ]\n",
      "--\n",
      "--\n",
      "Tracking num of observation after featrue selection\n",
      "Before selection:  2791140\n",
      "After selection:  1540050\n",
      "Complete featrue selection\n",
      "Start Tabularize Part- 54\n",
      "Number of patient:  37\n"
     ]
    },
    {
     "name": "stderr",
     "output_type": "stream",
     "text": [
      "Tabularize EHR part-54: 100%|██████████| 37/37 [00:02<00:00, 16.84it/s]\n"
     ]
    },
    {
     "name": "stdout",
     "output_type": "stream",
     "text": [
      "[ SUCCESSFULLY SAVED TOTAL UNIT STAY DATA ]\n",
      "--\n",
      "--\n",
      "Tracking num of observation after featrue selection\n",
      "Before selection:  2677342\n",
      "After selection:  1555677\n",
      "Complete featrue selection\n",
      "Start Tabularize Part- 55\n",
      "Number of patient:  43\n"
     ]
    },
    {
     "name": "stderr",
     "output_type": "stream",
     "text": [
      "Tabularize EHR part-55: 100%|██████████| 43/43 [00:02<00:00, 15.28it/s]\n"
     ]
    },
    {
     "name": "stdout",
     "output_type": "stream",
     "text": [
      "[ SUCCESSFULLY SAVED TOTAL UNIT STAY DATA ]\n",
      "--\n",
      "--\n",
      "Tracking num of observation after featrue selection\n",
      "Before selection:  3068278\n",
      "After selection:  1666488\n",
      "Complete featrue selection\n",
      "Start Tabularize Part- 56\n",
      "Number of patient:  45\n"
     ]
    },
    {
     "name": "stderr",
     "output_type": "stream",
     "text": [
      "Tabularize EHR part-56: 100%|██████████| 45/45 [00:03<00:00, 14.54it/s]\n"
     ]
    },
    {
     "name": "stdout",
     "output_type": "stream",
     "text": [
      "[ SUCCESSFULLY SAVED TOTAL UNIT STAY DATA ]\n",
      "--\n",
      "--\n",
      "Tracking num of observation after featrue selection\n",
      "Before selection:  4030316\n",
      "After selection:  2239558\n",
      "Complete featrue selection\n",
      "Start Tabularize Part- 57\n",
      "Number of patient:  53\n"
     ]
    },
    {
     "name": "stderr",
     "output_type": "stream",
     "text": [
      "Tabularize EHR part-57: 100%|██████████| 53/53 [00:03<00:00, 13.47it/s]\n"
     ]
    },
    {
     "name": "stdout",
     "output_type": "stream",
     "text": [
      "[ SUCCESSFULLY SAVED TOTAL UNIT STAY DATA ]\n",
      "--\n",
      "--\n",
      "Tracking num of observation after featrue selection\n",
      "Before selection:  2421121\n",
      "After selection:  1269719\n",
      "Complete featrue selection\n",
      "Start Tabularize Part- 58\n",
      "Number of patient:  31\n"
     ]
    },
    {
     "name": "stderr",
     "output_type": "stream",
     "text": [
      "Tabularize EHR part-58: 100%|██████████| 31/31 [00:01<00:00, 16.28it/s]\n"
     ]
    },
    {
     "name": "stdout",
     "output_type": "stream",
     "text": [
      "[ SUCCESSFULLY SAVED TOTAL UNIT STAY DATA ]\n",
      "--\n",
      "--\n",
      "Tracking num of observation after featrue selection\n",
      "Before selection:  3240850\n",
      "After selection:  1693105\n",
      "Complete featrue selection\n",
      "Start Tabularize Part- 59\n",
      "Number of patient:  42\n"
     ]
    },
    {
     "name": "stderr",
     "output_type": "stream",
     "text": [
      "Tabularize EHR part-59: 100%|██████████| 42/42 [00:03<00:00, 13.55it/s]\n"
     ]
    },
    {
     "name": "stdout",
     "output_type": "stream",
     "text": [
      "[ SUCCESSFULLY SAVED TOTAL UNIT STAY DATA ]\n",
      "--\n",
      "--\n",
      "Tracking num of observation after featrue selection\n",
      "Before selection:  2579723\n",
      "After selection:  1467126\n",
      "Complete featrue selection\n",
      "Start Tabularize Part- 60\n",
      "Number of patient:  37\n"
     ]
    },
    {
     "name": "stderr",
     "output_type": "stream",
     "text": [
      "Tabularize EHR part-60: 100%|██████████| 37/37 [00:02<00:00, 17.16it/s]\n"
     ]
    },
    {
     "name": "stdout",
     "output_type": "stream",
     "text": [
      "[ SUCCESSFULLY SAVED TOTAL UNIT STAY DATA ]\n",
      "--\n",
      "--\n",
      "Tracking num of observation after featrue selection\n",
      "Before selection:  3272236\n",
      "After selection:  1820155\n",
      "Complete featrue selection\n",
      "Start Tabularize Part- 61\n",
      "Number of patient:  42\n"
     ]
    },
    {
     "name": "stderr",
     "output_type": "stream",
     "text": [
      "Tabularize EHR part-61: 100%|██████████| 42/42 [00:02<00:00, 15.54it/s]\n"
     ]
    },
    {
     "name": "stdout",
     "output_type": "stream",
     "text": [
      "[ SUCCESSFULLY SAVED TOTAL UNIT STAY DATA ]\n",
      "--\n",
      "--\n",
      "Tracking num of observation after featrue selection\n",
      "Before selection:  4420165\n",
      "After selection:  2548629\n",
      "Complete featrue selection\n",
      "Start Tabularize Part- 62\n",
      "Number of patient:  51\n"
     ]
    },
    {
     "name": "stderr",
     "output_type": "stream",
     "text": [
      "Tabularize EHR part-62: 100%|██████████| 51/51 [00:03<00:00, 13.58it/s]\n"
     ]
    },
    {
     "name": "stdout",
     "output_type": "stream",
     "text": [
      "[ SUCCESSFULLY SAVED TOTAL UNIT STAY DATA ]\n",
      "--\n",
      "--\n",
      "Tracking num of observation after featrue selection\n",
      "Before selection:  3737430\n",
      "After selection:  2083024\n",
      "Complete featrue selection\n",
      "Start Tabularize Part- 63\n",
      "Number of patient:  48\n"
     ]
    },
    {
     "name": "stderr",
     "output_type": "stream",
     "text": [
      "Tabularize EHR part-63: 100%|██████████| 48/48 [00:03<00:00, 13.12it/s]\n"
     ]
    },
    {
     "name": "stdout",
     "output_type": "stream",
     "text": [
      "[ SUCCESSFULLY SAVED TOTAL UNIT STAY DATA ]\n",
      "--\n",
      "--\n",
      "Tracking num of observation after featrue selection\n",
      "Before selection:  2530424\n",
      "After selection:  1420055\n",
      "Complete featrue selection\n",
      "Start Tabularize Part- 64\n",
      "Number of patient:  48\n"
     ]
    },
    {
     "name": "stderr",
     "output_type": "stream",
     "text": [
      "Tabularize EHR part-64: 100%|██████████| 48/48 [00:02<00:00, 16.52it/s]\n"
     ]
    },
    {
     "name": "stdout",
     "output_type": "stream",
     "text": [
      "[ SUCCESSFULLY SAVED TOTAL UNIT STAY DATA ]\n",
      "--\n",
      "--\n",
      "Tracking num of observation after featrue selection\n",
      "Before selection:  3768432\n",
      "After selection:  2106147\n",
      "Complete featrue selection\n",
      "Start Tabularize Part- 65\n",
      "Number of patient:  43\n"
     ]
    },
    {
     "name": "stderr",
     "output_type": "stream",
     "text": [
      "Tabularize EHR part-65: 100%|██████████| 43/43 [00:03<00:00, 13.66it/s]\n"
     ]
    },
    {
     "name": "stdout",
     "output_type": "stream",
     "text": [
      "[ SUCCESSFULLY SAVED TOTAL UNIT STAY DATA ]\n",
      "--\n",
      "--\n",
      "Tracking num of observation after featrue selection\n",
      "Before selection:  3397837\n",
      "After selection:  1908681\n",
      "Complete featrue selection\n",
      "Start Tabularize Part- 66\n",
      "Number of patient:  53\n"
     ]
    },
    {
     "name": "stderr",
     "output_type": "stream",
     "text": [
      "Tabularize EHR part-66: 100%|██████████| 53/53 [00:03<00:00, 14.36it/s]\n"
     ]
    },
    {
     "name": "stdout",
     "output_type": "stream",
     "text": [
      "[ SUCCESSFULLY SAVED TOTAL UNIT STAY DATA ]\n",
      "--\n",
      "--\n",
      "Tracking num of observation after featrue selection\n",
      "Before selection:  2979484\n",
      "After selection:  1651635\n",
      "Complete featrue selection\n",
      "Start Tabularize Part- 67\n",
      "Number of patient:  38\n"
     ]
    },
    {
     "name": "stderr",
     "output_type": "stream",
     "text": [
      "Tabularize EHR part-67: 100%|██████████| 38/38 [00:02<00:00, 15.20it/s]\n"
     ]
    },
    {
     "name": "stdout",
     "output_type": "stream",
     "text": [
      "[ SUCCESSFULLY SAVED TOTAL UNIT STAY DATA ]\n",
      "--\n",
      "--\n",
      "Tracking num of observation after featrue selection\n",
      "Before selection:  2326586\n",
      "After selection:  1270321\n",
      "Complete featrue selection\n",
      "Start Tabularize Part- 68\n",
      "Number of patient:  33\n"
     ]
    },
    {
     "name": "stderr",
     "output_type": "stream",
     "text": [
      "Tabularize EHR part-68: 100%|██████████| 33/33 [00:01<00:00, 17.07it/s]\n"
     ]
    },
    {
     "name": "stdout",
     "output_type": "stream",
     "text": [
      "[ SUCCESSFULLY SAVED TOTAL UNIT STAY DATA ]\n",
      "--\n",
      "--\n",
      "Tracking num of observation after featrue selection\n",
      "Before selection:  2856201\n",
      "After selection:  1553106\n",
      "Complete featrue selection\n",
      "Start Tabularize Part- 69\n",
      "Number of patient:  40\n"
     ]
    },
    {
     "name": "stderr",
     "output_type": "stream",
     "text": [
      "Tabularize EHR part-69: 100%|██████████| 40/40 [00:02<00:00, 16.33it/s]\n"
     ]
    },
    {
     "name": "stdout",
     "output_type": "stream",
     "text": [
      "[ SUCCESSFULLY SAVED TOTAL UNIT STAY DATA ]\n",
      "--\n",
      "--\n",
      "Tracking num of observation after featrue selection\n",
      "Before selection:  3180341\n",
      "After selection:  1811427\n",
      "Complete featrue selection\n",
      "Start Tabularize Part- 70\n",
      "Number of patient:  56\n"
     ]
    },
    {
     "name": "stderr",
     "output_type": "stream",
     "text": [
      "Tabularize EHR part-70: 100%|██████████| 56/56 [00:03<00:00, 14.45it/s]\n"
     ]
    },
    {
     "name": "stdout",
     "output_type": "stream",
     "text": [
      "[ SUCCESSFULLY SAVED TOTAL UNIT STAY DATA ]\n",
      "--\n",
      "--\n",
      "Tracking num of observation after featrue selection\n",
      "Before selection:  2741136\n",
      "After selection:  1531660\n",
      "Complete featrue selection\n",
      "Start Tabularize Part- 71\n",
      "Number of patient:  44\n"
     ]
    },
    {
     "name": "stderr",
     "output_type": "stream",
     "text": [
      "Tabularize EHR part-71: 100%|██████████| 44/44 [00:02<00:00, 17.23it/s]\n"
     ]
    },
    {
     "name": "stdout",
     "output_type": "stream",
     "text": [
      "[ SUCCESSFULLY SAVED TOTAL UNIT STAY DATA ]\n",
      "--\n",
      "--\n",
      "Tracking num of observation after featrue selection\n",
      "Before selection:  3653092\n",
      "After selection:  1931566\n",
      "Complete featrue selection\n",
      "Start Tabularize Part- 72\n",
      "Number of patient:  54\n"
     ]
    },
    {
     "name": "stderr",
     "output_type": "stream",
     "text": [
      "Tabularize EHR part-72: 100%|██████████| 54/54 [00:04<00:00, 12.52it/s]\n"
     ]
    },
    {
     "name": "stdout",
     "output_type": "stream",
     "text": [
      "[ SUCCESSFULLY SAVED TOTAL UNIT STAY DATA ]\n",
      "--\n",
      "--\n",
      "Tracking num of observation after featrue selection\n",
      "Before selection:  2967979\n",
      "After selection:  1705523\n",
      "Complete featrue selection\n",
      "Start Tabularize Part- 73\n",
      "Number of patient:  40\n"
     ]
    },
    {
     "name": "stderr",
     "output_type": "stream",
     "text": [
      "Tabularize EHR part-73: 100%|██████████| 40/40 [00:02<00:00, 16.05it/s]\n"
     ]
    },
    {
     "name": "stdout",
     "output_type": "stream",
     "text": [
      "[ SUCCESSFULLY SAVED TOTAL UNIT STAY DATA ]\n",
      "--\n",
      "--\n",
      "Tracking num of observation after featrue selection\n",
      "Before selection:  2871442\n",
      "After selection:  1526213\n",
      "Complete featrue selection\n",
      "Start Tabularize Part- 74\n",
      "Number of patient:  44\n"
     ]
    },
    {
     "name": "stderr",
     "output_type": "stream",
     "text": [
      "Tabularize EHR part-74: 100%|██████████| 44/44 [00:02<00:00, 15.63it/s]\n"
     ]
    },
    {
     "name": "stdout",
     "output_type": "stream",
     "text": [
      "[ SUCCESSFULLY SAVED TOTAL UNIT STAY DATA ]\n",
      "--\n",
      "--\n",
      "Tracking num of observation after featrue selection\n",
      "Before selection:  2741672\n",
      "After selection:  1516965\n",
      "Complete featrue selection\n",
      "Start Tabularize Part- 75\n",
      "Number of patient:  44\n"
     ]
    },
    {
     "name": "stderr",
     "output_type": "stream",
     "text": [
      "Tabularize EHR part-75: 100%|██████████| 44/44 [00:02<00:00, 15.17it/s]\n"
     ]
    },
    {
     "name": "stdout",
     "output_type": "stream",
     "text": [
      "[ SUCCESSFULLY SAVED TOTAL UNIT STAY DATA ]\n",
      "--\n",
      "--\n",
      "Tracking num of observation after featrue selection\n",
      "Before selection:  2642405\n",
      "After selection:  1485898\n",
      "Complete featrue selection\n",
      "Start Tabularize Part- 76\n",
      "Number of patient:  38\n"
     ]
    },
    {
     "name": "stderr",
     "output_type": "stream",
     "text": [
      "Tabularize EHR part-76: 100%|██████████| 38/38 [00:02<00:00, 14.26it/s]\n"
     ]
    },
    {
     "name": "stdout",
     "output_type": "stream",
     "text": [
      "[ SUCCESSFULLY SAVED TOTAL UNIT STAY DATA ]\n",
      "--\n",
      "--\n",
      "Tracking num of observation after featrue selection\n",
      "Before selection:  2842371\n",
      "After selection:  1637160\n",
      "Complete featrue selection\n",
      "Start Tabularize Part- 77\n",
      "Number of patient:  39\n"
     ]
    },
    {
     "name": "stderr",
     "output_type": "stream",
     "text": [
      "Tabularize EHR part-77: 100%|██████████| 39/39 [00:02<00:00, 15.36it/s]\n"
     ]
    },
    {
     "name": "stdout",
     "output_type": "stream",
     "text": [
      "[ SUCCESSFULLY SAVED TOTAL UNIT STAY DATA ]\n",
      "--\n",
      "--\n",
      "Tracking num of observation after featrue selection\n",
      "Before selection:  2845999\n",
      "After selection:  1493801\n",
      "Complete featrue selection\n",
      "Start Tabularize Part- 78\n",
      "Number of patient:  32\n"
     ]
    },
    {
     "name": "stderr",
     "output_type": "stream",
     "text": [
      "Tabularize EHR part-78: 100%|██████████| 32/32 [00:02<00:00, 15.76it/s]\n"
     ]
    },
    {
     "name": "stdout",
     "output_type": "stream",
     "text": [
      "[ SUCCESSFULLY SAVED TOTAL UNIT STAY DATA ]\n",
      "--\n",
      "--\n",
      "Tracking num of observation after featrue selection\n",
      "Before selection:  2840326\n",
      "After selection:  1588322\n",
      "Complete featrue selection\n",
      "Start Tabularize Part- 79\n",
      "Number of patient:  42\n"
     ]
    },
    {
     "name": "stderr",
     "output_type": "stream",
     "text": [
      "Tabularize EHR part-79: 100%|██████████| 42/42 [00:03<00:00, 12.70it/s]\n"
     ]
    },
    {
     "name": "stdout",
     "output_type": "stream",
     "text": [
      "[ SUCCESSFULLY SAVED TOTAL UNIT STAY DATA ]\n",
      "--\n",
      "--\n",
      "Tracking num of observation after featrue selection\n",
      "Before selection:  3150136\n",
      "After selection:  1719781\n",
      "Complete featrue selection\n",
      "Start Tabularize Part- 80\n",
      "Number of patient:  44\n"
     ]
    },
    {
     "name": "stderr",
     "output_type": "stream",
     "text": [
      "Tabularize EHR part-80: 100%|██████████| 44/44 [00:02<00:00, 15.12it/s]\n"
     ]
    },
    {
     "name": "stdout",
     "output_type": "stream",
     "text": [
      "[ SUCCESSFULLY SAVED TOTAL UNIT STAY DATA ]\n",
      "--\n",
      "--\n",
      "Tracking num of observation after featrue selection\n",
      "Before selection:  3881079\n",
      "After selection:  2080907\n",
      "Complete featrue selection\n",
      "Start Tabularize Part- 81\n",
      "Number of patient:  53\n"
     ]
    },
    {
     "name": "stderr",
     "output_type": "stream",
     "text": [
      "Tabularize EHR part-81: 100%|██████████| 53/53 [00:03<00:00, 13.34it/s]\n"
     ]
    },
    {
     "name": "stdout",
     "output_type": "stream",
     "text": [
      "[ SUCCESSFULLY SAVED TOTAL UNIT STAY DATA ]\n",
      "--\n",
      "--\n",
      "Tracking num of observation after featrue selection\n",
      "Before selection:  3179355\n",
      "After selection:  1812417\n",
      "Complete featrue selection\n",
      "Start Tabularize Part- 82\n",
      "Number of patient:  49\n"
     ]
    },
    {
     "name": "stderr",
     "output_type": "stream",
     "text": [
      "Tabularize EHR part-82: 100%|██████████| 49/49 [00:03<00:00, 14.53it/s]\n"
     ]
    },
    {
     "name": "stdout",
     "output_type": "stream",
     "text": [
      "[ SUCCESSFULLY SAVED TOTAL UNIT STAY DATA ]\n",
      "--\n",
      "--\n",
      "Tracking num of observation after featrue selection\n",
      "Before selection:  3826405\n",
      "After selection:  2071882\n",
      "Complete featrue selection\n",
      "Start Tabularize Part- 83\n",
      "Number of patient:  40\n"
     ]
    },
    {
     "name": "stderr",
     "output_type": "stream",
     "text": [
      "Tabularize EHR part-83: 100%|██████████| 40/40 [00:02<00:00, 14.09it/s]\n"
     ]
    },
    {
     "name": "stdout",
     "output_type": "stream",
     "text": [
      "[ SUCCESSFULLY SAVED TOTAL UNIT STAY DATA ]\n",
      "--\n",
      "--\n",
      "Tracking num of observation after featrue selection\n",
      "Before selection:  2484716\n",
      "After selection:  1488216\n",
      "Complete featrue selection\n",
      "Start Tabularize Part- 84\n",
      "Number of patient:  34\n"
     ]
    },
    {
     "name": "stderr",
     "output_type": "stream",
     "text": [
      "Tabularize EHR part-84: 100%|██████████| 34/34 [00:02<00:00, 16.90it/s]\n"
     ]
    },
    {
     "name": "stdout",
     "output_type": "stream",
     "text": [
      "[ SUCCESSFULLY SAVED TOTAL UNIT STAY DATA ]\n",
      "--\n",
      "--\n",
      "Tracking num of observation after featrue selection\n",
      "Before selection:  3574379\n",
      "After selection:  1953564\n",
      "Complete featrue selection\n",
      "Start Tabularize Part- 85\n",
      "Number of patient:  44\n"
     ]
    },
    {
     "name": "stderr",
     "output_type": "stream",
     "text": [
      "Tabularize EHR part-85: 100%|██████████| 44/44 [00:03<00:00, 13.75it/s]\n"
     ]
    },
    {
     "name": "stdout",
     "output_type": "stream",
     "text": [
      "[ SUCCESSFULLY SAVED TOTAL UNIT STAY DATA ]\n",
      "--\n",
      "--\n",
      "Tracking num of observation after featrue selection\n",
      "Before selection:  2433670\n",
      "After selection:  1361449\n",
      "Complete featrue selection\n",
      "Start Tabularize Part- 86\n",
      "Number of patient:  30\n"
     ]
    },
    {
     "name": "stderr",
     "output_type": "stream",
     "text": [
      "Tabularize EHR part-86: 100%|██████████| 30/30 [00:01<00:00, 17.80it/s]\n"
     ]
    },
    {
     "name": "stdout",
     "output_type": "stream",
     "text": [
      "[ SUCCESSFULLY SAVED TOTAL UNIT STAY DATA ]\n",
      "--\n",
      "--\n",
      "Tracking num of observation after featrue selection\n",
      "Before selection:  2751694\n",
      "After selection:  1517227\n",
      "Complete featrue selection\n",
      "Start Tabularize Part- 87\n",
      "Number of patient:  39\n"
     ]
    },
    {
     "name": "stderr",
     "output_type": "stream",
     "text": [
      "Tabularize EHR part-87: 100%|██████████| 39/39 [00:02<00:00, 16.82it/s]\n"
     ]
    },
    {
     "name": "stdout",
     "output_type": "stream",
     "text": [
      "[ SUCCESSFULLY SAVED TOTAL UNIT STAY DATA ]\n",
      "--\n",
      "--\n",
      "Tracking num of observation after featrue selection\n",
      "Before selection:  2856702\n",
      "After selection:  1552171\n",
      "Complete featrue selection\n",
      "Start Tabularize Part- 88\n",
      "Number of patient:  43\n"
     ]
    },
    {
     "name": "stderr",
     "output_type": "stream",
     "text": [
      "Tabularize EHR part-88: 100%|██████████| 43/43 [00:01<00:00, 29.88it/s]\n"
     ]
    },
    {
     "name": "stdout",
     "output_type": "stream",
     "text": [
      "[ SUCCESSFULLY SAVED TOTAL UNIT STAY DATA ]\n",
      "--\n",
      "--\n",
      "Tracking num of observation after featrue selection\n",
      "Before selection:  2430711\n",
      "After selection:  1383863\n",
      "Complete featrue selection\n",
      "Start Tabularize Part- 89\n",
      "Number of patient:  53\n"
     ]
    },
    {
     "name": "stderr",
     "output_type": "stream",
     "text": [
      "Tabularize EHR part-89: 100%|██████████| 53/53 [00:02<00:00, 17.75it/s]\n"
     ]
    },
    {
     "name": "stdout",
     "output_type": "stream",
     "text": [
      "[ SUCCESSFULLY SAVED TOTAL UNIT STAY DATA ]\n",
      "--\n",
      "--\n",
      "Tracking num of observation after featrue selection\n",
      "Before selection:  3221941\n",
      "After selection:  1751859\n",
      "Complete featrue selection\n",
      "Start Tabularize Part- 90\n",
      "Number of patient:  31\n"
     ]
    },
    {
     "name": "stderr",
     "output_type": "stream",
     "text": [
      "Tabularize EHR part-90: 100%|██████████| 31/31 [00:02<00:00, 14.64it/s]\n"
     ]
    },
    {
     "name": "stdout",
     "output_type": "stream",
     "text": [
      "[ SUCCESSFULLY SAVED TOTAL UNIT STAY DATA ]\n",
      "--\n",
      "--\n",
      "Tracking num of observation after featrue selection\n",
      "Before selection:  3259203\n",
      "After selection:  1818099\n",
      "Complete featrue selection\n",
      "Start Tabularize Part- 91\n",
      "Number of patient:  48\n"
     ]
    },
    {
     "name": "stderr",
     "output_type": "stream",
     "text": [
      "Tabularize EHR part-91: 100%|██████████| 48/48 [00:03<00:00, 15.19it/s]\n"
     ]
    },
    {
     "name": "stdout",
     "output_type": "stream",
     "text": [
      "[ SUCCESSFULLY SAVED TOTAL UNIT STAY DATA ]\n",
      "--\n",
      "--\n",
      "Tracking num of observation after featrue selection\n",
      "Before selection:  2657332\n",
      "After selection:  1418242\n",
      "Complete featrue selection\n",
      "Start Tabularize Part- 92\n",
      "Number of patient:  42\n"
     ]
    },
    {
     "name": "stderr",
     "output_type": "stream",
     "text": [
      "Tabularize EHR part-92: 100%|██████████| 42/42 [00:02<00:00, 16.90it/s]\n"
     ]
    },
    {
     "name": "stdout",
     "output_type": "stream",
     "text": [
      "[ SUCCESSFULLY SAVED TOTAL UNIT STAY DATA ]\n",
      "--\n",
      "--\n",
      "Tracking num of observation after featrue selection\n",
      "Before selection:  3281771\n",
      "After selection:  1835405\n",
      "Complete featrue selection\n",
      "Start Tabularize Part- 93\n",
      "Number of patient:  45\n"
     ]
    },
    {
     "name": "stderr",
     "output_type": "stream",
     "text": [
      "Tabularize EHR part-93: 100%|██████████| 45/45 [00:03<00:00, 14.39it/s]\n"
     ]
    },
    {
     "name": "stdout",
     "output_type": "stream",
     "text": [
      "[ SUCCESSFULLY SAVED TOTAL UNIT STAY DATA ]\n",
      "--\n",
      "--\n",
      "Tracking num of observation after featrue selection\n",
      "Before selection:  2648428\n",
      "After selection:  1457017\n",
      "Complete featrue selection\n",
      "Start Tabularize Part- 94\n",
      "Number of patient:  36\n"
     ]
    },
    {
     "name": "stderr",
     "output_type": "stream",
     "text": [
      "Tabularize EHR part-94: 100%|██████████| 36/36 [00:02<00:00, 17.91it/s]\n"
     ]
    },
    {
     "name": "stdout",
     "output_type": "stream",
     "text": [
      "[ SUCCESSFULLY SAVED TOTAL UNIT STAY DATA ]\n",
      "--\n",
      "--\n",
      "Tracking num of observation after featrue selection\n",
      "Before selection:  2272431\n",
      "After selection:  1210959\n",
      "Complete featrue selection\n",
      "Start Tabularize Part- 95\n",
      "Number of patient:  34\n"
     ]
    },
    {
     "name": "stderr",
     "output_type": "stream",
     "text": [
      "Tabularize EHR part-95: 100%|██████████| 34/34 [00:02<00:00, 16.35it/s]\n"
     ]
    },
    {
     "name": "stdout",
     "output_type": "stream",
     "text": [
      "[ SUCCESSFULLY SAVED TOTAL UNIT STAY DATA ]\n",
      "--\n",
      "--\n",
      "Tracking num of observation after featrue selection\n",
      "Before selection:  2743301\n",
      "After selection:  1437542\n",
      "Complete featrue selection\n",
      "Start Tabularize Part- 96\n",
      "Number of patient:  41\n"
     ]
    },
    {
     "name": "stderr",
     "output_type": "stream",
     "text": [
      "Tabularize EHR part-96: 100%|██████████| 41/41 [00:02<00:00, 16.51it/s]\n"
     ]
    },
    {
     "name": "stdout",
     "output_type": "stream",
     "text": [
      "[ SUCCESSFULLY SAVED TOTAL UNIT STAY DATA ]\n",
      "--\n",
      "--\n",
      "Tracking num of observation after featrue selection\n",
      "Before selection:  3495930\n",
      "After selection:  1978824\n",
      "Complete featrue selection\n",
      "Start Tabularize Part- 97\n",
      "Number of patient:  43\n"
     ]
    },
    {
     "name": "stderr",
     "output_type": "stream",
     "text": [
      "Tabularize EHR part-97: 100%|██████████| 43/43 [00:03<00:00, 14.29it/s]\n"
     ]
    },
    {
     "name": "stdout",
     "output_type": "stream",
     "text": [
      "[ SUCCESSFULLY SAVED TOTAL UNIT STAY DATA ]\n",
      "--\n",
      "--\n",
      "Tracking num of observation after featrue selection\n",
      "Before selection:  2504854\n",
      "After selection:  1340399\n",
      "Complete featrue selection\n",
      "Start Tabularize Part- 98\n",
      "Number of patient:  45\n"
     ]
    },
    {
     "name": "stderr",
     "output_type": "stream",
     "text": [
      "Tabularize EHR part-98: 100%|██████████| 45/45 [00:02<00:00, 16.47it/s]\n"
     ]
    },
    {
     "name": "stdout",
     "output_type": "stream",
     "text": [
      "[ SUCCESSFULLY SAVED TOTAL UNIT STAY DATA ]\n",
      "--\n",
      "--\n",
      "Tracking num of observation after featrue selection\n",
      "Before selection:  3077081\n",
      "After selection:  1703409\n",
      "Complete featrue selection\n",
      "Start Tabularize Part- 99\n",
      "Number of patient:  41\n"
     ]
    },
    {
     "name": "stderr",
     "output_type": "stream",
     "text": [
      "Tabularize EHR part-99: 100%|██████████| 41/41 [00:02<00:00, 14.72it/s]\n"
     ]
    },
    {
     "name": "stdout",
     "output_type": "stream",
     "text": [
      "[ SUCCESSFULLY SAVED TOTAL UNIT STAY DATA ]\n",
      "--\n",
      "--\n",
      "Tracking num of observation after featrue selection\n",
      "Before selection:  2115200\n",
      "After selection:  1158493\n",
      "Complete featrue selection\n",
      "Start Tabularize Part- 100\n",
      "Number of patient:  25\n"
     ]
    },
    {
     "name": "stderr",
     "output_type": "stream",
     "text": [
      "Tabularize EHR part-100: 100%|██████████| 25/25 [00:01<00:00, 18.26it/s]\n"
     ]
    },
    {
     "name": "stdout",
     "output_type": "stream",
     "text": [
      "[ SUCCESSFULLY SAVED TOTAL UNIT STAY DATA ]\n",
      "--\n",
      "--\n",
      "Tracking num of observation after featrue selection\n",
      "Before selection:  2380542\n",
      "After selection:  1279690\n",
      "Complete featrue selection\n",
      "Start Tabularize Part- 101\n",
      "Number of patient:  39\n"
     ]
    },
    {
     "name": "stderr",
     "output_type": "stream",
     "text": [
      "Tabularize EHR part-101: 100%|██████████| 39/39 [00:02<00:00, 17.14it/s]\n"
     ]
    },
    {
     "name": "stdout",
     "output_type": "stream",
     "text": [
      "[ SUCCESSFULLY SAVED TOTAL UNIT STAY DATA ]\n",
      "--\n",
      "--\n",
      "Tracking num of observation after featrue selection\n",
      "Before selection:  3315553\n",
      "After selection:  1820699\n",
      "Complete featrue selection\n",
      "Start Tabularize Part- 102\n",
      "Number of patient:  47\n"
     ]
    },
    {
     "name": "stderr",
     "output_type": "stream",
     "text": [
      "Tabularize EHR part-102: 100%|██████████| 47/47 [00:03<00:00, 14.92it/s]\n"
     ]
    },
    {
     "name": "stdout",
     "output_type": "stream",
     "text": [
      "[ SUCCESSFULLY SAVED TOTAL UNIT STAY DATA ]\n",
      "--\n",
      "--\n",
      "Tracking num of observation after featrue selection\n",
      "Before selection:  3649555\n",
      "After selection:  2026929\n",
      "Complete featrue selection\n",
      "Start Tabularize Part- 103\n",
      "Number of patient:  50\n"
     ]
    },
    {
     "name": "stderr",
     "output_type": "stream",
     "text": [
      "Tabularize EHR part-103: 100%|██████████| 50/50 [00:03<00:00, 14.56it/s]\n"
     ]
    },
    {
     "name": "stdout",
     "output_type": "stream",
     "text": [
      "[ SUCCESSFULLY SAVED TOTAL UNIT STAY DATA ]\n",
      "--\n",
      "--\n",
      "Tracking num of observation after featrue selection\n",
      "Before selection:  3402406\n",
      "After selection:  1961707\n",
      "Complete featrue selection\n",
      "Start Tabularize Part- 104\n",
      "Number of patient:  52\n"
     ]
    },
    {
     "name": "stderr",
     "output_type": "stream",
     "text": [
      "Tabularize EHR part-104: 100%|██████████| 52/52 [00:03<00:00, 14.55it/s]\n"
     ]
    },
    {
     "name": "stdout",
     "output_type": "stream",
     "text": [
      "[ SUCCESSFULLY SAVED TOTAL UNIT STAY DATA ]\n",
      "--\n",
      "--\n",
      "Tracking num of observation after featrue selection\n",
      "Before selection:  2816678\n",
      "After selection:  1497028\n",
      "Complete featrue selection\n",
      "Start Tabularize Part- 105\n",
      "Number of patient:  37\n"
     ]
    },
    {
     "name": "stderr",
     "output_type": "stream",
     "text": [
      "Tabularize EHR part-105: 100%|██████████| 37/37 [00:02<00:00, 16.44it/s]\n"
     ]
    },
    {
     "name": "stdout",
     "output_type": "stream",
     "text": [
      "[ SUCCESSFULLY SAVED TOTAL UNIT STAY DATA ]\n",
      "--\n",
      "--\n",
      "Tracking num of observation after featrue selection\n",
      "Before selection:  2869649\n",
      "After selection:  1616264\n",
      "Complete featrue selection\n",
      "Start Tabularize Part- 106\n",
      "Number of patient:  43\n"
     ]
    },
    {
     "name": "stderr",
     "output_type": "stream",
     "text": [
      "Tabularize EHR part-106: 100%|██████████| 43/43 [00:02<00:00, 17.43it/s]\n"
     ]
    },
    {
     "name": "stdout",
     "output_type": "stream",
     "text": [
      "[ SUCCESSFULLY SAVED TOTAL UNIT STAY DATA ]\n",
      "--\n",
      "--\n",
      "Tracking num of observation after featrue selection\n",
      "Before selection:  4135572\n",
      "After selection:  2252023\n",
      "Complete featrue selection\n",
      "Start Tabularize Part- 107\n",
      "Number of patient:  48\n"
     ]
    },
    {
     "name": "stderr",
     "output_type": "stream",
     "text": [
      "Tabularize EHR part-107: 100%|██████████| 48/48 [00:03<00:00, 12.90it/s]\n"
     ]
    },
    {
     "name": "stdout",
     "output_type": "stream",
     "text": [
      "[ SUCCESSFULLY SAVED TOTAL UNIT STAY DATA ]\n",
      "--\n",
      "--\n",
      "Tracking num of observation after featrue selection\n",
      "Before selection:  3819188\n",
      "After selection:  2087999\n",
      "Complete featrue selection\n",
      "Start Tabularize Part- 108\n",
      "Number of patient:  54\n"
     ]
    },
    {
     "name": "stderr",
     "output_type": "stream",
     "text": [
      "Tabularize EHR part-108: 100%|██████████| 54/54 [00:03<00:00, 14.16it/s]\n"
     ]
    },
    {
     "name": "stdout",
     "output_type": "stream",
     "text": [
      "[ SUCCESSFULLY SAVED TOTAL UNIT STAY DATA ]\n",
      "--\n",
      "--\n",
      "Tracking num of observation after featrue selection\n",
      "Before selection:  3326001\n",
      "After selection:  1792389\n",
      "Complete featrue selection\n",
      "Start Tabularize Part- 109\n",
      "Number of patient:  43\n"
     ]
    },
    {
     "name": "stderr",
     "output_type": "stream",
     "text": [
      "Tabularize EHR part-109: 100%|██████████| 43/43 [00:02<00:00, 16.08it/s]\n"
     ]
    },
    {
     "name": "stdout",
     "output_type": "stream",
     "text": [
      "[ SUCCESSFULLY SAVED TOTAL UNIT STAY DATA ]\n",
      "--\n",
      "--\n",
      "Tracking num of observation after featrue selection\n",
      "Before selection:  2943563\n",
      "After selection:  1503392\n",
      "Complete featrue selection\n",
      "Start Tabularize Part- 110\n",
      "Number of patient:  44\n"
     ]
    },
    {
     "name": "stderr",
     "output_type": "stream",
     "text": [
      "Tabularize EHR part-110: 100%|██████████| 44/44 [00:02<00:00, 14.73it/s]\n"
     ]
    },
    {
     "name": "stdout",
     "output_type": "stream",
     "text": [
      "[ SUCCESSFULLY SAVED TOTAL UNIT STAY DATA ]\n",
      "--\n",
      "--\n",
      "Tracking num of observation after featrue selection\n",
      "Before selection:  2956624\n",
      "After selection:  1718872\n",
      "Complete featrue selection\n",
      "Start Tabularize Part- 111\n",
      "Number of patient:  38\n"
     ]
    },
    {
     "name": "stderr",
     "output_type": "stream",
     "text": [
      "Tabularize EHR part-111: 100%|██████████| 38/38 [00:02<00:00, 15.62it/s]\n"
     ]
    },
    {
     "name": "stdout",
     "output_type": "stream",
     "text": [
      "[ SUCCESSFULLY SAVED TOTAL UNIT STAY DATA ]\n",
      "--\n",
      "--\n",
      "Tracking num of observation after featrue selection\n",
      "Before selection:  3699293\n",
      "After selection:  1929917\n",
      "Complete featrue selection\n",
      "Start Tabularize Part- 112\n",
      "Number of patient:  56\n"
     ]
    },
    {
     "name": "stderr",
     "output_type": "stream",
     "text": [
      "Tabularize EHR part-112: 100%|██████████| 56/56 [00:04<00:00, 13.47it/s]\n"
     ]
    },
    {
     "name": "stdout",
     "output_type": "stream",
     "text": [
      "[ SUCCESSFULLY SAVED TOTAL UNIT STAY DATA ]\n",
      "--\n",
      "--\n",
      "Tracking num of observation after featrue selection\n",
      "Before selection:  3699052\n",
      "After selection:  1981213\n",
      "Complete featrue selection\n",
      "Start Tabularize Part- 113\n",
      "Number of patient:  47\n"
     ]
    },
    {
     "name": "stderr",
     "output_type": "stream",
     "text": [
      "Tabularize EHR part-113: 100%|██████████| 47/47 [00:03<00:00, 13.88it/s]\n"
     ]
    },
    {
     "name": "stdout",
     "output_type": "stream",
     "text": [
      "[ SUCCESSFULLY SAVED TOTAL UNIT STAY DATA ]\n",
      "--\n",
      "--\n",
      "Tracking num of observation after featrue selection\n",
      "Before selection:  3160902\n",
      "After selection:  1672346\n",
      "Complete featrue selection\n",
      "Start Tabularize Part- 114\n",
      "Number of patient:  47\n"
     ]
    },
    {
     "name": "stderr",
     "output_type": "stream",
     "text": [
      "Tabularize EHR part-114: 100%|██████████| 47/47 [00:03<00:00, 14.45it/s]\n"
     ]
    },
    {
     "name": "stdout",
     "output_type": "stream",
     "text": [
      "[ SUCCESSFULLY SAVED TOTAL UNIT STAY DATA ]\n",
      "--\n",
      "--\n",
      "Tracking num of observation after featrue selection\n",
      "Before selection:  2394251\n",
      "After selection:  1334814\n",
      "Complete featrue selection\n",
      "Start Tabularize Part- 115\n",
      "Number of patient:  36\n"
     ]
    },
    {
     "name": "stderr",
     "output_type": "stream",
     "text": [
      "Tabularize EHR part-115: 100%|██████████| 36/36 [00:02<00:00, 16.75it/s]\n"
     ]
    },
    {
     "name": "stdout",
     "output_type": "stream",
     "text": [
      "[ SUCCESSFULLY SAVED TOTAL UNIT STAY DATA ]\n",
      "--\n",
      "--\n",
      "Tracking num of observation after featrue selection\n",
      "Before selection:  4045136\n",
      "After selection:  2067356\n",
      "Complete featrue selection\n",
      "Start Tabularize Part- 116\n",
      "Number of patient:  47\n"
     ]
    },
    {
     "name": "stderr",
     "output_type": "stream",
     "text": [
      "Tabularize EHR part-116: 100%|██████████| 47/47 [00:03<00:00, 12.69it/s]\n"
     ]
    },
    {
     "name": "stdout",
     "output_type": "stream",
     "text": [
      "[ SUCCESSFULLY SAVED TOTAL UNIT STAY DATA ]\n",
      "--\n",
      "--\n",
      "Tracking num of observation after featrue selection\n",
      "Before selection:  2997228\n",
      "After selection:  1682301\n",
      "Complete featrue selection\n",
      "Start Tabularize Part- 117\n",
      "Number of patient:  44\n"
     ]
    },
    {
     "name": "stderr",
     "output_type": "stream",
     "text": [
      "Tabularize EHR part-117: 100%|██████████| 44/44 [00:02<00:00, 14.73it/s]\n"
     ]
    },
    {
     "name": "stdout",
     "output_type": "stream",
     "text": [
      "[ SUCCESSFULLY SAVED TOTAL UNIT STAY DATA ]\n",
      "--\n",
      "--\n",
      "Tracking num of observation after featrue selection\n",
      "Before selection:  4363891\n",
      "After selection:  2319146\n",
      "Complete featrue selection\n",
      "Start Tabularize Part- 118\n",
      "Number of patient:  54\n"
     ]
    },
    {
     "name": "stderr",
     "output_type": "stream",
     "text": [
      "Tabularize EHR part-118: 100%|██████████| 54/54 [00:04<00:00, 12.10it/s]\n"
     ]
    },
    {
     "name": "stdout",
     "output_type": "stream",
     "text": [
      "[ SUCCESSFULLY SAVED TOTAL UNIT STAY DATA ]\n",
      "--\n",
      "--\n",
      "Tracking num of observation after featrue selection\n",
      "Before selection:  4315669\n",
      "After selection:  2418899\n",
      "Complete featrue selection\n",
      "Start Tabularize Part- 119\n",
      "Number of patient:  48\n"
     ]
    },
    {
     "name": "stderr",
     "output_type": "stream",
     "text": [
      "Tabularize EHR part-119: 100%|██████████| 48/48 [00:03<00:00, 13.18it/s]\n"
     ]
    },
    {
     "name": "stdout",
     "output_type": "stream",
     "text": [
      "[ SUCCESSFULLY SAVED TOTAL UNIT STAY DATA ]\n",
      "--\n",
      "--\n",
      "Tracking num of observation after featrue selection\n",
      "Before selection:  2245091\n",
      "After selection:  1245807\n",
      "Complete featrue selection\n",
      "Start Tabularize Part- 120\n",
      "Number of patient:  41\n"
     ]
    },
    {
     "name": "stderr",
     "output_type": "stream",
     "text": [
      "Tabularize EHR part-120: 100%|██████████| 41/41 [00:02<00:00, 16.45it/s]\n"
     ]
    },
    {
     "name": "stdout",
     "output_type": "stream",
     "text": [
      "[ SUCCESSFULLY SAVED TOTAL UNIT STAY DATA ]\n",
      "--\n",
      "--\n",
      "Tracking num of observation after featrue selection\n",
      "Before selection:  3836907\n",
      "After selection:  1926587\n",
      "Complete featrue selection\n",
      "Start Tabularize Part- 121\n",
      "Number of patient:  43\n"
     ]
    },
    {
     "name": "stderr",
     "output_type": "stream",
     "text": [
      "Tabularize EHR part-121: 100%|██████████| 43/43 [00:03<00:00, 13.57it/s]\n"
     ]
    },
    {
     "name": "stdout",
     "output_type": "stream",
     "text": [
      "[ SUCCESSFULLY SAVED TOTAL UNIT STAY DATA ]\n",
      "--\n",
      "--\n",
      "Tracking num of observation after featrue selection\n",
      "Before selection:  3377461\n",
      "After selection:  1783122\n",
      "Complete featrue selection\n",
      "Start Tabularize Part- 122\n",
      "Number of patient:  55\n"
     ]
    },
    {
     "name": "stderr",
     "output_type": "stream",
     "text": [
      "Tabularize EHR part-122: 100%|██████████| 55/55 [00:04<00:00, 13.41it/s]\n"
     ]
    },
    {
     "name": "stdout",
     "output_type": "stream",
     "text": [
      "[ SUCCESSFULLY SAVED TOTAL UNIT STAY DATA ]\n",
      "--\n",
      "--\n",
      "Tracking num of observation after featrue selection\n",
      "Before selection:  3162191\n",
      "After selection:  1699777\n",
      "Complete featrue selection\n",
      "Start Tabularize Part- 123\n",
      "Number of patient:  42\n"
     ]
    },
    {
     "name": "stderr",
     "output_type": "stream",
     "text": [
      "Tabularize EHR part-123: 100%|██████████| 42/42 [00:02<00:00, 14.83it/s]\n"
     ]
    },
    {
     "name": "stdout",
     "output_type": "stream",
     "text": [
      "[ SUCCESSFULLY SAVED TOTAL UNIT STAY DATA ]\n",
      "--\n",
      "--\n",
      "Tracking num of observation after featrue selection\n",
      "Before selection:  2362700\n",
      "After selection:  1319338\n",
      "Complete featrue selection\n",
      "Start Tabularize Part- 124\n",
      "Number of patient:  46\n"
     ]
    },
    {
     "name": "stderr",
     "output_type": "stream",
     "text": [
      "Tabularize EHR part-124: 100%|██████████| 46/46 [00:02<00:00, 16.62it/s]\n"
     ]
    },
    {
     "name": "stdout",
     "output_type": "stream",
     "text": [
      "[ SUCCESSFULLY SAVED TOTAL UNIT STAY DATA ]\n",
      "--\n",
      "--\n",
      "Tracking num of observation after featrue selection\n",
      "Before selection:  2342443\n",
      "After selection:  1358390\n",
      "Complete featrue selection\n",
      "Start Tabularize Part- 125\n",
      "Number of patient:  39\n"
     ]
    },
    {
     "name": "stderr",
     "output_type": "stream",
     "text": [
      "Tabularize EHR part-125: 100%|██████████| 39/39 [00:02<00:00, 15.34it/s]\n"
     ]
    },
    {
     "name": "stdout",
     "output_type": "stream",
     "text": [
      "[ SUCCESSFULLY SAVED TOTAL UNIT STAY DATA ]\n",
      "--\n",
      "--\n",
      "Tracking num of observation after featrue selection\n",
      "Before selection:  2504317\n",
      "After selection:  1388031\n",
      "Complete featrue selection\n",
      "Start Tabularize Part- 126\n",
      "Number of patient:  36\n"
     ]
    },
    {
     "name": "stderr",
     "output_type": "stream",
     "text": [
      "Tabularize EHR part-126: 100%|██████████| 36/36 [00:02<00:00, 16.42it/s]\n"
     ]
    },
    {
     "name": "stdout",
     "output_type": "stream",
     "text": [
      "[ SUCCESSFULLY SAVED TOTAL UNIT STAY DATA ]\n",
      "--\n",
      "--\n",
      "Tracking num of observation after featrue selection\n",
      "Before selection:  2359433\n",
      "After selection:  1303722\n",
      "Complete featrue selection\n",
      "Start Tabularize Part- 127\n",
      "Number of patient:  39\n"
     ]
    },
    {
     "name": "stderr",
     "output_type": "stream",
     "text": [
      "Tabularize EHR part-127: 100%|██████████| 39/39 [00:02<00:00, 17.00it/s]\n"
     ]
    },
    {
     "name": "stdout",
     "output_type": "stream",
     "text": [
      "[ SUCCESSFULLY SAVED TOTAL UNIT STAY DATA ]\n",
      "--\n",
      "--\n",
      "Tracking num of observation after featrue selection\n",
      "Before selection:  3827289\n",
      "After selection:  2049757\n",
      "Complete featrue selection\n",
      "Start Tabularize Part- 128\n",
      "Number of patient:  53\n"
     ]
    },
    {
     "name": "stderr",
     "output_type": "stream",
     "text": [
      "Tabularize EHR part-128: 100%|██████████| 53/53 [00:04<00:00, 12.93it/s]\n"
     ]
    },
    {
     "name": "stdout",
     "output_type": "stream",
     "text": [
      "[ SUCCESSFULLY SAVED TOTAL UNIT STAY DATA ]\n",
      "--\n",
      "--\n",
      "Tracking num of observation after featrue selection\n",
      "Before selection:  2896625\n",
      "After selection:  1530456\n",
      "Complete featrue selection\n",
      "Start Tabularize Part- 129\n",
      "Number of patient:  47\n"
     ]
    },
    {
     "name": "stderr",
     "output_type": "stream",
     "text": [
      "Tabularize EHR part-129: 100%|██████████| 47/47 [00:03<00:00, 14.38it/s]\n"
     ]
    },
    {
     "name": "stdout",
     "output_type": "stream",
     "text": [
      "[ SUCCESSFULLY SAVED TOTAL UNIT STAY DATA ]\n",
      "--\n",
      "--\n",
      "Tracking num of observation after featrue selection\n",
      "Before selection:  2513732\n",
      "After selection:  1425869\n",
      "Complete featrue selection\n",
      "Start Tabularize Part- 130\n",
      "Number of patient:  36\n"
     ]
    },
    {
     "name": "stderr",
     "output_type": "stream",
     "text": [
      "Tabularize EHR part-130: 100%|██████████| 36/36 [00:02<00:00, 14.57it/s]\n"
     ]
    },
    {
     "name": "stdout",
     "output_type": "stream",
     "text": [
      "[ SUCCESSFULLY SAVED TOTAL UNIT STAY DATA ]\n",
      "--\n",
      "--\n",
      "Tracking num of observation after featrue selection\n",
      "Before selection:  3525976\n",
      "After selection:  1887292\n",
      "Complete featrue selection\n",
      "Start Tabularize Part- 131\n",
      "Number of patient:  41\n"
     ]
    },
    {
     "name": "stderr",
     "output_type": "stream",
     "text": [
      "Tabularize EHR part-131: 100%|██████████| 41/41 [00:03<00:00, 12.01it/s]\n"
     ]
    },
    {
     "name": "stdout",
     "output_type": "stream",
     "text": [
      "[ SUCCESSFULLY SAVED TOTAL UNIT STAY DATA ]\n",
      "--\n",
      "--\n",
      "Tracking num of observation after featrue selection\n",
      "Before selection:  3026951\n",
      "After selection:  1592930\n",
      "Complete featrue selection\n",
      "Start Tabularize Part- 132\n",
      "Number of patient:  32\n"
     ]
    },
    {
     "name": "stderr",
     "output_type": "stream",
     "text": [
      "Tabularize EHR part-132: 100%|██████████| 32/32 [00:02<00:00, 13.58it/s]\n"
     ]
    },
    {
     "name": "stdout",
     "output_type": "stream",
     "text": [
      "[ SUCCESSFULLY SAVED TOTAL UNIT STAY DATA ]\n",
      "--\n",
      "--\n",
      "Tracking num of observation after featrue selection\n",
      "Before selection:  1972829\n",
      "After selection:  1081777\n",
      "Complete featrue selection\n",
      "Start Tabularize Part- 133\n",
      "Number of patient:  28\n"
     ]
    },
    {
     "name": "stderr",
     "output_type": "stream",
     "text": [
      "Tabularize EHR part-133: 100%|██████████| 28/28 [00:01<00:00, 17.23it/s]\n"
     ]
    },
    {
     "name": "stdout",
     "output_type": "stream",
     "text": [
      "[ SUCCESSFULLY SAVED TOTAL UNIT STAY DATA ]\n",
      "--\n",
      "--\n",
      "Tracking num of observation after featrue selection\n",
      "Before selection:  2691981\n",
      "After selection:  1424790\n",
      "Complete featrue selection\n",
      "Start Tabularize Part- 134\n",
      "Number of patient:  50\n"
     ]
    },
    {
     "name": "stderr",
     "output_type": "stream",
     "text": [
      "Tabularize EHR part-134: 100%|██████████| 50/50 [00:02<00:00, 16.74it/s]\n"
     ]
    },
    {
     "name": "stdout",
     "output_type": "stream",
     "text": [
      "[ SUCCESSFULLY SAVED TOTAL UNIT STAY DATA ]\n",
      "--\n",
      "--\n",
      "Tracking num of observation after featrue selection\n",
      "Before selection:  3446356\n",
      "After selection:  1884041\n",
      "Complete featrue selection\n",
      "Start Tabularize Part- 135\n",
      "Number of patient:  42\n"
     ]
    },
    {
     "name": "stderr",
     "output_type": "stream",
     "text": [
      "Tabularize EHR part-135: 100%|██████████| 42/42 [00:03<00:00, 12.94it/s]\n"
     ]
    },
    {
     "name": "stdout",
     "output_type": "stream",
     "text": [
      "[ SUCCESSFULLY SAVED TOTAL UNIT STAY DATA ]\n",
      "--\n",
      "--\n",
      "Tracking num of observation after featrue selection\n",
      "Before selection:  2183918\n",
      "After selection:  1197360\n",
      "Complete featrue selection\n",
      "Start Tabularize Part- 136\n",
      "Number of patient:  31\n"
     ]
    },
    {
     "name": "stderr",
     "output_type": "stream",
     "text": [
      "Tabularize EHR part-136: 100%|██████████| 31/31 [00:02<00:00, 15.11it/s]\n"
     ]
    },
    {
     "name": "stdout",
     "output_type": "stream",
     "text": [
      "[ SUCCESSFULLY SAVED TOTAL UNIT STAY DATA ]\n",
      "--\n",
      "--\n",
      "Tracking num of observation after featrue selection\n",
      "Before selection:  2522795\n",
      "After selection:  1341524\n",
      "Complete featrue selection\n",
      "Start Tabularize Part- 137\n",
      "Number of patient:  38\n"
     ]
    },
    {
     "name": "stderr",
     "output_type": "stream",
     "text": [
      "Tabularize EHR part-137: 100%|██████████| 38/38 [00:02<00:00, 18.18it/s]\n"
     ]
    },
    {
     "name": "stdout",
     "output_type": "stream",
     "text": [
      "[ SUCCESSFULLY SAVED TOTAL UNIT STAY DATA ]\n",
      "--\n",
      "--\n",
      "Tracking num of observation after featrue selection\n",
      "Before selection:  2791065\n",
      "After selection:  1547020\n",
      "Complete featrue selection\n",
      "Start Tabularize Part- 138\n",
      "Number of patient:  43\n"
     ]
    },
    {
     "name": "stderr",
     "output_type": "stream",
     "text": [
      "Tabularize EHR part-138: 100%|██████████| 43/43 [00:02<00:00, 16.53it/s]\n"
     ]
    },
    {
     "name": "stdout",
     "output_type": "stream",
     "text": [
      "[ SUCCESSFULLY SAVED TOTAL UNIT STAY DATA ]\n",
      "--\n",
      "--\n",
      "Tracking num of observation after featrue selection\n",
      "Before selection:  3246287\n",
      "After selection:  1753975\n",
      "Complete featrue selection\n",
      "Start Tabularize Part- 139\n",
      "Number of patient:  52\n"
     ]
    },
    {
     "name": "stderr",
     "output_type": "stream",
     "text": [
      "Tabularize EHR part-139: 100%|██████████| 52/52 [00:03<00:00, 15.53it/s]\n"
     ]
    },
    {
     "name": "stdout",
     "output_type": "stream",
     "text": [
      "[ SUCCESSFULLY SAVED TOTAL UNIT STAY DATA ]\n",
      "--\n",
      "--\n",
      "Tracking num of observation after featrue selection\n",
      "Before selection:  2626105\n",
      "After selection:  1483724\n",
      "Complete featrue selection\n",
      "Start Tabularize Part- 140\n",
      "Number of patient:  36\n"
     ]
    },
    {
     "name": "stderr",
     "output_type": "stream",
     "text": [
      "Tabularize EHR part-140: 100%|██████████| 36/36 [00:02<00:00, 16.33it/s]\n"
     ]
    },
    {
     "name": "stdout",
     "output_type": "stream",
     "text": [
      "[ SUCCESSFULLY SAVED TOTAL UNIT STAY DATA ]\n",
      "--\n",
      "--\n",
      "Tracking num of observation after featrue selection\n",
      "Before selection:  2990024\n",
      "After selection:  1636026\n",
      "Complete featrue selection\n",
      "Start Tabularize Part- 141\n",
      "Number of patient:  49\n"
     ]
    },
    {
     "name": "stderr",
     "output_type": "stream",
     "text": [
      "Tabularize EHR part-141: 100%|██████████| 49/49 [00:03<00:00, 15.28it/s]\n"
     ]
    },
    {
     "name": "stdout",
     "output_type": "stream",
     "text": [
      "[ SUCCESSFULLY SAVED TOTAL UNIT STAY DATA ]\n",
      "--\n",
      "--\n",
      "Tracking num of observation after featrue selection\n",
      "Before selection:  2859932\n",
      "After selection:  1581318\n",
      "Complete featrue selection\n",
      "Start Tabularize Part- 142\n",
      "Number of patient:  41\n"
     ]
    },
    {
     "name": "stderr",
     "output_type": "stream",
     "text": [
      "Tabularize EHR part-142: 100%|██████████| 41/41 [00:02<00:00, 15.73it/s]\n"
     ]
    },
    {
     "name": "stdout",
     "output_type": "stream",
     "text": [
      "[ SUCCESSFULLY SAVED TOTAL UNIT STAY DATA ]\n",
      "--\n",
      "--\n",
      "Tracking num of observation after featrue selection\n",
      "Before selection:  2132297\n",
      "After selection:  1212824\n",
      "Complete featrue selection\n",
      "Start Tabularize Part- 143\n",
      "Number of patient:  33\n"
     ]
    },
    {
     "name": "stderr",
     "output_type": "stream",
     "text": [
      "Tabularize EHR part-143: 100%|██████████| 33/33 [00:01<00:00, 17.35it/s]\n"
     ]
    },
    {
     "name": "stdout",
     "output_type": "stream",
     "text": [
      "[ SUCCESSFULLY SAVED TOTAL UNIT STAY DATA ]\n",
      "--\n",
      "--\n",
      "Tracking num of observation after featrue selection\n",
      "Before selection:  2468012\n",
      "After selection:  1361989\n",
      "Complete featrue selection\n",
      "Start Tabularize Part- 144\n",
      "Number of patient:  33\n"
     ]
    },
    {
     "name": "stderr",
     "output_type": "stream",
     "text": [
      "Tabularize EHR part-144: 100%|██████████| 33/33 [00:02<00:00, 15.10it/s]\n"
     ]
    },
    {
     "name": "stdout",
     "output_type": "stream",
     "text": [
      "[ SUCCESSFULLY SAVED TOTAL UNIT STAY DATA ]\n",
      "--\n",
      "--\n",
      "Tracking num of observation after featrue selection\n",
      "Before selection:  2795570\n",
      "After selection:  1611878\n",
      "Complete featrue selection\n",
      "Start Tabularize Part- 145\n",
      "Number of patient:  37\n"
     ]
    },
    {
     "name": "stderr",
     "output_type": "stream",
     "text": [
      "Tabularize EHR part-145: 100%|██████████| 37/37 [00:02<00:00, 14.83it/s]\n"
     ]
    },
    {
     "name": "stdout",
     "output_type": "stream",
     "text": [
      "[ SUCCESSFULLY SAVED TOTAL UNIT STAY DATA ]\n",
      "--\n",
      "--\n",
      "Tracking num of observation after featrue selection\n",
      "Before selection:  2854658\n",
      "After selection:  1504341\n",
      "Complete featrue selection\n",
      "Start Tabularize Part- 146\n",
      "Number of patient:  42\n"
     ]
    },
    {
     "name": "stderr",
     "output_type": "stream",
     "text": [
      "Tabularize EHR part-146: 100%|██████████| 42/42 [00:02<00:00, 17.02it/s]\n"
     ]
    },
    {
     "name": "stdout",
     "output_type": "stream",
     "text": [
      "[ SUCCESSFULLY SAVED TOTAL UNIT STAY DATA ]\n",
      "--\n",
      "--\n",
      "Tracking num of observation after featrue selection\n",
      "Before selection:  3611620\n",
      "After selection:  1904165\n",
      "Complete featrue selection\n",
      "Start Tabularize Part- 147\n",
      "Number of patient:  53\n"
     ]
    },
    {
     "name": "stderr",
     "output_type": "stream",
     "text": [
      "Tabularize EHR part-147: 100%|██████████| 53/53 [00:03<00:00, 13.36it/s]\n"
     ]
    },
    {
     "name": "stdout",
     "output_type": "stream",
     "text": [
      "[ SUCCESSFULLY SAVED TOTAL UNIT STAY DATA ]\n",
      "--\n",
      "--\n",
      "Tracking num of observation after featrue selection\n",
      "Before selection:  3077475\n",
      "After selection:  1688591\n",
      "Complete featrue selection\n",
      "Start Tabularize Part- 148\n",
      "Number of patient:  43\n"
     ]
    },
    {
     "name": "stderr",
     "output_type": "stream",
     "text": [
      "Tabularize EHR part-148: 100%|██████████| 43/43 [00:02<00:00, 17.07it/s]\n"
     ]
    },
    {
     "name": "stdout",
     "output_type": "stream",
     "text": [
      "[ SUCCESSFULLY SAVED TOTAL UNIT STAY DATA ]\n",
      "--\n",
      "--\n",
      "Tracking num of observation after featrue selection\n",
      "Before selection:  3477016\n",
      "After selection:  1935515\n",
      "Complete featrue selection\n",
      "Start Tabularize Part- 149\n",
      "Number of patient:  46\n"
     ]
    },
    {
     "name": "stderr",
     "output_type": "stream",
     "text": [
      "Tabularize EHR part-149: 100%|██████████| 46/46 [00:03<00:00, 13.71it/s]\n"
     ]
    },
    {
     "name": "stdout",
     "output_type": "stream",
     "text": [
      "[ SUCCESSFULLY SAVED TOTAL UNIT STAY DATA ]\n",
      "--\n",
      "--\n",
      "Tracking num of observation after featrue selection\n",
      "Before selection:  3000096\n",
      "After selection:  1641106\n",
      "Complete featrue selection\n",
      "Start Tabularize Part- 150\n",
      "Number of patient:  39\n"
     ]
    },
    {
     "name": "stderr",
     "output_type": "stream",
     "text": [
      "Tabularize EHR part-150: 100%|██████████| 39/39 [00:02<00:00, 14.44it/s]\n"
     ]
    },
    {
     "name": "stdout",
     "output_type": "stream",
     "text": [
      "[ SUCCESSFULLY SAVED TOTAL UNIT STAY DATA ]\n",
      "--\n",
      "--\n",
      "Tracking num of observation after featrue selection\n",
      "Before selection:  3514876\n",
      "After selection:  1985944\n",
      "Complete featrue selection\n",
      "Start Tabularize Part- 151\n",
      "Number of patient:  44\n"
     ]
    },
    {
     "name": "stderr",
     "output_type": "stream",
     "text": [
      "Tabularize EHR part-151: 100%|██████████| 44/44 [00:03<00:00, 13.33it/s]\n"
     ]
    },
    {
     "name": "stdout",
     "output_type": "stream",
     "text": [
      "[ SUCCESSFULLY SAVED TOTAL UNIT STAY DATA ]\n",
      "--\n",
      "--\n",
      "Tracking num of observation after featrue selection\n",
      "Before selection:  3917795\n",
      "After selection:  2145204\n",
      "Complete featrue selection\n",
      "Start Tabularize Part- 152\n",
      "Number of patient:  44\n"
     ]
    },
    {
     "name": "stderr",
     "output_type": "stream",
     "text": [
      "Tabularize EHR part-152: 100%|██████████| 44/44 [00:03<00:00, 13.06it/s]\n"
     ]
    },
    {
     "name": "stdout",
     "output_type": "stream",
     "text": [
      "[ SUCCESSFULLY SAVED TOTAL UNIT STAY DATA ]\n",
      "--\n",
      "--\n",
      "Tracking num of observation after featrue selection\n",
      "Before selection:  2847058\n",
      "After selection:  1478650\n",
      "Complete featrue selection\n",
      "Start Tabularize Part- 153\n",
      "Number of patient:  44\n"
     ]
    },
    {
     "name": "stderr",
     "output_type": "stream",
     "text": [
      "Tabularize EHR part-153: 100%|██████████| 44/44 [00:02<00:00, 16.51it/s]\n"
     ]
    },
    {
     "name": "stdout",
     "output_type": "stream",
     "text": [
      "[ SUCCESSFULLY SAVED TOTAL UNIT STAY DATA ]\n",
      "--\n",
      "--\n",
      "Tracking num of observation after featrue selection\n",
      "Before selection:  3865160\n",
      "After selection:  2123172\n",
      "Complete featrue selection\n",
      "Start Tabularize Part- 154\n",
      "Number of patient:  52\n"
     ]
    },
    {
     "name": "stderr",
     "output_type": "stream",
     "text": [
      "Tabularize EHR part-154: 100%|██████████| 52/52 [00:03<00:00, 14.16it/s]\n"
     ]
    },
    {
     "name": "stdout",
     "output_type": "stream",
     "text": [
      "[ SUCCESSFULLY SAVED TOTAL UNIT STAY DATA ]\n",
      "--\n",
      "--\n",
      "Tracking num of observation after featrue selection\n",
      "Before selection:  2938242\n",
      "After selection:  1637573\n",
      "Complete featrue selection\n",
      "Start Tabularize Part- 155\n",
      "Number of patient:  45\n"
     ]
    },
    {
     "name": "stderr",
     "output_type": "stream",
     "text": [
      "Tabularize EHR part-155: 100%|██████████| 45/45 [00:02<00:00, 16.94it/s]\n"
     ]
    },
    {
     "name": "stdout",
     "output_type": "stream",
     "text": [
      "[ SUCCESSFULLY SAVED TOTAL UNIT STAY DATA ]\n",
      "--\n",
      "--\n",
      "Tracking num of observation after featrue selection\n",
      "Before selection:  3377826\n",
      "After selection:  1887600\n",
      "Complete featrue selection\n",
      "Start Tabularize Part- 156\n",
      "Number of patient:  43\n"
     ]
    },
    {
     "name": "stderr",
     "output_type": "stream",
     "text": [
      "Tabularize EHR part-156: 100%|██████████| 43/43 [00:03<00:00, 13.98it/s]\n"
     ]
    },
    {
     "name": "stdout",
     "output_type": "stream",
     "text": [
      "[ SUCCESSFULLY SAVED TOTAL UNIT STAY DATA ]\n",
      "--\n",
      "--\n",
      "Tracking num of observation after featrue selection\n",
      "Before selection:  3032320\n",
      "After selection:  1691563\n",
      "Complete featrue selection\n",
      "Start Tabularize Part- 157\n",
      "Number of patient:  42\n"
     ]
    },
    {
     "name": "stderr",
     "output_type": "stream",
     "text": [
      "Tabularize EHR part-157: 100%|██████████| 42/42 [00:02<00:00, 14.48it/s]\n"
     ]
    },
    {
     "name": "stdout",
     "output_type": "stream",
     "text": [
      "[ SUCCESSFULLY SAVED TOTAL UNIT STAY DATA ]\n",
      "--\n",
      "--\n",
      "Tracking num of observation after featrue selection\n",
      "Before selection:  3478677\n",
      "After selection:  1970499\n",
      "Complete featrue selection\n",
      "Start Tabularize Part- 158\n",
      "Number of patient:  42\n"
     ]
    },
    {
     "name": "stderr",
     "output_type": "stream",
     "text": [
      "Tabularize EHR part-158: 100%|██████████| 42/42 [00:02<00:00, 14.14it/s]\n"
     ]
    },
    {
     "name": "stdout",
     "output_type": "stream",
     "text": [
      "[ SUCCESSFULLY SAVED TOTAL UNIT STAY DATA ]\n",
      "--\n",
      "--\n",
      "Tracking num of observation after featrue selection\n",
      "Before selection:  2740545\n",
      "After selection:  1506629\n",
      "Complete featrue selection\n",
      "Start Tabularize Part- 159\n",
      "Number of patient:  35\n"
     ]
    },
    {
     "name": "stderr",
     "output_type": "stream",
     "text": [
      "Tabularize EHR part-159: 100%|██████████| 35/35 [00:02<00:00, 16.80it/s]\n"
     ]
    },
    {
     "name": "stdout",
     "output_type": "stream",
     "text": [
      "[ SUCCESSFULLY SAVED TOTAL UNIT STAY DATA ]\n",
      "--\n",
      "--\n",
      "Tracking num of observation after featrue selection\n",
      "Before selection:  4039562\n",
      "After selection:  2210488\n",
      "Complete featrue selection\n",
      "Start Tabularize Part- 160\n",
      "Number of patient:  47\n"
     ]
    },
    {
     "name": "stderr",
     "output_type": "stream",
     "text": [
      "Tabularize EHR part-160: 100%|██████████| 47/47 [00:03<00:00, 12.74it/s]\n"
     ]
    },
    {
     "name": "stdout",
     "output_type": "stream",
     "text": [
      "[ SUCCESSFULLY SAVED TOTAL UNIT STAY DATA ]\n",
      "--\n",
      "--\n",
      "Tracking num of observation after featrue selection\n",
      "Before selection:  2483924\n",
      "After selection:  1364196\n",
      "Complete featrue selection\n",
      "Start Tabularize Part- 161\n",
      "Number of patient:  43\n"
     ]
    },
    {
     "name": "stderr",
     "output_type": "stream",
     "text": [
      "Tabularize EHR part-161: 100%|██████████| 43/43 [00:02<00:00, 17.76it/s]\n"
     ]
    },
    {
     "name": "stdout",
     "output_type": "stream",
     "text": [
      "[ SUCCESSFULLY SAVED TOTAL UNIT STAY DATA ]\n",
      "--\n",
      "--\n",
      "Tracking num of observation after featrue selection\n",
      "Before selection:  2805802\n",
      "After selection:  1493698\n",
      "Complete featrue selection\n",
      "Start Tabularize Part- 162\n",
      "Number of patient:  45\n"
     ]
    },
    {
     "name": "stderr",
     "output_type": "stream",
     "text": [
      "Tabularize EHR part-162: 100%|██████████| 45/45 [00:02<00:00, 15.75it/s]\n"
     ]
    },
    {
     "name": "stdout",
     "output_type": "stream",
     "text": [
      "[ SUCCESSFULLY SAVED TOTAL UNIT STAY DATA ]\n",
      "--\n",
      "--\n",
      "Tracking num of observation after featrue selection\n",
      "Before selection:  2544006\n",
      "After selection:  1470678\n",
      "Complete featrue selection\n",
      "Start Tabularize Part- 163\n",
      "Number of patient:  38\n"
     ]
    },
    {
     "name": "stderr",
     "output_type": "stream",
     "text": [
      "Tabularize EHR part-163: 100%|██████████| 38/38 [00:02<00:00, 17.62it/s]\n"
     ]
    },
    {
     "name": "stdout",
     "output_type": "stream",
     "text": [
      "[ SUCCESSFULLY SAVED TOTAL UNIT STAY DATA ]\n",
      "--\n",
      "--\n",
      "Tracking num of observation after featrue selection\n",
      "Before selection:  2619850\n",
      "After selection:  1397983\n",
      "Complete featrue selection\n",
      "Start Tabularize Part- 164\n",
      "Number of patient:  35\n"
     ]
    },
    {
     "name": "stderr",
     "output_type": "stream",
     "text": [
      "Tabularize EHR part-164: 100%|██████████| 35/35 [00:02<00:00, 16.47it/s]\n"
     ]
    },
    {
     "name": "stdout",
     "output_type": "stream",
     "text": [
      "[ SUCCESSFULLY SAVED TOTAL UNIT STAY DATA ]\n",
      "--\n",
      "--\n",
      "Tracking num of observation after featrue selection\n",
      "Before selection:  3368955\n",
      "After selection:  1807250\n",
      "Complete featrue selection\n",
      "Start Tabularize Part- 165\n",
      "Number of patient:  45\n"
     ]
    },
    {
     "name": "stderr",
     "output_type": "stream",
     "text": [
      "Tabularize EHR part-165: 100%|██████████| 45/45 [00:03<00:00, 14.05it/s]\n"
     ]
    },
    {
     "name": "stdout",
     "output_type": "stream",
     "text": [
      "[ SUCCESSFULLY SAVED TOTAL UNIT STAY DATA ]\n",
      "--\n",
      "--\n",
      "Tracking num of observation after featrue selection\n",
      "Before selection:  3778664\n",
      "After selection:  2004523\n",
      "Complete featrue selection\n",
      "Start Tabularize Part- 166\n",
      "Number of patient:  50\n"
     ]
    },
    {
     "name": "stderr",
     "output_type": "stream",
     "text": [
      "Tabularize EHR part-166: 100%|██████████| 50/50 [00:03<00:00, 12.74it/s]\n"
     ]
    },
    {
     "name": "stdout",
     "output_type": "stream",
     "text": [
      "[ SUCCESSFULLY SAVED TOTAL UNIT STAY DATA ]\n",
      "--\n",
      "--\n",
      "Tracking num of observation after featrue selection\n",
      "Before selection:  2860108\n",
      "After selection:  1666218\n",
      "Complete featrue selection\n",
      "Start Tabularize Part- 167\n",
      "Number of patient:  42\n"
     ]
    },
    {
     "name": "stderr",
     "output_type": "stream",
     "text": [
      "Tabularize EHR part-167: 100%|██████████| 42/42 [00:02<00:00, 16.10it/s]\n"
     ]
    },
    {
     "name": "stdout",
     "output_type": "stream",
     "text": [
      "[ SUCCESSFULLY SAVED TOTAL UNIT STAY DATA ]\n",
      "--\n",
      "--\n",
      "Tracking num of observation after featrue selection\n",
      "Before selection:  2336188\n",
      "After selection:  1312133\n",
      "Complete featrue selection\n",
      "Start Tabularize Part- 168\n",
      "Number of patient:  30\n"
     ]
    },
    {
     "name": "stderr",
     "output_type": "stream",
     "text": [
      "Tabularize EHR part-168: 100%|██████████| 30/30 [00:01<00:00, 18.04it/s]\n"
     ]
    },
    {
     "name": "stdout",
     "output_type": "stream",
     "text": [
      "[ SUCCESSFULLY SAVED TOTAL UNIT STAY DATA ]\n",
      "--\n",
      "--\n",
      "Tracking num of observation after featrue selection\n",
      "Before selection:  2823353\n",
      "After selection:  1532190\n",
      "Complete featrue selection\n",
      "Start Tabularize Part- 169\n",
      "Number of patient:  41\n"
     ]
    },
    {
     "name": "stderr",
     "output_type": "stream",
     "text": [
      "Tabularize EHR part-169: 100%|██████████| 41/41 [00:02<00:00, 15.87it/s]\n"
     ]
    },
    {
     "name": "stdout",
     "output_type": "stream",
     "text": [
      "[ SUCCESSFULLY SAVED TOTAL UNIT STAY DATA ]\n",
      "--\n",
      "--\n",
      "Tracking num of observation after featrue selection\n",
      "Before selection:  2854342\n",
      "After selection:  1578275\n",
      "Complete featrue selection\n",
      "Start Tabularize Part- 170\n",
      "Number of patient:  39\n"
     ]
    },
    {
     "name": "stderr",
     "output_type": "stream",
     "text": [
      "Tabularize EHR part-170: 100%|██████████| 39/39 [00:02<00:00, 16.26it/s]\n"
     ]
    },
    {
     "name": "stdout",
     "output_type": "stream",
     "text": [
      "[ SUCCESSFULLY SAVED TOTAL UNIT STAY DATA ]\n",
      "--\n",
      "--\n",
      "Tracking num of observation after featrue selection\n",
      "Before selection:  3232914\n",
      "After selection:  1830682\n",
      "Complete featrue selection\n",
      "Start Tabularize Part- 171\n",
      "Number of patient:  45\n"
     ]
    },
    {
     "name": "stderr",
     "output_type": "stream",
     "text": [
      "Tabularize EHR part-171: 100%|██████████| 45/45 [00:02<00:00, 15.62it/s]\n"
     ]
    },
    {
     "name": "stdout",
     "output_type": "stream",
     "text": [
      "[ SUCCESSFULLY SAVED TOTAL UNIT STAY DATA ]\n",
      "--\n",
      "--\n",
      "Tracking num of observation after featrue selection\n",
      "Before selection:  2641573\n",
      "After selection:  1513448\n",
      "Complete featrue selection\n",
      "Start Tabularize Part- 172\n",
      "Number of patient:  37\n"
     ]
    },
    {
     "name": "stderr",
     "output_type": "stream",
     "text": [
      "Tabularize EHR part-172: 100%|██████████| 37/37 [00:02<00:00, 16.75it/s]\n"
     ]
    },
    {
     "name": "stdout",
     "output_type": "stream",
     "text": [
      "[ SUCCESSFULLY SAVED TOTAL UNIT STAY DATA ]\n",
      "--\n",
      "--\n",
      "Tracking num of observation after featrue selection\n",
      "Before selection:  2903851\n",
      "After selection:  1767767\n",
      "Complete featrue selection\n",
      "Start Tabularize Part- 173\n",
      "Number of patient:  41\n"
     ]
    },
    {
     "name": "stderr",
     "output_type": "stream",
     "text": [
      "Tabularize EHR part-173: 100%|██████████| 41/41 [00:02<00:00, 15.61it/s]\n"
     ]
    },
    {
     "name": "stdout",
     "output_type": "stream",
     "text": [
      "[ SUCCESSFULLY SAVED TOTAL UNIT STAY DATA ]\n",
      "--\n",
      "--\n",
      "Tracking num of observation after featrue selection\n",
      "Before selection:  2841724\n",
      "After selection:  1508866\n",
      "Complete featrue selection\n",
      "Start Tabularize Part- 174\n",
      "Number of patient:  45\n"
     ]
    },
    {
     "name": "stderr",
     "output_type": "stream",
     "text": [
      "Tabularize EHR part-174: 100%|██████████| 45/45 [00:02<00:00, 16.23it/s]\n"
     ]
    },
    {
     "name": "stdout",
     "output_type": "stream",
     "text": [
      "[ SUCCESSFULLY SAVED TOTAL UNIT STAY DATA ]\n",
      "--\n",
      "--\n",
      "Tracking num of observation after featrue selection\n",
      "Before selection:  3722124\n",
      "After selection:  2092622\n",
      "Complete featrue selection\n",
      "Start Tabularize Part- 175\n",
      "Number of patient:  45\n"
     ]
    },
    {
     "name": "stderr",
     "output_type": "stream",
     "text": [
      "Tabularize EHR part-175: 100%|██████████| 45/45 [00:03<00:00, 14.10it/s]\n"
     ]
    },
    {
     "name": "stdout",
     "output_type": "stream",
     "text": [
      "[ SUCCESSFULLY SAVED TOTAL UNIT STAY DATA ]\n",
      "--\n",
      "--\n",
      "Tracking num of observation after featrue selection\n",
      "Before selection:  2769491\n",
      "After selection:  1468850\n",
      "Complete featrue selection\n",
      "Start Tabularize Part- 176\n",
      "Number of patient:  36\n"
     ]
    },
    {
     "name": "stderr",
     "output_type": "stream",
     "text": [
      "Tabularize EHR part-176: 100%|██████████| 36/36 [00:02<00:00, 15.38it/s]\n"
     ]
    },
    {
     "name": "stdout",
     "output_type": "stream",
     "text": [
      "[ SUCCESSFULLY SAVED TOTAL UNIT STAY DATA ]\n",
      "--\n",
      "--\n",
      "Tracking num of observation after featrue selection\n",
      "Before selection:  1898382\n",
      "After selection:  997855\n",
      "Complete featrue selection\n",
      "Start Tabularize Part- 177\n",
      "Number of patient:  38\n"
     ]
    },
    {
     "name": "stderr",
     "output_type": "stream",
     "text": [
      "Tabularize EHR part-177: 100%|██████████| 38/38 [00:02<00:00, 18.62it/s]\n"
     ]
    },
    {
     "name": "stdout",
     "output_type": "stream",
     "text": [
      "[ SUCCESSFULLY SAVED TOTAL UNIT STAY DATA ]\n",
      "--\n",
      "--\n",
      "Tracking num of observation after featrue selection\n",
      "Before selection:  3906083\n",
      "After selection:  2096788\n",
      "Complete featrue selection\n",
      "Start Tabularize Part- 178\n",
      "Number of patient:  51\n"
     ]
    },
    {
     "name": "stderr",
     "output_type": "stream",
     "text": [
      "Tabularize EHR part-178: 100%|██████████| 51/51 [00:03<00:00, 13.94it/s]"
     ]
    },
    {
     "name": "stdout",
     "output_type": "stream",
     "text": [
      "[ SUCCESSFULLY SAVED TOTAL UNIT STAY DATA ]\n",
      "--\n",
      "--\n"
     ]
    },
    {
     "name": "stderr",
     "output_type": "stream",
     "text": [
      "\n"
     ]
    },
    {
     "name": "stdout",
     "output_type": "stream",
     "text": [
      "Tracking num of observation after featrue selection\n",
      "Before selection:  2951707\n",
      "After selection:  1583983\n",
      "Complete featrue selection\n",
      "Start Tabularize Part- 179\n",
      "Number of patient:  43\n"
     ]
    },
    {
     "name": "stderr",
     "output_type": "stream",
     "text": [
      "Tabularize EHR part-179: 100%|██████████| 43/43 [00:02<00:00, 15.66it/s]\n"
     ]
    },
    {
     "name": "stdout",
     "output_type": "stream",
     "text": [
      "[ SUCCESSFULLY SAVED TOTAL UNIT STAY DATA ]\n",
      "--\n",
      "--\n",
      "Tracking num of observation after featrue selection\n",
      "Before selection:  2671383\n",
      "After selection:  1486295\n",
      "Complete featrue selection\n",
      "Start Tabularize Part- 180\n",
      "Number of patient:  45\n"
     ]
    },
    {
     "name": "stderr",
     "output_type": "stream",
     "text": [
      "Tabularize EHR part-180: 100%|██████████| 45/45 [00:02<00:00, 17.48it/s]\n"
     ]
    },
    {
     "name": "stdout",
     "output_type": "stream",
     "text": [
      "[ SUCCESSFULLY SAVED TOTAL UNIT STAY DATA ]\n",
      "--\n",
      "--\n",
      "Tracking num of observation after featrue selection\n",
      "Before selection:  3601819\n",
      "After selection:  1990608\n",
      "Complete featrue selection\n",
      "Start Tabularize Part- 181\n",
      "Number of patient:  46\n"
     ]
    },
    {
     "name": "stderr",
     "output_type": "stream",
     "text": [
      "Tabularize EHR part-181: 100%|██████████| 46/46 [00:03<00:00, 14.28it/s]\n"
     ]
    },
    {
     "name": "stdout",
     "output_type": "stream",
     "text": [
      "[ SUCCESSFULLY SAVED TOTAL UNIT STAY DATA ]\n",
      "--\n",
      "--\n",
      "Tracking num of observation after featrue selection\n",
      "Before selection:  3321945\n",
      "After selection:  1809113\n",
      "Complete featrue selection\n",
      "Start Tabularize Part- 182\n",
      "Number of patient:  42\n"
     ]
    },
    {
     "name": "stderr",
     "output_type": "stream",
     "text": [
      "Tabularize EHR part-182: 100%|██████████| 42/42 [00:02<00:00, 15.29it/s]\n"
     ]
    },
    {
     "name": "stdout",
     "output_type": "stream",
     "text": [
      "[ SUCCESSFULLY SAVED TOTAL UNIT STAY DATA ]\n",
      "--\n",
      "--\n",
      "Tracking num of observation after featrue selection\n",
      "Before selection:  2169415\n",
      "After selection:  1304181\n",
      "Complete featrue selection\n",
      "Start Tabularize Part- 183\n",
      "Number of patient:  34\n"
     ]
    },
    {
     "name": "stderr",
     "output_type": "stream",
     "text": [
      "Tabularize EHR part-183: 100%|██████████| 34/34 [00:01<00:00, 17.27it/s]\n"
     ]
    },
    {
     "name": "stdout",
     "output_type": "stream",
     "text": [
      "[ SUCCESSFULLY SAVED TOTAL UNIT STAY DATA ]\n",
      "--\n",
      "--\n",
      "Tracking num of observation after featrue selection\n",
      "Before selection:  2318642\n",
      "After selection:  1270025\n",
      "Complete featrue selection\n",
      "Start Tabularize Part- 184\n",
      "Number of patient:  40\n"
     ]
    },
    {
     "name": "stderr",
     "output_type": "stream",
     "text": [
      "Tabularize EHR part-184: 100%|██████████| 40/40 [00:02<00:00, 18.47it/s]\n"
     ]
    },
    {
     "name": "stdout",
     "output_type": "stream",
     "text": [
      "[ SUCCESSFULLY SAVED TOTAL UNIT STAY DATA ]\n",
      "--\n",
      "--\n",
      "Tracking num of observation after featrue selection\n",
      "Before selection:  2411576\n",
      "After selection:  1417541\n",
      "Complete featrue selection\n",
      "Start Tabularize Part- 185\n",
      "Number of patient:  31\n"
     ]
    },
    {
     "name": "stderr",
     "output_type": "stream",
     "text": [
      "Tabularize EHR part-185: 100%|██████████| 31/31 [00:01<00:00, 18.18it/s]\n"
     ]
    },
    {
     "name": "stdout",
     "output_type": "stream",
     "text": [
      "[ SUCCESSFULLY SAVED TOTAL UNIT STAY DATA ]\n",
      "--\n",
      "--\n",
      "Tracking num of observation after featrue selection\n",
      "Before selection:  3246864\n",
      "After selection:  1679824\n",
      "Complete featrue selection\n",
      "Start Tabularize Part- 186\n",
      "Number of patient:  43\n"
     ]
    },
    {
     "name": "stderr",
     "output_type": "stream",
     "text": [
      "Tabularize EHR part-186: 100%|██████████| 43/43 [00:02<00:00, 14.67it/s]\n"
     ]
    },
    {
     "name": "stdout",
     "output_type": "stream",
     "text": [
      "[ SUCCESSFULLY SAVED TOTAL UNIT STAY DATA ]\n",
      "--\n",
      "--\n",
      "Tracking num of observation after featrue selection\n",
      "Before selection:  4417226\n",
      "After selection:  2489517\n",
      "Complete featrue selection\n",
      "Start Tabularize Part- 187\n",
      "Number of patient:  52\n"
     ]
    },
    {
     "name": "stderr",
     "output_type": "stream",
     "text": [
      "Tabularize EHR part-187: 100%|██████████| 52/52 [00:04<00:00, 11.25it/s]\n"
     ]
    },
    {
     "name": "stdout",
     "output_type": "stream",
     "text": [
      "[ SUCCESSFULLY SAVED TOTAL UNIT STAY DATA ]\n",
      "--\n",
      "--\n",
      "Tracking num of observation after featrue selection\n",
      "Before selection:  3981398\n",
      "After selection:  2123127\n",
      "Complete featrue selection\n",
      "Start Tabularize Part- 188\n",
      "Number of patient:  57\n"
     ]
    },
    {
     "name": "stderr",
     "output_type": "stream",
     "text": [
      "Tabularize EHR part-188: 100%|██████████| 57/57 [00:03<00:00, 14.60it/s]\n"
     ]
    },
    {
     "name": "stdout",
     "output_type": "stream",
     "text": [
      "[ SUCCESSFULLY SAVED TOTAL UNIT STAY DATA ]\n",
      "--\n",
      "--\n",
      "Tracking num of observation after featrue selection\n",
      "Before selection:  2994972\n",
      "After selection:  1611773\n",
      "Complete featrue selection\n",
      "Start Tabularize Part- 189\n",
      "Number of patient:  49\n"
     ]
    },
    {
     "name": "stderr",
     "output_type": "stream",
     "text": [
      "Tabularize EHR part-189: 100%|██████████| 49/49 [00:03<00:00, 15.68it/s]\n"
     ]
    },
    {
     "name": "stdout",
     "output_type": "stream",
     "text": [
      "[ SUCCESSFULLY SAVED TOTAL UNIT STAY DATA ]\n",
      "--\n",
      "--\n",
      "Tracking num of observation after featrue selection\n",
      "Before selection:  3344062\n",
      "After selection:  1769893\n",
      "Complete featrue selection\n",
      "Start Tabularize Part- 190\n",
      "Number of patient:  39\n"
     ]
    },
    {
     "name": "stderr",
     "output_type": "stream",
     "text": [
      "Tabularize EHR part-190: 100%|██████████| 39/39 [00:02<00:00, 13.95it/s]\n"
     ]
    },
    {
     "name": "stdout",
     "output_type": "stream",
     "text": [
      "[ SUCCESSFULLY SAVED TOTAL UNIT STAY DATA ]\n",
      "--\n",
      "--\n",
      "Tracking num of observation after featrue selection\n",
      "Before selection:  4002491\n",
      "After selection:  2119128\n",
      "Complete featrue selection\n",
      "Start Tabularize Part- 191\n",
      "Number of patient:  55\n"
     ]
    },
    {
     "name": "stderr",
     "output_type": "stream",
     "text": [
      "Tabularize EHR part-191: 100%|██████████| 55/55 [00:04<00:00, 12.75it/s]\n"
     ]
    },
    {
     "name": "stdout",
     "output_type": "stream",
     "text": [
      "[ SUCCESSFULLY SAVED TOTAL UNIT STAY DATA ]\n",
      "--\n",
      "--\n",
      "Tracking num of observation after featrue selection\n",
      "Before selection:  2375441\n",
      "After selection:  1315316\n",
      "Complete featrue selection\n",
      "Start Tabularize Part- 192\n",
      "Number of patient:  31\n"
     ]
    },
    {
     "name": "stderr",
     "output_type": "stream",
     "text": [
      "Tabularize EHR part-192: 100%|██████████| 31/31 [00:01<00:00, 17.57it/s]\n"
     ]
    },
    {
     "name": "stdout",
     "output_type": "stream",
     "text": [
      "[ SUCCESSFULLY SAVED TOTAL UNIT STAY DATA ]\n",
      "--\n",
      "--\n",
      "Tracking num of observation after featrue selection\n",
      "Before selection:  2313755\n",
      "After selection:  1368621\n",
      "Complete featrue selection\n",
      "Start Tabularize Part- 193\n",
      "Number of patient:  32\n"
     ]
    },
    {
     "name": "stderr",
     "output_type": "stream",
     "text": [
      "Tabularize EHR part-193: 100%|██████████| 32/32 [00:01<00:00, 18.38it/s]\n"
     ]
    },
    {
     "name": "stdout",
     "output_type": "stream",
     "text": [
      "[ SUCCESSFULLY SAVED TOTAL UNIT STAY DATA ]\n",
      "--\n",
      "--\n",
      "Tracking num of observation after featrue selection\n",
      "Before selection:  3758486\n",
      "After selection:  1965006\n",
      "Complete featrue selection\n",
      "Start Tabularize Part- 194\n",
      "Number of patient:  51\n"
     ]
    },
    {
     "name": "stderr",
     "output_type": "stream",
     "text": [
      "Tabularize EHR part-194: 100%|██████████| 51/51 [00:03<00:00, 14.28it/s]\n"
     ]
    },
    {
     "name": "stdout",
     "output_type": "stream",
     "text": [
      "[ SUCCESSFULLY SAVED TOTAL UNIT STAY DATA ]\n",
      "--\n",
      "--\n",
      "Tracking num of observation after featrue selection\n",
      "Before selection:  4292567\n",
      "After selection:  2219576\n",
      "Complete featrue selection\n",
      "Start Tabularize Part- 195\n",
      "Number of patient:  57\n"
     ]
    },
    {
     "name": "stderr",
     "output_type": "stream",
     "text": [
      "Tabularize EHR part-195: 100%|██████████| 57/57 [00:04<00:00, 12.73it/s]\n"
     ]
    },
    {
     "name": "stdout",
     "output_type": "stream",
     "text": [
      "[ SUCCESSFULLY SAVED TOTAL UNIT STAY DATA ]\n",
      "--\n",
      "--\n",
      "Tracking num of observation after featrue selection\n",
      "Before selection:  2841279\n",
      "After selection:  1482629\n",
      "Complete featrue selection\n",
      "Start Tabularize Part- 196\n",
      "Number of patient:  53\n"
     ]
    },
    {
     "name": "stderr",
     "output_type": "stream",
     "text": [
      "Tabularize EHR part-196: 100%|██████████| 53/53 [00:03<00:00, 15.45it/s]\n"
     ]
    },
    {
     "name": "stdout",
     "output_type": "stream",
     "text": [
      "[ SUCCESSFULLY SAVED TOTAL UNIT STAY DATA ]\n",
      "--\n",
      "--\n",
      "Tracking num of observation after featrue selection\n",
      "Before selection:  3540345\n",
      "After selection:  1852168\n",
      "Complete featrue selection\n",
      "Start Tabularize Part- 197\n",
      "Number of patient:  38\n"
     ]
    },
    {
     "name": "stderr",
     "output_type": "stream",
     "text": [
      "Tabularize EHR part-197: 100%|██████████| 38/38 [00:02<00:00, 14.72it/s]\n"
     ]
    },
    {
     "name": "stdout",
     "output_type": "stream",
     "text": [
      "[ SUCCESSFULLY SAVED TOTAL UNIT STAY DATA ]\n",
      "--\n",
      "--\n",
      "Tracking num of observation after featrue selection\n",
      "Before selection:  3441123\n",
      "After selection:  1908235\n",
      "Complete featrue selection\n",
      "Start Tabularize Part- 198\n",
      "Number of patient:  50\n"
     ]
    },
    {
     "name": "stderr",
     "output_type": "stream",
     "text": [
      "Tabularize EHR part-198: 100%|██████████| 50/50 [00:03<00:00, 13.90it/s]\n"
     ]
    },
    {
     "name": "stdout",
     "output_type": "stream",
     "text": [
      "[ SUCCESSFULLY SAVED TOTAL UNIT STAY DATA ]\n",
      "--\n",
      "--\n",
      "Tracking num of observation after featrue selection\n",
      "Before selection:  3494237\n",
      "After selection:  1864259\n",
      "Complete featrue selection\n",
      "Start Tabularize Part- 199\n",
      "Number of patient:  55\n"
     ]
    },
    {
     "name": "stderr",
     "output_type": "stream",
     "text": [
      "Tabularize EHR part-199: 100%|██████████| 55/55 [00:03<00:00, 14.10it/s]\n"
     ]
    },
    {
     "name": "stdout",
     "output_type": "stream",
     "text": [
      "[ SUCCESSFULLY SAVED TOTAL UNIT STAY DATA ]\n",
      "--\n",
      "--\n",
      "Tracking num of observation after featrue selection\n",
      "Before selection:  3808765\n",
      "After selection:  2031945\n",
      "Complete featrue selection\n",
      "Start Tabularize Part- 200\n",
      "Number of patient:  49\n"
     ]
    },
    {
     "name": "stderr",
     "output_type": "stream",
     "text": [
      "Tabularize EHR part-200: 100%|██████████| 49/49 [00:03<00:00, 13.98it/s]\n"
     ]
    },
    {
     "name": "stdout",
     "output_type": "stream",
     "text": [
      "[ SUCCESSFULLY SAVED TOTAL UNIT STAY DATA ]\n",
      "--\n",
      "--\n",
      "Tracking num of observation after featrue selection\n",
      "Before selection:  3522287\n",
      "After selection:  1997765\n",
      "Complete featrue selection\n",
      "Start Tabularize Part- 201\n",
      "Number of patient:  44\n"
     ]
    },
    {
     "name": "stderr",
     "output_type": "stream",
     "text": [
      "Tabularize EHR part-201: 100%|██████████| 44/44 [00:03<00:00, 13.10it/s]\n"
     ]
    },
    {
     "name": "stdout",
     "output_type": "stream",
     "text": [
      "[ SUCCESSFULLY SAVED TOTAL UNIT STAY DATA ]\n",
      "--\n",
      "--\n",
      "Tracking num of observation after featrue selection\n",
      "Before selection:  3151505\n",
      "After selection:  1790133\n",
      "Complete featrue selection\n",
      "Start Tabularize Part- 202\n",
      "Number of patient:  50\n"
     ]
    },
    {
     "name": "stderr",
     "output_type": "stream",
     "text": [
      "Tabularize EHR part-202: 100%|██████████| 50/50 [00:03<00:00, 15.42it/s]\n"
     ]
    },
    {
     "name": "stdout",
     "output_type": "stream",
     "text": [
      "[ SUCCESSFULLY SAVED TOTAL UNIT STAY DATA ]\n",
      "--\n",
      "--\n",
      "Tracking num of observation after featrue selection\n",
      "Before selection:  3712922\n",
      "After selection:  2113910\n",
      "Complete featrue selection\n",
      "Start Tabularize Part- 203\n",
      "Number of patient:  44\n"
     ]
    },
    {
     "name": "stderr",
     "output_type": "stream",
     "text": [
      "Tabularize EHR part-203: 100%|██████████| 44/44 [00:03<00:00, 13.77it/s]\n"
     ]
    },
    {
     "name": "stdout",
     "output_type": "stream",
     "text": [
      "[ SUCCESSFULLY SAVED TOTAL UNIT STAY DATA ]\n",
      "--\n",
      "--\n",
      "Tracking num of observation after featrue selection\n",
      "Before selection:  2651084\n",
      "After selection:  1471795\n",
      "Complete featrue selection\n",
      "Start Tabularize Part- 204\n",
      "Number of patient:  32\n"
     ]
    },
    {
     "name": "stderr",
     "output_type": "stream",
     "text": [
      "Tabularize EHR part-204: 100%|██████████| 32/32 [00:01<00:00, 16.59it/s]\n"
     ]
    },
    {
     "name": "stdout",
     "output_type": "stream",
     "text": [
      "[ SUCCESSFULLY SAVED TOTAL UNIT STAY DATA ]\n",
      "--\n",
      "--\n",
      "Tracking num of observation after featrue selection\n",
      "Before selection:  3560245\n",
      "After selection:  1959177\n",
      "Complete featrue selection\n",
      "Start Tabularize Part- 205\n",
      "Number of patient:  44\n"
     ]
    },
    {
     "name": "stderr",
     "output_type": "stream",
     "text": [
      "Tabularize EHR part-205: 100%|██████████| 44/44 [00:02<00:00, 14.91it/s]\n"
     ]
    },
    {
     "name": "stdout",
     "output_type": "stream",
     "text": [
      "[ SUCCESSFULLY SAVED TOTAL UNIT STAY DATA ]\n",
      "--\n",
      "--\n",
      "Tracking num of observation after featrue selection\n",
      "Before selection:  2948036\n",
      "After selection:  1606417\n",
      "Complete featrue selection\n",
      "Start Tabularize Part- 206\n",
      "Number of patient:  37\n"
     ]
    },
    {
     "name": "stderr",
     "output_type": "stream",
     "text": [
      "Tabularize EHR part-206: 100%|██████████| 37/37 [00:02<00:00, 15.72it/s]\n"
     ]
    },
    {
     "name": "stdout",
     "output_type": "stream",
     "text": [
      "[ SUCCESSFULLY SAVED TOTAL UNIT STAY DATA ]\n",
      "--\n",
      "--\n",
      "Tracking num of observation after featrue selection\n",
      "Before selection:  2622805\n",
      "After selection:  1468317\n",
      "Complete featrue selection\n",
      "Start Tabularize Part- 207\n",
      "Number of patient:  40\n"
     ]
    },
    {
     "name": "stderr",
     "output_type": "stream",
     "text": [
      "Tabularize EHR part-207: 100%|██████████| 40/40 [00:02<00:00, 17.08it/s]\n"
     ]
    },
    {
     "name": "stdout",
     "output_type": "stream",
     "text": [
      "[ SUCCESSFULLY SAVED TOTAL UNIT STAY DATA ]\n",
      "--\n",
      "--\n",
      "Tracking num of observation after featrue selection\n",
      "Before selection:  4250432\n",
      "After selection:  2275720\n",
      "Complete featrue selection\n",
      "Start Tabularize Part- 208\n",
      "Number of patient:  52\n"
     ]
    },
    {
     "name": "stderr",
     "output_type": "stream",
     "text": [
      "Tabularize EHR part-208: 100%|██████████| 52/52 [00:03<00:00, 13.42it/s]\n"
     ]
    },
    {
     "name": "stdout",
     "output_type": "stream",
     "text": [
      "[ SUCCESSFULLY SAVED TOTAL UNIT STAY DATA ]\n",
      "--\n",
      "--\n",
      "Tracking num of observation after featrue selection\n",
      "Before selection:  3286957\n",
      "After selection:  1714921\n",
      "Complete featrue selection\n",
      "Start Tabularize Part- 209\n",
      "Number of patient:  49\n"
     ]
    },
    {
     "name": "stderr",
     "output_type": "stream",
     "text": [
      "Tabularize EHR part-209: 100%|██████████| 49/49 [00:03<00:00, 14.28it/s]\n"
     ]
    },
    {
     "name": "stdout",
     "output_type": "stream",
     "text": [
      "[ SUCCESSFULLY SAVED TOTAL UNIT STAY DATA ]\n",
      "--\n",
      "--\n",
      "Tracking num of observation after featrue selection\n",
      "Before selection:  2599082\n",
      "After selection:  1456204\n",
      "Complete featrue selection\n",
      "Start Tabularize Part- 210\n",
      "Number of patient:  41\n"
     ]
    },
    {
     "name": "stderr",
     "output_type": "stream",
     "text": [
      "Tabularize EHR part-210: 100%|██████████| 41/41 [00:02<00:00, 17.92it/s]\n"
     ]
    },
    {
     "name": "stdout",
     "output_type": "stream",
     "text": [
      "[ SUCCESSFULLY SAVED TOTAL UNIT STAY DATA ]\n",
      "--\n",
      "--\n",
      "Tracking num of observation after featrue selection\n",
      "Before selection:  2842920\n",
      "After selection:  1565804\n",
      "Complete featrue selection\n",
      "Start Tabularize Part- 211\n",
      "Number of patient:  43\n"
     ]
    },
    {
     "name": "stderr",
     "output_type": "stream",
     "text": [
      "Tabularize EHR part-211: 100%|██████████| 43/43 [00:02<00:00, 16.74it/s]\n"
     ]
    },
    {
     "name": "stdout",
     "output_type": "stream",
     "text": [
      "[ SUCCESSFULLY SAVED TOTAL UNIT STAY DATA ]\n",
      "--\n",
      "--\n",
      "Tracking num of observation after featrue selection\n",
      "Before selection:  2601864\n",
      "After selection:  1448679\n",
      "Complete featrue selection\n",
      "Start Tabularize Part- 212\n",
      "Number of patient:  34\n"
     ]
    },
    {
     "name": "stderr",
     "output_type": "stream",
     "text": [
      "Tabularize EHR part-212: 100%|██████████| 34/34 [00:01<00:00, 17.44it/s]\n"
     ]
    },
    {
     "name": "stdout",
     "output_type": "stream",
     "text": [
      "[ SUCCESSFULLY SAVED TOTAL UNIT STAY DATA ]\n",
      "--\n",
      "--\n",
      "Tracking num of observation after featrue selection\n",
      "Before selection:  2503192\n",
      "After selection:  1437641\n",
      "Complete featrue selection\n",
      "Start Tabularize Part- 213\n",
      "Number of patient:  43\n"
     ]
    },
    {
     "name": "stderr",
     "output_type": "stream",
     "text": [
      "Tabularize EHR part-213: 100%|██████████| 43/43 [00:02<00:00, 17.38it/s]\n"
     ]
    },
    {
     "name": "stdout",
     "output_type": "stream",
     "text": [
      "[ SUCCESSFULLY SAVED TOTAL UNIT STAY DATA ]\n",
      "--\n",
      "--\n",
      "Tracking num of observation after featrue selection\n",
      "Before selection:  3238215\n",
      "After selection:  1739554\n",
      "Complete featrue selection\n",
      "Start Tabularize Part- 214\n",
      "Number of patient:  47\n"
     ]
    },
    {
     "name": "stderr",
     "output_type": "stream",
     "text": [
      "Tabularize EHR part-214: 100%|██████████| 47/47 [00:03<00:00, 15.54it/s]\n"
     ]
    },
    {
     "name": "stdout",
     "output_type": "stream",
     "text": [
      "[ SUCCESSFULLY SAVED TOTAL UNIT STAY DATA ]\n",
      "--\n",
      "--\n",
      "Tracking num of observation after featrue selection\n",
      "Before selection:  3302068\n",
      "After selection:  1884108\n",
      "Complete featrue selection\n",
      "Start Tabularize Part- 215\n",
      "Number of patient:  40\n"
     ]
    },
    {
     "name": "stderr",
     "output_type": "stream",
     "text": [
      "Tabularize EHR part-215: 100%|██████████| 40/40 [00:02<00:00, 14.39it/s]\n"
     ]
    },
    {
     "name": "stdout",
     "output_type": "stream",
     "text": [
      "[ SUCCESSFULLY SAVED TOTAL UNIT STAY DATA ]\n",
      "--\n",
      "--\n",
      "Tracking num of observation after featrue selection\n",
      "Before selection:  2907018\n",
      "After selection:  1585828\n",
      "Complete featrue selection\n",
      "Start Tabularize Part- 216\n",
      "Number of patient:  43\n"
     ]
    },
    {
     "name": "stderr",
     "output_type": "stream",
     "text": [
      "Tabularize EHR part-216: 100%|██████████| 43/43 [00:02<00:00, 15.65it/s]\n"
     ]
    },
    {
     "name": "stdout",
     "output_type": "stream",
     "text": [
      "[ SUCCESSFULLY SAVED TOTAL UNIT STAY DATA ]\n",
      "--\n",
      "--\n",
      "Tracking num of observation after featrue selection\n",
      "Before selection:  3369753\n",
      "After selection:  1880693\n",
      "Complete featrue selection\n",
      "Start Tabularize Part- 217\n",
      "Number of patient:  48\n"
     ]
    },
    {
     "name": "stderr",
     "output_type": "stream",
     "text": [
      "Tabularize EHR part-217: 100%|██████████| 48/48 [00:03<00:00, 15.49it/s]\n"
     ]
    },
    {
     "name": "stdout",
     "output_type": "stream",
     "text": [
      "[ SUCCESSFULLY SAVED TOTAL UNIT STAY DATA ]\n",
      "--\n",
      "--\n",
      "Tracking num of observation after featrue selection\n",
      "Before selection:  3040946\n",
      "After selection:  1639637\n",
      "Complete featrue selection\n",
      "Start Tabularize Part- 218\n",
      "Number of patient:  41\n"
     ]
    },
    {
     "name": "stderr",
     "output_type": "stream",
     "text": [
      "Tabularize EHR part-218: 100%|██████████| 41/41 [00:02<00:00, 14.40it/s]\n"
     ]
    },
    {
     "name": "stdout",
     "output_type": "stream",
     "text": [
      "[ SUCCESSFULLY SAVED TOTAL UNIT STAY DATA ]\n",
      "--\n",
      "--\n",
      "Tracking num of observation after featrue selection\n",
      "Before selection:  2664302\n",
      "After selection:  1404924\n",
      "Complete featrue selection\n",
      "Start Tabularize Part- 219\n",
      "Number of patient:  36\n"
     ]
    },
    {
     "name": "stderr",
     "output_type": "stream",
     "text": [
      "Tabularize EHR part-219: 100%|██████████| 36/36 [00:02<00:00, 16.58it/s]\n"
     ]
    },
    {
     "name": "stdout",
     "output_type": "stream",
     "text": [
      "[ SUCCESSFULLY SAVED TOTAL UNIT STAY DATA ]\n",
      "--\n",
      "--\n",
      "Tracking num of observation after featrue selection\n",
      "Before selection:  4079877\n",
      "After selection:  2254712\n",
      "Complete featrue selection\n",
      "Start Tabularize Part- 220\n",
      "Number of patient:  68\n"
     ]
    },
    {
     "name": "stderr",
     "output_type": "stream",
     "text": [
      "Tabularize EHR part-220: 100%|██████████| 68/68 [00:04<00:00, 13.62it/s]\n"
     ]
    },
    {
     "name": "stdout",
     "output_type": "stream",
     "text": [
      "[ SUCCESSFULLY SAVED TOTAL UNIT STAY DATA ]\n",
      "--\n",
      "--\n",
      "Tracking num of observation after featrue selection\n",
      "Before selection:  2854977\n",
      "After selection:  1527866\n",
      "Complete featrue selection\n",
      "Start Tabularize Part- 221\n",
      "Number of patient:  38\n"
     ]
    },
    {
     "name": "stderr",
     "output_type": "stream",
     "text": [
      "Tabularize EHR part-221: 100%|██████████| 38/38 [00:02<00:00, 15.25it/s]\n"
     ]
    },
    {
     "name": "stdout",
     "output_type": "stream",
     "text": [
      "[ SUCCESSFULLY SAVED TOTAL UNIT STAY DATA ]\n",
      "--\n",
      "--\n",
      "Tracking num of observation after featrue selection\n",
      "Before selection:  2149096\n",
      "After selection:  1229091\n",
      "Complete featrue selection\n",
      "Start Tabularize Part- 222\n",
      "Number of patient:  36\n"
     ]
    },
    {
     "name": "stderr",
     "output_type": "stream",
     "text": [
      "Tabularize EHR part-222: 100%|██████████| 36/36 [00:01<00:00, 19.65it/s]\n"
     ]
    },
    {
     "name": "stdout",
     "output_type": "stream",
     "text": [
      "[ SUCCESSFULLY SAVED TOTAL UNIT STAY DATA ]\n",
      "--\n",
      "--\n",
      "Tracking num of observation after featrue selection\n",
      "Before selection:  2342533\n",
      "After selection:  1366093\n",
      "Complete featrue selection\n",
      "Start Tabularize Part- 223\n",
      "Number of patient:  28\n"
     ]
    },
    {
     "name": "stderr",
     "output_type": "stream",
     "text": [
      "Tabularize EHR part-223: 100%|██████████| 28/28 [00:01<00:00, 18.03it/s]\n"
     ]
    },
    {
     "name": "stdout",
     "output_type": "stream",
     "text": [
      "[ SUCCESSFULLY SAVED TOTAL UNIT STAY DATA ]\n",
      "--\n",
      "--\n",
      "Tracking num of observation after featrue selection\n",
      "Before selection:  2143620\n",
      "After selection:  1208877\n",
      "Complete featrue selection\n",
      "Start Tabularize Part- 224\n",
      "Number of patient:  33\n"
     ]
    },
    {
     "name": "stderr",
     "output_type": "stream",
     "text": [
      "Tabularize EHR part-224: 100%|██████████| 33/33 [00:01<00:00, 20.21it/s]\n"
     ]
    },
    {
     "name": "stdout",
     "output_type": "stream",
     "text": [
      "[ SUCCESSFULLY SAVED TOTAL UNIT STAY DATA ]\n",
      "--\n",
      "--\n",
      "Tracking num of observation after featrue selection\n",
      "Before selection:  2736151\n",
      "After selection:  1498855\n",
      "Complete featrue selection\n",
      "Start Tabularize Part- 225\n",
      "Number of patient:  38\n"
     ]
    },
    {
     "name": "stderr",
     "output_type": "stream",
     "text": [
      "Tabularize EHR part-225: 100%|██████████| 38/38 [00:02<00:00, 16.37it/s]\n"
     ]
    },
    {
     "name": "stdout",
     "output_type": "stream",
     "text": [
      "[ SUCCESSFULLY SAVED TOTAL UNIT STAY DATA ]\n",
      "--\n",
      "--\n",
      "Tracking num of observation after featrue selection\n",
      "Before selection:  2287881\n",
      "After selection:  1261039\n",
      "Complete featrue selection\n",
      "Start Tabularize Part- 226\n",
      "Number of patient:  38\n"
     ]
    },
    {
     "name": "stderr",
     "output_type": "stream",
     "text": [
      "Tabularize EHR part-226: 100%|██████████| 38/38 [00:02<00:00, 18.01it/s]\n"
     ]
    },
    {
     "name": "stdout",
     "output_type": "stream",
     "text": [
      "[ SUCCESSFULLY SAVED TOTAL UNIT STAY DATA ]\n",
      "--\n",
      "--\n",
      "Tracking num of observation after featrue selection\n",
      "Before selection:  2536684\n",
      "After selection:  1444859\n",
      "Complete featrue selection\n",
      "Start Tabularize Part- 227\n",
      "Number of patient:  46\n"
     ]
    },
    {
     "name": "stderr",
     "output_type": "stream",
     "text": [
      "Tabularize EHR part-227: 100%|██████████| 46/46 [00:02<00:00, 16.78it/s]\n"
     ]
    },
    {
     "name": "stdout",
     "output_type": "stream",
     "text": [
      "[ SUCCESSFULLY SAVED TOTAL UNIT STAY DATA ]\n",
      "--\n",
      "--\n",
      "Tracking num of observation after featrue selection\n",
      "Before selection:  4316741\n",
      "After selection:  2415683\n",
      "Complete featrue selection\n",
      "Start Tabularize Part- 228\n",
      "Number of patient:  54\n"
     ]
    },
    {
     "name": "stderr",
     "output_type": "stream",
     "text": [
      "Tabularize EHR part-228: 100%|██████████| 54/54 [00:04<00:00, 12.05it/s]\n"
     ]
    },
    {
     "name": "stdout",
     "output_type": "stream",
     "text": [
      "[ SUCCESSFULLY SAVED TOTAL UNIT STAY DATA ]\n",
      "--\n",
      "--\n",
      "Tracking num of observation after featrue selection\n",
      "Before selection:  2452157\n",
      "After selection:  1400860\n",
      "Complete featrue selection\n",
      "Start Tabularize Part- 229\n",
      "Number of patient:  44\n"
     ]
    },
    {
     "name": "stderr",
     "output_type": "stream",
     "text": [
      "Tabularize EHR part-229: 100%|██████████| 44/44 [00:02<00:00, 18.03it/s]\n"
     ]
    },
    {
     "name": "stdout",
     "output_type": "stream",
     "text": [
      "[ SUCCESSFULLY SAVED TOTAL UNIT STAY DATA ]\n",
      "--\n",
      "--\n",
      "Tracking num of observation after featrue selection\n",
      "Before selection:  2520309\n",
      "After selection:  1384634\n",
      "Complete featrue selection\n",
      "Start Tabularize Part- 230\n",
      "Number of patient:  41\n"
     ]
    },
    {
     "name": "stderr",
     "output_type": "stream",
     "text": [
      "Tabularize EHR part-230: 100%|██████████| 41/41 [00:02<00:00, 18.00it/s]\n"
     ]
    },
    {
     "name": "stdout",
     "output_type": "stream",
     "text": [
      "[ SUCCESSFULLY SAVED TOTAL UNIT STAY DATA ]\n",
      "--\n",
      "--\n",
      "Tracking num of observation after featrue selection\n",
      "Before selection:  3461864\n",
      "After selection:  1806114\n",
      "Complete featrue selection\n",
      "Start Tabularize Part- 231\n",
      "Number of patient:  58\n"
     ]
    },
    {
     "name": "stderr",
     "output_type": "stream",
     "text": [
      "Tabularize EHR part-231: 100%|██████████| 58/58 [00:04<00:00, 13.98it/s]\n"
     ]
    },
    {
     "name": "stdout",
     "output_type": "stream",
     "text": [
      "[ SUCCESSFULLY SAVED TOTAL UNIT STAY DATA ]\n",
      "--\n",
      "--\n",
      "Tracking num of observation after featrue selection\n",
      "Before selection:  3013809\n",
      "After selection:  1582067\n",
      "Complete featrue selection\n",
      "Start Tabularize Part- 232\n",
      "Number of patient:  49\n"
     ]
    },
    {
     "name": "stderr",
     "output_type": "stream",
     "text": [
      "Tabularize EHR part-232: 100%|██████████| 49/49 [00:03<00:00, 15.09it/s]\n"
     ]
    },
    {
     "name": "stdout",
     "output_type": "stream",
     "text": [
      "[ SUCCESSFULLY SAVED TOTAL UNIT STAY DATA ]\n",
      "--\n",
      "--\n",
      "Tracking num of observation after featrue selection\n",
      "Before selection:  4435893\n",
      "After selection:  2554978\n",
      "Complete featrue selection\n",
      "Start Tabularize Part- 233\n",
      "Number of patient:  46\n"
     ]
    },
    {
     "name": "stderr",
     "output_type": "stream",
     "text": [
      "Tabularize EHR part-233: 100%|██████████| 46/46 [00:03<00:00, 13.35it/s]\n"
     ]
    },
    {
     "name": "stdout",
     "output_type": "stream",
     "text": [
      "[ SUCCESSFULLY SAVED TOTAL UNIT STAY DATA ]\n",
      "--\n",
      "--\n",
      "Tracking num of observation after featrue selection\n",
      "Before selection:  3815489\n",
      "After selection:  2089650\n",
      "Complete featrue selection\n",
      "Start Tabularize Part- 234\n",
      "Number of patient:  47\n"
     ]
    },
    {
     "name": "stderr",
     "output_type": "stream",
     "text": [
      "Tabularize EHR part-234: 100%|██████████| 47/47 [00:03<00:00, 13.73it/s]\n"
     ]
    },
    {
     "name": "stdout",
     "output_type": "stream",
     "text": [
      "[ SUCCESSFULLY SAVED TOTAL UNIT STAY DATA ]\n",
      "--\n",
      "--\n",
      "Tracking num of observation after featrue selection\n",
      "Before selection:  2871369\n",
      "After selection:  1602150\n",
      "Complete featrue selection\n",
      "Start Tabularize Part- 235\n",
      "Number of patient:  39\n"
     ]
    },
    {
     "name": "stderr",
     "output_type": "stream",
     "text": [
      "Tabularize EHR part-235: 100%|██████████| 39/39 [00:02<00:00, 14.76it/s]\n"
     ]
    },
    {
     "name": "stdout",
     "output_type": "stream",
     "text": [
      "[ SUCCESSFULLY SAVED TOTAL UNIT STAY DATA ]\n",
      "--\n",
      "--\n",
      "Tracking num of observation after featrue selection\n",
      "Before selection:  2937029\n",
      "After selection:  1614687\n",
      "Complete featrue selection\n",
      "Start Tabularize Part- 236\n",
      "Number of patient:  47\n"
     ]
    },
    {
     "name": "stderr",
     "output_type": "stream",
     "text": [
      "Tabularize EHR part-236: 100%|██████████| 47/47 [00:03<00:00, 15.38it/s]\n"
     ]
    },
    {
     "name": "stdout",
     "output_type": "stream",
     "text": [
      "[ SUCCESSFULLY SAVED TOTAL UNIT STAY DATA ]\n",
      "--\n",
      "--\n",
      "Tracking num of observation after featrue selection\n",
      "Before selection:  3103172\n",
      "After selection:  1719070\n",
      "Complete featrue selection\n",
      "Start Tabularize Part- 237\n",
      "Number of patient:  47\n"
     ]
    },
    {
     "name": "stderr",
     "output_type": "stream",
     "text": [
      "Tabularize EHR part-237: 100%|██████████| 47/47 [00:02<00:00, 15.73it/s]\n"
     ]
    },
    {
     "name": "stdout",
     "output_type": "stream",
     "text": [
      "[ SUCCESSFULLY SAVED TOTAL UNIT STAY DATA ]\n",
      "--\n",
      "--\n",
      "Tracking num of observation after featrue selection\n",
      "Before selection:  4274236\n",
      "After selection:  2462962\n",
      "Complete featrue selection\n",
      "Start Tabularize Part- 238\n",
      "Number of patient:  46\n"
     ]
    },
    {
     "name": "stderr",
     "output_type": "stream",
     "text": [
      "Tabularize EHR part-238: 100%|██████████| 46/46 [00:03<00:00, 12.05it/s]\n"
     ]
    },
    {
     "name": "stdout",
     "output_type": "stream",
     "text": [
      "[ SUCCESSFULLY SAVED TOTAL UNIT STAY DATA ]\n",
      "--\n",
      "--\n",
      "Tracking num of observation after featrue selection\n",
      "Before selection:  3627575\n",
      "After selection:  1974458\n",
      "Complete featrue selection\n",
      "Start Tabularize Part- 239\n",
      "Number of patient:  44\n"
     ]
    },
    {
     "name": "stderr",
     "output_type": "stream",
     "text": [
      "Tabularize EHR part-239: 100%|██████████| 44/44 [00:03<00:00, 13.35it/s]\n"
     ]
    },
    {
     "name": "stdout",
     "output_type": "stream",
     "text": [
      "[ SUCCESSFULLY SAVED TOTAL UNIT STAY DATA ]\n",
      "--\n",
      "--\n",
      "Tracking num of observation after featrue selection\n",
      "Before selection:  4557893\n",
      "After selection:  2510482\n",
      "Complete featrue selection\n",
      "Start Tabularize Part- 240\n",
      "Number of patient:  47\n"
     ]
    },
    {
     "name": "stderr",
     "output_type": "stream",
     "text": [
      "Tabularize EHR part-240: 100%|██████████| 47/47 [00:03<00:00, 13.02it/s]\n"
     ]
    },
    {
     "name": "stdout",
     "output_type": "stream",
     "text": [
      "[ SUCCESSFULLY SAVED TOTAL UNIT STAY DATA ]\n",
      "--\n",
      "--\n",
      "Tracking num of observation after featrue selection\n",
      "Before selection:  2760689\n",
      "After selection:  1470219\n",
      "Complete featrue selection\n",
      "Start Tabularize Part- 241\n",
      "Number of patient:  38\n"
     ]
    },
    {
     "name": "stderr",
     "output_type": "stream",
     "text": [
      "Tabularize EHR part-241: 100%|██████████| 38/38 [00:02<00:00, 14.81it/s]\n"
     ]
    },
    {
     "name": "stdout",
     "output_type": "stream",
     "text": [
      "[ SUCCESSFULLY SAVED TOTAL UNIT STAY DATA ]\n",
      "--\n",
      "--\n",
      "Tracking num of observation after featrue selection\n",
      "Before selection:  3248629\n",
      "After selection:  1913836\n",
      "Complete featrue selection\n",
      "Start Tabularize Part- 242\n",
      "Number of patient:  39\n"
     ]
    },
    {
     "name": "stderr",
     "output_type": "stream",
     "text": [
      "Tabularize EHR part-242: 100%|██████████| 39/39 [00:02<00:00, 13.74it/s]\n"
     ]
    },
    {
     "name": "stdout",
     "output_type": "stream",
     "text": [
      "[ SUCCESSFULLY SAVED TOTAL UNIT STAY DATA ]\n",
      "--\n",
      "--\n",
      "Tracking num of observation after featrue selection\n",
      "Before selection:  2694570\n",
      "After selection:  1408948\n",
      "Complete featrue selection\n",
      "Start Tabularize Part- 243\n",
      "Number of patient:  35\n"
     ]
    },
    {
     "name": "stderr",
     "output_type": "stream",
     "text": [
      "Tabularize EHR part-243: 100%|██████████| 35/35 [00:02<00:00, 15.35it/s]\n"
     ]
    },
    {
     "name": "stdout",
     "output_type": "stream",
     "text": [
      "[ SUCCESSFULLY SAVED TOTAL UNIT STAY DATA ]\n",
      "--\n",
      "--\n",
      "Tracking num of observation after featrue selection\n",
      "Before selection:  3669236\n",
      "After selection:  1969102\n",
      "Complete featrue selection\n",
      "Start Tabularize Part- 244\n",
      "Number of patient:  44\n"
     ]
    },
    {
     "name": "stderr",
     "output_type": "stream",
     "text": [
      "Tabularize EHR part-244: 100%|██████████| 44/44 [00:03<00:00, 14.21it/s]\n"
     ]
    },
    {
     "name": "stdout",
     "output_type": "stream",
     "text": [
      "[ SUCCESSFULLY SAVED TOTAL UNIT STAY DATA ]\n",
      "--\n",
      "--\n",
      "Tracking num of observation after featrue selection\n",
      "Before selection:  2968448\n",
      "After selection:  1700937\n",
      "Complete featrue selection\n",
      "Start Tabularize Part- 245\n",
      "Number of patient:  40\n"
     ]
    },
    {
     "name": "stderr",
     "output_type": "stream",
     "text": [
      "Tabularize EHR part-245: 100%|██████████| 40/40 [00:02<00:00, 14.00it/s]\n"
     ]
    },
    {
     "name": "stdout",
     "output_type": "stream",
     "text": [
      "[ SUCCESSFULLY SAVED TOTAL UNIT STAY DATA ]\n",
      "--\n",
      "--\n",
      "Tracking num of observation after featrue selection\n",
      "Before selection:  2931559\n",
      "After selection:  1661141\n",
      "Complete featrue selection\n",
      "Start Tabularize Part- 246\n",
      "Number of patient:  39\n"
     ]
    },
    {
     "name": "stderr",
     "output_type": "stream",
     "text": [
      "Tabularize EHR part-246: 100%|██████████| 39/39 [00:02<00:00, 15.55it/s]\n"
     ]
    },
    {
     "name": "stdout",
     "output_type": "stream",
     "text": [
      "[ SUCCESSFULLY SAVED TOTAL UNIT STAY DATA ]\n",
      "--\n",
      "--\n",
      "Tracking num of observation after featrue selection\n",
      "Before selection:  2402783\n",
      "After selection:  1303080\n",
      "Complete featrue selection\n",
      "Start Tabularize Part- 247\n",
      "Number of patient:  38\n"
     ]
    },
    {
     "name": "stderr",
     "output_type": "stream",
     "text": [
      "Tabularize EHR part-247: 100%|██████████| 38/38 [00:02<00:00, 15.99it/s]\n"
     ]
    },
    {
     "name": "stdout",
     "output_type": "stream",
     "text": [
      "[ SUCCESSFULLY SAVED TOTAL UNIT STAY DATA ]\n",
      "--\n",
      "--\n",
      "Tracking num of observation after featrue selection\n",
      "Before selection:  4187405\n",
      "After selection:  2243875\n",
      "Complete featrue selection\n",
      "Start Tabularize Part- 248\n",
      "Number of patient:  41\n"
     ]
    },
    {
     "name": "stderr",
     "output_type": "stream",
     "text": [
      "Tabularize EHR part-248: 100%|██████████| 41/41 [00:03<00:00, 11.88it/s]\n"
     ]
    },
    {
     "name": "stdout",
     "output_type": "stream",
     "text": [
      "[ SUCCESSFULLY SAVED TOTAL UNIT STAY DATA ]\n",
      "--\n",
      "--\n",
      "Tracking num of observation after featrue selection\n",
      "Before selection:  2635524\n",
      "After selection:  1488375\n",
      "Complete featrue selection\n",
      "Start Tabularize Part- 249\n",
      "Number of patient:  48\n"
     ]
    },
    {
     "name": "stderr",
     "output_type": "stream",
     "text": [
      "Tabularize EHR part-249: 100%|██████████| 48/48 [00:02<00:00, 16.87it/s]\n"
     ]
    },
    {
     "name": "stdout",
     "output_type": "stream",
     "text": [
      "[ SUCCESSFULLY SAVED TOTAL UNIT STAY DATA ]\n",
      "--\n"
     ]
    }
   ],
   "source": [
    "from pipeline1 import *\n",
    "\n",
    "parts_list=[]\n",
    "for i in range(0, 250):\n",
    "    parts_list.append(i)\n",
    "    \n",
    "data_preprocessing_pipeline(parts_list, 'hourly_intervals')"
   ]
  },
  {
   "cell_type": "code",
   "execution_count": 2,
   "metadata": {},
   "outputs": [],
   "source": [
    "import pandas as pd\n",
    "part = pd.read_csv('/Users/DAHS/Desktop/hirid-a-high-time-resolution-icu-dataset-1.1.1/raw_stage/tabular_records/csv_tab/part-0.csv')"
   ]
  },
  {
   "cell_type": "code",
   "execution_count": 3,
   "metadata": {},
   "outputs": [
    {
     "data": {
      "text/html": [
       "<div>\n",
       "<style scoped>\n",
       "    .dataframe tbody tr th:only-of-type {\n",
       "        vertical-align: middle;\n",
       "    }\n",
       "\n",
       "    .dataframe tbody tr th {\n",
       "        vertical-align: top;\n",
       "    }\n",
       "\n",
       "    .dataframe thead th {\n",
       "        text-align: right;\n",
       "    }\n",
       "</style>\n",
       "<table border=\"1\" class=\"dataframe\">\n",
       "  <thead>\n",
       "    <tr style=\"text-align: right;\">\n",
       "      <th></th>\n",
       "      <th>ABPd</th>\n",
       "      <th>ABPs</th>\n",
       "      <th>Bilirubin</th>\n",
       "      <th>Creatinine</th>\n",
       "      <th>Eye Opening</th>\n",
       "      <th>FiO2</th>\n",
       "      <th>HR</th>\n",
       "      <th>Height</th>\n",
       "      <th>INR</th>\n",
       "      <th>Lactate</th>\n",
       "      <th>MAP</th>\n",
       "      <th>Mortor Response</th>\n",
       "      <th>PEEP</th>\n",
       "      <th>PaO2</th>\n",
       "      <th>Platelet count</th>\n",
       "      <th>Respiratory_rate</th>\n",
       "      <th>SpO2</th>\n",
       "      <th>Urine_output</th>\n",
       "      <th>Verbal Response</th>\n",
       "      <th>Weight</th>\n",
       "      <th>pH</th>\n",
       "      <th>patientid</th>\n",
       "      <th>Time_since_ICU_admission</th>\n",
       "      <th>Temperature</th>\n",
       "    </tr>\n",
       "  </thead>\n",
       "  <tbody>\n",
       "    <tr>\n",
       "      <th>0</th>\n",
       "      <td>50.560000</td>\n",
       "      <td>98.960000</td>\n",
       "      <td>NaN</td>\n",
       "      <td>NaN</td>\n",
       "      <td>4.0</td>\n",
       "      <td>83.800000</td>\n",
       "      <td>89.709677</td>\n",
       "      <td>170.0</td>\n",
       "      <td>NaN</td>\n",
       "      <td>1.2</td>\n",
       "      <td>68.640000</td>\n",
       "      <td>6.0</td>\n",
       "      <td>5.150000</td>\n",
       "      <td>74.4</td>\n",
       "      <td>NaN</td>\n",
       "      <td>15.450000</td>\n",
       "      <td>92.812500</td>\n",
       "      <td>NaN</td>\n",
       "      <td>4.0</td>\n",
       "      <td>65.0</td>\n",
       "      <td>7.468</td>\n",
       "      <td>307</td>\n",
       "      <td>0</td>\n",
       "      <td>NaN</td>\n",
       "    </tr>\n",
       "    <tr>\n",
       "      <th>1</th>\n",
       "      <td>54.666667</td>\n",
       "      <td>105.241379</td>\n",
       "      <td>NaN</td>\n",
       "      <td>NaN</td>\n",
       "      <td>NaN</td>\n",
       "      <td>64.200000</td>\n",
       "      <td>83.800000</td>\n",
       "      <td>NaN</td>\n",
       "      <td>NaN</td>\n",
       "      <td>NaN</td>\n",
       "      <td>71.100000</td>\n",
       "      <td>NaN</td>\n",
       "      <td>5.076471</td>\n",
       "      <td>NaN</td>\n",
       "      <td>NaN</td>\n",
       "      <td>16.182759</td>\n",
       "      <td>96.333333</td>\n",
       "      <td>NaN</td>\n",
       "      <td>NaN</td>\n",
       "      <td>NaN</td>\n",
       "      <td>NaN</td>\n",
       "      <td>307</td>\n",
       "      <td>1</td>\n",
       "      <td>NaN</td>\n",
       "    </tr>\n",
       "    <tr>\n",
       "      <th>2</th>\n",
       "      <td>49.172414</td>\n",
       "      <td>93.066667</td>\n",
       "      <td>NaN</td>\n",
       "      <td>NaN</td>\n",
       "      <td>NaN</td>\n",
       "      <td>62.500000</td>\n",
       "      <td>77.300000</td>\n",
       "      <td>NaN</td>\n",
       "      <td>NaN</td>\n",
       "      <td>1.3</td>\n",
       "      <td>65.862069</td>\n",
       "      <td>NaN</td>\n",
       "      <td>5.071429</td>\n",
       "      <td>82.8</td>\n",
       "      <td>NaN</td>\n",
       "      <td>16.377419</td>\n",
       "      <td>95.967742</td>\n",
       "      <td>NaN</td>\n",
       "      <td>NaN</td>\n",
       "      <td>NaN</td>\n",
       "      <td>7.441</td>\n",
       "      <td>307</td>\n",
       "      <td>2</td>\n",
       "      <td>NaN</td>\n",
       "    </tr>\n",
       "    <tr>\n",
       "      <th>3</th>\n",
       "      <td>53.966667</td>\n",
       "      <td>105.129032</td>\n",
       "      <td>NaN</td>\n",
       "      <td>NaN</td>\n",
       "      <td>4.0</td>\n",
       "      <td>51.750000</td>\n",
       "      <td>78.833333</td>\n",
       "      <td>NaN</td>\n",
       "      <td>NaN</td>\n",
       "      <td>NaN</td>\n",
       "      <td>71.935484</td>\n",
       "      <td>6.0</td>\n",
       "      <td>4.942424</td>\n",
       "      <td>NaN</td>\n",
       "      <td>NaN</td>\n",
       "      <td>16.635135</td>\n",
       "      <td>96.600000</td>\n",
       "      <td>NaN</td>\n",
       "      <td>4.0</td>\n",
       "      <td>NaN</td>\n",
       "      <td>NaN</td>\n",
       "      <td>307</td>\n",
       "      <td>3</td>\n",
       "      <td>NaN</td>\n",
       "    </tr>\n",
       "    <tr>\n",
       "      <th>4</th>\n",
       "      <td>46.483871</td>\n",
       "      <td>98.766667</td>\n",
       "      <td>NaN</td>\n",
       "      <td>NaN</td>\n",
       "      <td>NaN</td>\n",
       "      <td>43.073333</td>\n",
       "      <td>77.066667</td>\n",
       "      <td>NaN</td>\n",
       "      <td>NaN</td>\n",
       "      <td>NaN</td>\n",
       "      <td>63.833333</td>\n",
       "      <td>NaN</td>\n",
       "      <td>4.634286</td>\n",
       "      <td>NaN</td>\n",
       "      <td>NaN</td>\n",
       "      <td>17.530000</td>\n",
       "      <td>96.566667</td>\n",
       "      <td>NaN</td>\n",
       "      <td>NaN</td>\n",
       "      <td>NaN</td>\n",
       "      <td>NaN</td>\n",
       "      <td>307</td>\n",
       "      <td>4</td>\n",
       "      <td>NaN</td>\n",
       "    </tr>\n",
       "    <tr>\n",
       "      <th>...</th>\n",
       "      <td>...</td>\n",
       "      <td>...</td>\n",
       "      <td>...</td>\n",
       "      <td>...</td>\n",
       "      <td>...</td>\n",
       "      <td>...</td>\n",
       "      <td>...</td>\n",
       "      <td>...</td>\n",
       "      <td>...</td>\n",
       "      <td>...</td>\n",
       "      <td>...</td>\n",
       "      <td>...</td>\n",
       "      <td>...</td>\n",
       "      <td>...</td>\n",
       "      <td>...</td>\n",
       "      <td>...</td>\n",
       "      <td>...</td>\n",
       "      <td>...</td>\n",
       "      <td>...</td>\n",
       "      <td>...</td>\n",
       "      <td>...</td>\n",
       "      <td>...</td>\n",
       "      <td>...</td>\n",
       "      <td>...</td>\n",
       "    </tr>\n",
       "    <tr>\n",
       "      <th>4815</th>\n",
       "      <td>45.733333</td>\n",
       "      <td>90.966667</td>\n",
       "      <td>NaN</td>\n",
       "      <td>NaN</td>\n",
       "      <td>NaN</td>\n",
       "      <td>NaN</td>\n",
       "      <td>59.709677</td>\n",
       "      <td>NaN</td>\n",
       "      <td>NaN</td>\n",
       "      <td>NaN</td>\n",
       "      <td>60.322581</td>\n",
       "      <td>NaN</td>\n",
       "      <td>NaN</td>\n",
       "      <td>NaN</td>\n",
       "      <td>NaN</td>\n",
       "      <td>53.361905</td>\n",
       "      <td>98.428571</td>\n",
       "      <td>NaN</td>\n",
       "      <td>NaN</td>\n",
       "      <td>NaN</td>\n",
       "      <td>NaN</td>\n",
       "      <td>33196</td>\n",
       "      <td>20</td>\n",
       "      <td>NaN</td>\n",
       "    </tr>\n",
       "    <tr>\n",
       "      <th>4816</th>\n",
       "      <td>43.612903</td>\n",
       "      <td>88.000000</td>\n",
       "      <td>NaN</td>\n",
       "      <td>NaN</td>\n",
       "      <td>4.0</td>\n",
       "      <td>NaN</td>\n",
       "      <td>56.400000</td>\n",
       "      <td>NaN</td>\n",
       "      <td>NaN</td>\n",
       "      <td>NaN</td>\n",
       "      <td>57.366667</td>\n",
       "      <td>6.0</td>\n",
       "      <td>NaN</td>\n",
       "      <td>NaN</td>\n",
       "      <td>NaN</td>\n",
       "      <td>12.000000</td>\n",
       "      <td>98.580645</td>\n",
       "      <td>47.89916</td>\n",
       "      <td>5.0</td>\n",
       "      <td>NaN</td>\n",
       "      <td>NaN</td>\n",
       "      <td>33196</td>\n",
       "      <td>21</td>\n",
       "      <td>NaN</td>\n",
       "    </tr>\n",
       "    <tr>\n",
       "      <th>4817</th>\n",
       "      <td>45.066667</td>\n",
       "      <td>90.833333</td>\n",
       "      <td>NaN</td>\n",
       "      <td>NaN</td>\n",
       "      <td>NaN</td>\n",
       "      <td>NaN</td>\n",
       "      <td>57.966667</td>\n",
       "      <td>NaN</td>\n",
       "      <td>NaN</td>\n",
       "      <td>NaN</td>\n",
       "      <td>59.566667</td>\n",
       "      <td>NaN</td>\n",
       "      <td>NaN</td>\n",
       "      <td>NaN</td>\n",
       "      <td>NaN</td>\n",
       "      <td>16.000000</td>\n",
       "      <td>98.789474</td>\n",
       "      <td>NaN</td>\n",
       "      <td>NaN</td>\n",
       "      <td>NaN</td>\n",
       "      <td>NaN</td>\n",
       "      <td>33196</td>\n",
       "      <td>22</td>\n",
       "      <td>NaN</td>\n",
       "    </tr>\n",
       "    <tr>\n",
       "      <th>4818</th>\n",
       "      <td>44.666667</td>\n",
       "      <td>87.774194</td>\n",
       "      <td>NaN</td>\n",
       "      <td>NaN</td>\n",
       "      <td>4.0</td>\n",
       "      <td>NaN</td>\n",
       "      <td>55.600000</td>\n",
       "      <td>NaN</td>\n",
       "      <td>NaN</td>\n",
       "      <td>1.3</td>\n",
       "      <td>58.333333</td>\n",
       "      <td>6.0</td>\n",
       "      <td>NaN</td>\n",
       "      <td>122.0</td>\n",
       "      <td>NaN</td>\n",
       "      <td>16.000000</td>\n",
       "      <td>98.366667</td>\n",
       "      <td>NaN</td>\n",
       "      <td>5.0</td>\n",
       "      <td>NaN</td>\n",
       "      <td>7.421</td>\n",
       "      <td>33196</td>\n",
       "      <td>23</td>\n",
       "      <td>NaN</td>\n",
       "    </tr>\n",
       "    <tr>\n",
       "      <th>4819</th>\n",
       "      <td>45.333333</td>\n",
       "      <td>85.500000</td>\n",
       "      <td>NaN</td>\n",
       "      <td>NaN</td>\n",
       "      <td>NaN</td>\n",
       "      <td>NaN</td>\n",
       "      <td>78.142857</td>\n",
       "      <td>NaN</td>\n",
       "      <td>NaN</td>\n",
       "      <td>NaN</td>\n",
       "      <td>58.333333</td>\n",
       "      <td>NaN</td>\n",
       "      <td>NaN</td>\n",
       "      <td>NaN</td>\n",
       "      <td>NaN</td>\n",
       "      <td>NaN</td>\n",
       "      <td>97.866667</td>\n",
       "      <td>NaN</td>\n",
       "      <td>NaN</td>\n",
       "      <td>NaN</td>\n",
       "      <td>NaN</td>\n",
       "      <td>33196</td>\n",
       "      <td>24</td>\n",
       "      <td>NaN</td>\n",
       "    </tr>\n",
       "  </tbody>\n",
       "</table>\n",
       "<p>4820 rows × 24 columns</p>\n",
       "</div>"
      ],
      "text/plain": [
       "           ABPd        ABPs  Bilirubin  Creatinine  Eye Opening       FiO2  \\\n",
       "0     50.560000   98.960000        NaN         NaN          4.0  83.800000   \n",
       "1     54.666667  105.241379        NaN         NaN          NaN  64.200000   \n",
       "2     49.172414   93.066667        NaN         NaN          NaN  62.500000   \n",
       "3     53.966667  105.129032        NaN         NaN          4.0  51.750000   \n",
       "4     46.483871   98.766667        NaN         NaN          NaN  43.073333   \n",
       "...         ...         ...        ...         ...          ...        ...   \n",
       "4815  45.733333   90.966667        NaN         NaN          NaN        NaN   \n",
       "4816  43.612903   88.000000        NaN         NaN          4.0        NaN   \n",
       "4817  45.066667   90.833333        NaN         NaN          NaN        NaN   \n",
       "4818  44.666667   87.774194        NaN         NaN          4.0        NaN   \n",
       "4819  45.333333   85.500000        NaN         NaN          NaN        NaN   \n",
       "\n",
       "             HR  Height  INR  Lactate        MAP  Mortor Response      PEEP  \\\n",
       "0     89.709677   170.0  NaN      1.2  68.640000              6.0  5.150000   \n",
       "1     83.800000     NaN  NaN      NaN  71.100000              NaN  5.076471   \n",
       "2     77.300000     NaN  NaN      1.3  65.862069              NaN  5.071429   \n",
       "3     78.833333     NaN  NaN      NaN  71.935484              6.0  4.942424   \n",
       "4     77.066667     NaN  NaN      NaN  63.833333              NaN  4.634286   \n",
       "...         ...     ...  ...      ...        ...              ...       ...   \n",
       "4815  59.709677     NaN  NaN      NaN  60.322581              NaN       NaN   \n",
       "4816  56.400000     NaN  NaN      NaN  57.366667              6.0       NaN   \n",
       "4817  57.966667     NaN  NaN      NaN  59.566667              NaN       NaN   \n",
       "4818  55.600000     NaN  NaN      1.3  58.333333              6.0       NaN   \n",
       "4819  78.142857     NaN  NaN      NaN  58.333333              NaN       NaN   \n",
       "\n",
       "       PaO2  Platelet count  Respiratory_rate       SpO2  Urine_output  \\\n",
       "0      74.4             NaN         15.450000  92.812500           NaN   \n",
       "1       NaN             NaN         16.182759  96.333333           NaN   \n",
       "2      82.8             NaN         16.377419  95.967742           NaN   \n",
       "3       NaN             NaN         16.635135  96.600000           NaN   \n",
       "4       NaN             NaN         17.530000  96.566667           NaN   \n",
       "...     ...             ...               ...        ...           ...   \n",
       "4815    NaN             NaN         53.361905  98.428571           NaN   \n",
       "4816    NaN             NaN         12.000000  98.580645      47.89916   \n",
       "4817    NaN             NaN         16.000000  98.789474           NaN   \n",
       "4818  122.0             NaN         16.000000  98.366667           NaN   \n",
       "4819    NaN             NaN               NaN  97.866667           NaN   \n",
       "\n",
       "      Verbal Response  Weight     pH  patientid  Time_since_ICU_admission  \\\n",
       "0                 4.0    65.0  7.468        307                         0   \n",
       "1                 NaN     NaN    NaN        307                         1   \n",
       "2                 NaN     NaN  7.441        307                         2   \n",
       "3                 4.0     NaN    NaN        307                         3   \n",
       "4                 NaN     NaN    NaN        307                         4   \n",
       "...               ...     ...    ...        ...                       ...   \n",
       "4815              NaN     NaN    NaN      33196                        20   \n",
       "4816              5.0     NaN    NaN      33196                        21   \n",
       "4817              NaN     NaN    NaN      33196                        22   \n",
       "4818              5.0     NaN  7.421      33196                        23   \n",
       "4819              NaN     NaN    NaN      33196                        24   \n",
       "\n",
       "      Temperature  \n",
       "0             NaN  \n",
       "1             NaN  \n",
       "2             NaN  \n",
       "3             NaN  \n",
       "4             NaN  \n",
       "...           ...  \n",
       "4815          NaN  \n",
       "4816          NaN  \n",
       "4817          NaN  \n",
       "4818          NaN  \n",
       "4819          NaN  \n",
       "\n",
       "[4820 rows x 24 columns]"
      ]
     },
     "execution_count": 3,
     "metadata": {},
     "output_type": "execute_result"
    }
   ],
   "source": [
    "pd.set_option('display.max_columns', None)\n",
    "part"
   ]
  },
  {
   "cell_type": "code",
   "execution_count": 15,
   "metadata": {},
   "outputs": [],
   "source": [
    "vital_sign = ['ABPd', 'ABPs', 'FiO2', 'HR', 'MAP', 'PaO2', 'Respiratory_rate', 'SpO2', 'Temperature']\n",
    "Lab_result = ['Bilirubin', 'Creatinine', 'INR', 'Lactate', 'Platelet count', 'pH']\n",
    "chart = ['Eye Opening', 'Mortor Response', 'Verbal Response', 'Urine_output', 'Height', 'Weight', 'PEEP']\n",
    "\n",
    "\n",
    "# vital_sign -> forward filling, 안채워지는 애들(첫 측정 이전 값들): 결측치다라는 표시(-100) 큰 수\n",
    "# Lab result -> forward filling, 안채워지는 애들(첫 측정 이전 값들): 결측치다라는 표시(-100) 큰 수\n",
    "# eye opening mortor response verbal response, 키, 몸무게 변수 제거하기\n",
    "# urine output -> backward fill 얼만큼 해야 하나 -> 따로 기준이 없어서 3시간으로 설정\n",
    "# PEEP -> PICU에 없어서 라벨링에만 쓰고 이 변수 지우기\n",
    "\n",
    "\n",
    "drop_list = ['Eye Opening', 'Mortor Response', 'Verbal Response', 'Height', 'Weight']\n",
    "before_imputation = part.drop(drop_list, axis = 1)\n",
    "\n"
   ]
  },
  {
   "cell_type": "code",
   "execution_count": 17,
   "metadata": {},
   "outputs": [
    {
     "data": {
      "text/html": [
       "<div>\n",
       "<style scoped>\n",
       "    .dataframe tbody tr th:only-of-type {\n",
       "        vertical-align: middle;\n",
       "    }\n",
       "\n",
       "    .dataframe tbody tr th {\n",
       "        vertical-align: top;\n",
       "    }\n",
       "\n",
       "    .dataframe thead th {\n",
       "        text-align: right;\n",
       "    }\n",
       "</style>\n",
       "<table border=\"1\" class=\"dataframe\">\n",
       "  <thead>\n",
       "    <tr style=\"text-align: right;\">\n",
       "      <th></th>\n",
       "      <th>Eye Opening</th>\n",
       "      <th>Mortor Response</th>\n",
       "      <th>Verbal Response</th>\n",
       "      <th>Urine_output</th>\n",
       "      <th>Height</th>\n",
       "      <th>Weight</th>\n",
       "      <th>PEEP</th>\n",
       "    </tr>\n",
       "  </thead>\n",
       "  <tbody>\n",
       "    <tr>\n",
       "      <th>566</th>\n",
       "      <td>3.0</td>\n",
       "      <td>6.0</td>\n",
       "      <td>3.0</td>\n",
       "      <td>NaN</td>\n",
       "      <td>175.0</td>\n",
       "      <td>90.0</td>\n",
       "      <td>NaN</td>\n",
       "    </tr>\n",
       "    <tr>\n",
       "      <th>567</th>\n",
       "      <td>2.0</td>\n",
       "      <td>5.0</td>\n",
       "      <td>3.0</td>\n",
       "      <td>NaN</td>\n",
       "      <td>NaN</td>\n",
       "      <td>NaN</td>\n",
       "      <td>NaN</td>\n",
       "    </tr>\n",
       "    <tr>\n",
       "      <th>568</th>\n",
       "      <td>3.0</td>\n",
       "      <td>5.0</td>\n",
       "      <td>4.0</td>\n",
       "      <td>NaN</td>\n",
       "      <td>NaN</td>\n",
       "      <td>NaN</td>\n",
       "      <td>NaN</td>\n",
       "    </tr>\n",
       "    <tr>\n",
       "      <th>569</th>\n",
       "      <td>2.0</td>\n",
       "      <td>5.0</td>\n",
       "      <td>3.0</td>\n",
       "      <td>NaN</td>\n",
       "      <td>NaN</td>\n",
       "      <td>NaN</td>\n",
       "      <td>8.027273</td>\n",
       "    </tr>\n",
       "    <tr>\n",
       "      <th>570</th>\n",
       "      <td>NaN</td>\n",
       "      <td>NaN</td>\n",
       "      <td>NaN</td>\n",
       "      <td>NaN</td>\n",
       "      <td>NaN</td>\n",
       "      <td>NaN</td>\n",
       "      <td>7.994118</td>\n",
       "    </tr>\n",
       "    <tr>\n",
       "      <th>571</th>\n",
       "      <td>3.0</td>\n",
       "      <td>5.0</td>\n",
       "      <td>4.0</td>\n",
       "      <td>NaN</td>\n",
       "      <td>NaN</td>\n",
       "      <td>NaN</td>\n",
       "      <td>7.851429</td>\n",
       "    </tr>\n",
       "    <tr>\n",
       "      <th>572</th>\n",
       "      <td>NaN</td>\n",
       "      <td>NaN</td>\n",
       "      <td>NaN</td>\n",
       "      <td>NaN</td>\n",
       "      <td>NaN</td>\n",
       "      <td>NaN</td>\n",
       "      <td>7.775862</td>\n",
       "    </tr>\n",
       "    <tr>\n",
       "      <th>573</th>\n",
       "      <td>3.0</td>\n",
       "      <td>5.0</td>\n",
       "      <td>4.0</td>\n",
       "      <td>NaN</td>\n",
       "      <td>NaN</td>\n",
       "      <td>NaN</td>\n",
       "      <td>NaN</td>\n",
       "    </tr>\n",
       "    <tr>\n",
       "      <th>574</th>\n",
       "      <td>4.0</td>\n",
       "      <td>6.0</td>\n",
       "      <td>4.0</td>\n",
       "      <td>NaN</td>\n",
       "      <td>NaN</td>\n",
       "      <td>NaN</td>\n",
       "      <td>NaN</td>\n",
       "    </tr>\n",
       "    <tr>\n",
       "      <th>575</th>\n",
       "      <td>4.0</td>\n",
       "      <td>6.0</td>\n",
       "      <td>4.0</td>\n",
       "      <td>2.727273</td>\n",
       "      <td>NaN</td>\n",
       "      <td>NaN</td>\n",
       "      <td>NaN</td>\n",
       "    </tr>\n",
       "    <tr>\n",
       "      <th>576</th>\n",
       "      <td>NaN</td>\n",
       "      <td>NaN</td>\n",
       "      <td>NaN</td>\n",
       "      <td>NaN</td>\n",
       "      <td>NaN</td>\n",
       "      <td>NaN</td>\n",
       "      <td>NaN</td>\n",
       "    </tr>\n",
       "    <tr>\n",
       "      <th>577</th>\n",
       "      <td>4.0</td>\n",
       "      <td>6.0</td>\n",
       "      <td>4.0</td>\n",
       "      <td>NaN</td>\n",
       "      <td>NaN</td>\n",
       "      <td>NaN</td>\n",
       "      <td>NaN</td>\n",
       "    </tr>\n",
       "    <tr>\n",
       "      <th>578</th>\n",
       "      <td>NaN</td>\n",
       "      <td>NaN</td>\n",
       "      <td>NaN</td>\n",
       "      <td>NaN</td>\n",
       "      <td>NaN</td>\n",
       "      <td>NaN</td>\n",
       "      <td>NaN</td>\n",
       "    </tr>\n",
       "    <tr>\n",
       "      <th>579</th>\n",
       "      <td>3.0</td>\n",
       "      <td>6.0</td>\n",
       "      <td>4.0</td>\n",
       "      <td>NaN</td>\n",
       "      <td>NaN</td>\n",
       "      <td>NaN</td>\n",
       "      <td>NaN</td>\n",
       "    </tr>\n",
       "    <tr>\n",
       "      <th>580</th>\n",
       "      <td>NaN</td>\n",
       "      <td>NaN</td>\n",
       "      <td>NaN</td>\n",
       "      <td>NaN</td>\n",
       "      <td>NaN</td>\n",
       "      <td>NaN</td>\n",
       "      <td>NaN</td>\n",
       "    </tr>\n",
       "    <tr>\n",
       "      <th>581</th>\n",
       "      <td>4.0</td>\n",
       "      <td>6.0</td>\n",
       "      <td>4.0</td>\n",
       "      <td>NaN</td>\n",
       "      <td>NaN</td>\n",
       "      <td>NaN</td>\n",
       "      <td>NaN</td>\n",
       "    </tr>\n",
       "    <tr>\n",
       "      <th>582</th>\n",
       "      <td>NaN</td>\n",
       "      <td>NaN</td>\n",
       "      <td>NaN</td>\n",
       "      <td>NaN</td>\n",
       "      <td>NaN</td>\n",
       "      <td>NaN</td>\n",
       "      <td>NaN</td>\n",
       "    </tr>\n",
       "    <tr>\n",
       "      <th>583</th>\n",
       "      <td>4.0</td>\n",
       "      <td>6.0</td>\n",
       "      <td>4.0</td>\n",
       "      <td>0.000000</td>\n",
       "      <td>NaN</td>\n",
       "      <td>NaN</td>\n",
       "      <td>NaN</td>\n",
       "    </tr>\n",
       "    <tr>\n",
       "      <th>584</th>\n",
       "      <td>NaN</td>\n",
       "      <td>NaN</td>\n",
       "      <td>NaN</td>\n",
       "      <td>NaN</td>\n",
       "      <td>NaN</td>\n",
       "      <td>NaN</td>\n",
       "      <td>NaN</td>\n",
       "    </tr>\n",
       "    <tr>\n",
       "      <th>585</th>\n",
       "      <td>4.0</td>\n",
       "      <td>6.0</td>\n",
       "      <td>4.0</td>\n",
       "      <td>NaN</td>\n",
       "      <td>NaN</td>\n",
       "      <td>NaN</td>\n",
       "      <td>NaN</td>\n",
       "    </tr>\n",
       "    <tr>\n",
       "      <th>586</th>\n",
       "      <td>NaN</td>\n",
       "      <td>NaN</td>\n",
       "      <td>NaN</td>\n",
       "      <td>NaN</td>\n",
       "      <td>NaN</td>\n",
       "      <td>NaN</td>\n",
       "      <td>NaN</td>\n",
       "    </tr>\n",
       "    <tr>\n",
       "      <th>587</th>\n",
       "      <td>NaN</td>\n",
       "      <td>NaN</td>\n",
       "      <td>NaN</td>\n",
       "      <td>NaN</td>\n",
       "      <td>NaN</td>\n",
       "      <td>NaN</td>\n",
       "      <td>NaN</td>\n",
       "    </tr>\n",
       "    <tr>\n",
       "      <th>588</th>\n",
       "      <td>NaN</td>\n",
       "      <td>NaN</td>\n",
       "      <td>NaN</td>\n",
       "      <td>NaN</td>\n",
       "      <td>NaN</td>\n",
       "      <td>NaN</td>\n",
       "      <td>NaN</td>\n",
       "    </tr>\n",
       "    <tr>\n",
       "      <th>589</th>\n",
       "      <td>NaN</td>\n",
       "      <td>NaN</td>\n",
       "      <td>NaN</td>\n",
       "      <td>NaN</td>\n",
       "      <td>NaN</td>\n",
       "      <td>NaN</td>\n",
       "      <td>NaN</td>\n",
       "    </tr>\n",
       "    <tr>\n",
       "      <th>590</th>\n",
       "      <td>NaN</td>\n",
       "      <td>NaN</td>\n",
       "      <td>NaN</td>\n",
       "      <td>NaN</td>\n",
       "      <td>NaN</td>\n",
       "      <td>NaN</td>\n",
       "      <td>NaN</td>\n",
       "    </tr>\n",
       "    <tr>\n",
       "      <th>591</th>\n",
       "      <td>NaN</td>\n",
       "      <td>NaN</td>\n",
       "      <td>NaN</td>\n",
       "      <td>NaN</td>\n",
       "      <td>NaN</td>\n",
       "      <td>NaN</td>\n",
       "      <td>NaN</td>\n",
       "    </tr>\n",
       "    <tr>\n",
       "      <th>592</th>\n",
       "      <td>NaN</td>\n",
       "      <td>NaN</td>\n",
       "      <td>NaN</td>\n",
       "      <td>NaN</td>\n",
       "      <td>NaN</td>\n",
       "      <td>NaN</td>\n",
       "      <td>NaN</td>\n",
       "    </tr>\n",
       "    <tr>\n",
       "      <th>593</th>\n",
       "      <td>NaN</td>\n",
       "      <td>NaN</td>\n",
       "      <td>NaN</td>\n",
       "      <td>NaN</td>\n",
       "      <td>NaN</td>\n",
       "      <td>NaN</td>\n",
       "      <td>NaN</td>\n",
       "    </tr>\n",
       "    <tr>\n",
       "      <th>594</th>\n",
       "      <td>NaN</td>\n",
       "      <td>NaN</td>\n",
       "      <td>NaN</td>\n",
       "      <td>NaN</td>\n",
       "      <td>NaN</td>\n",
       "      <td>NaN</td>\n",
       "      <td>NaN</td>\n",
       "    </tr>\n",
       "    <tr>\n",
       "      <th>595</th>\n",
       "      <td>NaN</td>\n",
       "      <td>NaN</td>\n",
       "      <td>NaN</td>\n",
       "      <td>NaN</td>\n",
       "      <td>NaN</td>\n",
       "      <td>NaN</td>\n",
       "      <td>NaN</td>\n",
       "    </tr>\n",
       "    <tr>\n",
       "      <th>596</th>\n",
       "      <td>NaN</td>\n",
       "      <td>NaN</td>\n",
       "      <td>5.0</td>\n",
       "      <td>NaN</td>\n",
       "      <td>NaN</td>\n",
       "      <td>NaN</td>\n",
       "      <td>NaN</td>\n",
       "    </tr>\n",
       "    <tr>\n",
       "      <th>597</th>\n",
       "      <td>4.0</td>\n",
       "      <td>6.0</td>\n",
       "      <td>5.0</td>\n",
       "      <td>NaN</td>\n",
       "      <td>NaN</td>\n",
       "      <td>NaN</td>\n",
       "      <td>NaN</td>\n",
       "    </tr>\n",
       "    <tr>\n",
       "      <th>598</th>\n",
       "      <td>NaN</td>\n",
       "      <td>NaN</td>\n",
       "      <td>NaN</td>\n",
       "      <td>NaN</td>\n",
       "      <td>NaN</td>\n",
       "      <td>NaN</td>\n",
       "      <td>NaN</td>\n",
       "    </tr>\n",
       "    <tr>\n",
       "      <th>599</th>\n",
       "      <td>3.0</td>\n",
       "      <td>NaN</td>\n",
       "      <td>NaN</td>\n",
       "      <td>NaN</td>\n",
       "      <td>NaN</td>\n",
       "      <td>NaN</td>\n",
       "      <td>NaN</td>\n",
       "    </tr>\n",
       "    <tr>\n",
       "      <th>600</th>\n",
       "      <td>NaN</td>\n",
       "      <td>NaN</td>\n",
       "      <td>NaN</td>\n",
       "      <td>NaN</td>\n",
       "      <td>NaN</td>\n",
       "      <td>NaN</td>\n",
       "      <td>NaN</td>\n",
       "    </tr>\n",
       "    <tr>\n",
       "      <th>601</th>\n",
       "      <td>4.0</td>\n",
       "      <td>6.0</td>\n",
       "      <td>5.0</td>\n",
       "      <td>NaN</td>\n",
       "      <td>NaN</td>\n",
       "      <td>NaN</td>\n",
       "      <td>NaN</td>\n",
       "    </tr>\n",
       "    <tr>\n",
       "      <th>602</th>\n",
       "      <td>NaN</td>\n",
       "      <td>NaN</td>\n",
       "      <td>NaN</td>\n",
       "      <td>NaN</td>\n",
       "      <td>NaN</td>\n",
       "      <td>NaN</td>\n",
       "      <td>NaN</td>\n",
       "    </tr>\n",
       "    <tr>\n",
       "      <th>603</th>\n",
       "      <td>4.0</td>\n",
       "      <td>6.0</td>\n",
       "      <td>5.0</td>\n",
       "      <td>NaN</td>\n",
       "      <td>NaN</td>\n",
       "      <td>NaN</td>\n",
       "      <td>NaN</td>\n",
       "    </tr>\n",
       "    <tr>\n",
       "      <th>604</th>\n",
       "      <td>NaN</td>\n",
       "      <td>NaN</td>\n",
       "      <td>NaN</td>\n",
       "      <td>NaN</td>\n",
       "      <td>NaN</td>\n",
       "      <td>NaN</td>\n",
       "      <td>NaN</td>\n",
       "    </tr>\n",
       "    <tr>\n",
       "      <th>605</th>\n",
       "      <td>4.0</td>\n",
       "      <td>6.0</td>\n",
       "      <td>5.0</td>\n",
       "      <td>NaN</td>\n",
       "      <td>NaN</td>\n",
       "      <td>NaN</td>\n",
       "      <td>NaN</td>\n",
       "    </tr>\n",
       "    <tr>\n",
       "      <th>606</th>\n",
       "      <td>NaN</td>\n",
       "      <td>NaN</td>\n",
       "      <td>NaN</td>\n",
       "      <td>NaN</td>\n",
       "      <td>NaN</td>\n",
       "      <td>NaN</td>\n",
       "      <td>NaN</td>\n",
       "    </tr>\n",
       "    <tr>\n",
       "      <th>607</th>\n",
       "      <td>4.0</td>\n",
       "      <td>6.0</td>\n",
       "      <td>5.0</td>\n",
       "      <td>NaN</td>\n",
       "      <td>NaN</td>\n",
       "      <td>NaN</td>\n",
       "      <td>NaN</td>\n",
       "    </tr>\n",
       "    <tr>\n",
       "      <th>608</th>\n",
       "      <td>NaN</td>\n",
       "      <td>NaN</td>\n",
       "      <td>NaN</td>\n",
       "      <td>NaN</td>\n",
       "      <td>NaN</td>\n",
       "      <td>NaN</td>\n",
       "      <td>NaN</td>\n",
       "    </tr>\n",
       "    <tr>\n",
       "      <th>609</th>\n",
       "      <td>4.0</td>\n",
       "      <td>6.0</td>\n",
       "      <td>5.0</td>\n",
       "      <td>NaN</td>\n",
       "      <td>NaN</td>\n",
       "      <td>NaN</td>\n",
       "      <td>NaN</td>\n",
       "    </tr>\n",
       "    <tr>\n",
       "      <th>610</th>\n",
       "      <td>4.0</td>\n",
       "      <td>6.0</td>\n",
       "      <td>5.0</td>\n",
       "      <td>NaN</td>\n",
       "      <td>NaN</td>\n",
       "      <td>NaN</td>\n",
       "      <td>NaN</td>\n",
       "    </tr>\n",
       "    <tr>\n",
       "      <th>611</th>\n",
       "      <td>NaN</td>\n",
       "      <td>NaN</td>\n",
       "      <td>NaN</td>\n",
       "      <td>NaN</td>\n",
       "      <td>NaN</td>\n",
       "      <td>NaN</td>\n",
       "      <td>NaN</td>\n",
       "    </tr>\n",
       "    <tr>\n",
       "      <th>612</th>\n",
       "      <td>NaN</td>\n",
       "      <td>NaN</td>\n",
       "      <td>NaN</td>\n",
       "      <td>NaN</td>\n",
       "      <td>NaN</td>\n",
       "      <td>NaN</td>\n",
       "      <td>NaN</td>\n",
       "    </tr>\n",
       "    <tr>\n",
       "      <th>613</th>\n",
       "      <td>NaN</td>\n",
       "      <td>NaN</td>\n",
       "      <td>NaN</td>\n",
       "      <td>NaN</td>\n",
       "      <td>NaN</td>\n",
       "      <td>NaN</td>\n",
       "      <td>NaN</td>\n",
       "    </tr>\n",
       "    <tr>\n",
       "      <th>614</th>\n",
       "      <td>4.0</td>\n",
       "      <td>6.0</td>\n",
       "      <td>5.0</td>\n",
       "      <td>NaN</td>\n",
       "      <td>NaN</td>\n",
       "      <td>NaN</td>\n",
       "      <td>NaN</td>\n",
       "    </tr>\n",
       "    <tr>\n",
       "      <th>615</th>\n",
       "      <td>NaN</td>\n",
       "      <td>NaN</td>\n",
       "      <td>NaN</td>\n",
       "      <td>NaN</td>\n",
       "      <td>NaN</td>\n",
       "      <td>NaN</td>\n",
       "      <td>NaN</td>\n",
       "    </tr>\n",
       "    <tr>\n",
       "      <th>616</th>\n",
       "      <td>NaN</td>\n",
       "      <td>NaN</td>\n",
       "      <td>NaN</td>\n",
       "      <td>NaN</td>\n",
       "      <td>NaN</td>\n",
       "      <td>NaN</td>\n",
       "      <td>NaN</td>\n",
       "    </tr>\n",
       "    <tr>\n",
       "      <th>617</th>\n",
       "      <td>NaN</td>\n",
       "      <td>NaN</td>\n",
       "      <td>NaN</td>\n",
       "      <td>NaN</td>\n",
       "      <td>NaN</td>\n",
       "      <td>NaN</td>\n",
       "      <td>NaN</td>\n",
       "    </tr>\n",
       "    <tr>\n",
       "      <th>618</th>\n",
       "      <td>NaN</td>\n",
       "      <td>NaN</td>\n",
       "      <td>NaN</td>\n",
       "      <td>NaN</td>\n",
       "      <td>NaN</td>\n",
       "      <td>NaN</td>\n",
       "      <td>NaN</td>\n",
       "    </tr>\n",
       "    <tr>\n",
       "      <th>619</th>\n",
       "      <td>4.0</td>\n",
       "      <td>6.0</td>\n",
       "      <td>5.0</td>\n",
       "      <td>NaN</td>\n",
       "      <td>NaN</td>\n",
       "      <td>NaN</td>\n",
       "      <td>NaN</td>\n",
       "    </tr>\n",
       "    <tr>\n",
       "      <th>620</th>\n",
       "      <td>NaN</td>\n",
       "      <td>NaN</td>\n",
       "      <td>NaN</td>\n",
       "      <td>NaN</td>\n",
       "      <td>NaN</td>\n",
       "      <td>NaN</td>\n",
       "      <td>NaN</td>\n",
       "    </tr>\n",
       "    <tr>\n",
       "      <th>621</th>\n",
       "      <td>4.0</td>\n",
       "      <td>6.0</td>\n",
       "      <td>5.0</td>\n",
       "      <td>NaN</td>\n",
       "      <td>NaN</td>\n",
       "      <td>NaN</td>\n",
       "      <td>NaN</td>\n",
       "    </tr>\n",
       "  </tbody>\n",
       "</table>\n",
       "</div>"
      ],
      "text/plain": [
       "     Eye Opening  Mortor Response  Verbal Response  Urine_output  Height  \\\n",
       "566          3.0              6.0              3.0           NaN   175.0   \n",
       "567          2.0              5.0              3.0           NaN     NaN   \n",
       "568          3.0              5.0              4.0           NaN     NaN   \n",
       "569          2.0              5.0              3.0           NaN     NaN   \n",
       "570          NaN              NaN              NaN           NaN     NaN   \n",
       "571          3.0              5.0              4.0           NaN     NaN   \n",
       "572          NaN              NaN              NaN           NaN     NaN   \n",
       "573          3.0              5.0              4.0           NaN     NaN   \n",
       "574          4.0              6.0              4.0           NaN     NaN   \n",
       "575          4.0              6.0              4.0      2.727273     NaN   \n",
       "576          NaN              NaN              NaN           NaN     NaN   \n",
       "577          4.0              6.0              4.0           NaN     NaN   \n",
       "578          NaN              NaN              NaN           NaN     NaN   \n",
       "579          3.0              6.0              4.0           NaN     NaN   \n",
       "580          NaN              NaN              NaN           NaN     NaN   \n",
       "581          4.0              6.0              4.0           NaN     NaN   \n",
       "582          NaN              NaN              NaN           NaN     NaN   \n",
       "583          4.0              6.0              4.0      0.000000     NaN   \n",
       "584          NaN              NaN              NaN           NaN     NaN   \n",
       "585          4.0              6.0              4.0           NaN     NaN   \n",
       "586          NaN              NaN              NaN           NaN     NaN   \n",
       "587          NaN              NaN              NaN           NaN     NaN   \n",
       "588          NaN              NaN              NaN           NaN     NaN   \n",
       "589          NaN              NaN              NaN           NaN     NaN   \n",
       "590          NaN              NaN              NaN           NaN     NaN   \n",
       "591          NaN              NaN              NaN           NaN     NaN   \n",
       "592          NaN              NaN              NaN           NaN     NaN   \n",
       "593          NaN              NaN              NaN           NaN     NaN   \n",
       "594          NaN              NaN              NaN           NaN     NaN   \n",
       "595          NaN              NaN              NaN           NaN     NaN   \n",
       "596          NaN              NaN              5.0           NaN     NaN   \n",
       "597          4.0              6.0              5.0           NaN     NaN   \n",
       "598          NaN              NaN              NaN           NaN     NaN   \n",
       "599          3.0              NaN              NaN           NaN     NaN   \n",
       "600          NaN              NaN              NaN           NaN     NaN   \n",
       "601          4.0              6.0              5.0           NaN     NaN   \n",
       "602          NaN              NaN              NaN           NaN     NaN   \n",
       "603          4.0              6.0              5.0           NaN     NaN   \n",
       "604          NaN              NaN              NaN           NaN     NaN   \n",
       "605          4.0              6.0              5.0           NaN     NaN   \n",
       "606          NaN              NaN              NaN           NaN     NaN   \n",
       "607          4.0              6.0              5.0           NaN     NaN   \n",
       "608          NaN              NaN              NaN           NaN     NaN   \n",
       "609          4.0              6.0              5.0           NaN     NaN   \n",
       "610          4.0              6.0              5.0           NaN     NaN   \n",
       "611          NaN              NaN              NaN           NaN     NaN   \n",
       "612          NaN              NaN              NaN           NaN     NaN   \n",
       "613          NaN              NaN              NaN           NaN     NaN   \n",
       "614          4.0              6.0              5.0           NaN     NaN   \n",
       "615          NaN              NaN              NaN           NaN     NaN   \n",
       "616          NaN              NaN              NaN           NaN     NaN   \n",
       "617          NaN              NaN              NaN           NaN     NaN   \n",
       "618          NaN              NaN              NaN           NaN     NaN   \n",
       "619          4.0              6.0              5.0           NaN     NaN   \n",
       "620          NaN              NaN              NaN           NaN     NaN   \n",
       "621          4.0              6.0              5.0           NaN     NaN   \n",
       "\n",
       "     Weight      PEEP  \n",
       "566    90.0       NaN  \n",
       "567     NaN       NaN  \n",
       "568     NaN       NaN  \n",
       "569     NaN  8.027273  \n",
       "570     NaN  7.994118  \n",
       "571     NaN  7.851429  \n",
       "572     NaN  7.775862  \n",
       "573     NaN       NaN  \n",
       "574     NaN       NaN  \n",
       "575     NaN       NaN  \n",
       "576     NaN       NaN  \n",
       "577     NaN       NaN  \n",
       "578     NaN       NaN  \n",
       "579     NaN       NaN  \n",
       "580     NaN       NaN  \n",
       "581     NaN       NaN  \n",
       "582     NaN       NaN  \n",
       "583     NaN       NaN  \n",
       "584     NaN       NaN  \n",
       "585     NaN       NaN  \n",
       "586     NaN       NaN  \n",
       "587     NaN       NaN  \n",
       "588     NaN       NaN  \n",
       "589     NaN       NaN  \n",
       "590     NaN       NaN  \n",
       "591     NaN       NaN  \n",
       "592     NaN       NaN  \n",
       "593     NaN       NaN  \n",
       "594     NaN       NaN  \n",
       "595     NaN       NaN  \n",
       "596     NaN       NaN  \n",
       "597     NaN       NaN  \n",
       "598     NaN       NaN  \n",
       "599     NaN       NaN  \n",
       "600     NaN       NaN  \n",
       "601     NaN       NaN  \n",
       "602     NaN       NaN  \n",
       "603     NaN       NaN  \n",
       "604     NaN       NaN  \n",
       "605     NaN       NaN  \n",
       "606     NaN       NaN  \n",
       "607     NaN       NaN  \n",
       "608     NaN       NaN  \n",
       "609     NaN       NaN  \n",
       "610     NaN       NaN  \n",
       "611     NaN       NaN  \n",
       "612     NaN       NaN  \n",
       "613     NaN       NaN  \n",
       "614     NaN       NaN  \n",
       "615     NaN       NaN  \n",
       "616     NaN       NaN  \n",
       "617     NaN       NaN  \n",
       "618     NaN       NaN  \n",
       "619     NaN       NaN  \n",
       "620     NaN       NaN  \n",
       "621     NaN       NaN  "
      ]
     },
     "execution_count": 17,
     "metadata": {},
     "output_type": "execute_result"
    }
   ],
   "source": [
    "interest = part[part['patientid']==part.patientid.unique()[3]]\n",
    "interest[chart]"
   ]
  },
  {
   "cell_type": "code",
   "execution_count": null,
   "metadata": {},
   "outputs": [],
   "source": []
  }
 ],
 "metadata": {
  "kernelspec": {
   "display_name": "MIMIC",
   "language": "python",
   "name": "python3"
  },
  "language_info": {
   "codemirror_mode": {
    "name": "ipython",
    "version": 3
   },
   "file_extension": ".py",
   "mimetype": "text/x-python",
   "name": "python",
   "nbconvert_exporter": "python",
   "pygments_lexer": "ipython3",
   "version": "3.8.16"
  }
 },
 "nbformat": 4,
 "nbformat_minor": 2
}
